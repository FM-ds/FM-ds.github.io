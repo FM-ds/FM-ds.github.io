{
 "cells": [
  {
   "cell_type": "code",
   "execution_count": 73,
   "metadata": {},
   "outputs": [],
   "source": [
    "import pandas as pd\n",
    "import os\n",
    "\n",
    "from sklearn.feature_extraction.text import TfidfVectorizer\n",
    "import numpy as np\n",
    "\n",
    "from collections import Counter"
   ]
  },
  {
   "attachments": {},
   "cell_type": "markdown",
   "metadata": {},
   "source": [
    "### Classifying Scientists\n",
    "Aim: To classify Scientists into those with links to Germany and those without links to Germany."
   ]
  },
  {
   "attachments": {},
   "cell_type": "markdown",
   "metadata": {},
   "source": [
    "<b> First Loading in each xlsx into 1 dataframe </b>\n",
    "\n",
    "Loading the excel sheets into dataframes, fixing the column names and adding a column to indicate the source file.\n",
    "\n",
    "[ The Ocr_Index is a guess - it's not defined for manually inserted rows so am assuming it's from the OCR process(?) - won't matter either way. ]"
   ]
  },
  {
   "cell_type": "code",
   "execution_count": 74,
   "metadata": {},
   "outputs": [
    {
     "data": {
      "text/html": [
       "<div>\n",
       "<style scoped>\n",
       "    .dataframe tbody tr th:only-of-type {\n",
       "        vertical-align: middle;\n",
       "    }\n",
       "\n",
       "    .dataframe tbody tr th {\n",
       "        vertical-align: top;\n",
       "    }\n",
       "\n",
       "    .dataframe thead th {\n",
       "        text-align: right;\n",
       "    }\n",
       "</style>\n",
       "<table border=\"1\" class=\"dataframe\">\n",
       "  <thead>\n",
       "    <tr style=\"text-align: right;\">\n",
       "      <th></th>\n",
       "      <th>Ocr_Index</th>\n",
       "      <th>Page</th>\n",
       "      <th>Surname</th>\n",
       "      <th>Other_Names</th>\n",
       "      <th>Affiliation</th>\n",
       "      <th>Field</th>\n",
       "      <th>Full_Text</th>\n",
       "      <th>Indicator</th>\n",
       "      <th>sheet_name</th>\n",
       "      <th>EMPTY</th>\n",
       "      <th>Cleaning_Comments</th>\n",
       "    </tr>\n",
       "  </thead>\n",
       "  <tbody>\n",
       "    <tr>\n",
       "      <th>0</th>\n",
       "      <td>22968.0</td>\n",
       "      <td>1200</td>\n",
       "      <td>Rogers</td>\n",
       "      <td>Prof. Charles E(dwin)</td>\n",
       "      <td>33 Concord St</td>\n",
       "      <td>CIVIL ENGINEERING</td>\n",
       "      <td>Saratoga Co, N. Y, June 5, 74. C.E, Rensselaer...</td>\n",
       "      <td>0.0</td>\n",
       "      <td>6_1200_1400</td>\n",
       "      <td>Unnamed: 9</td>\n",
       "      <td>Unnamed: 10</td>\n",
       "    </tr>\n",
       "    <tr>\n",
       "      <th>1</th>\n",
       "      <td>22969.0</td>\n",
       "      <td>1200</td>\n",
       "      <td>Rogers</td>\n",
       "      <td>Charles F(letcher)</td>\n",
       "      <td>University Farm</td>\n",
       "      <td>BIOCHEMISTRY</td>\n",
       "      <td>Denver, Colo, June 15, 02. A.B, Nebr. Wesleyan...</td>\n",
       "      <td>0.0</td>\n",
       "      <td>6_1200_1400</td>\n",
       "      <td>NaN</td>\n",
       "      <td>NaN</td>\n",
       "    </tr>\n",
       "    <tr>\n",
       "      <th>2</th>\n",
       "      <td>22970.0</td>\n",
       "      <td>1200</td>\n",
       "      <td>Rogers</td>\n",
       "      <td>Prof. C(harles) G(ardner)</td>\n",
       "      <td>378 Reamer Place</td>\n",
       "      <td>PHYSIOLOGY</td>\n",
       "      <td>Perry, N. Y, March 4, 75. A.B, Syracuse, 97, A...</td>\n",
       "      <td>0.0</td>\n",
       "      <td>6_1200_1400</td>\n",
       "      <td>NaN</td>\n",
       "      <td>NaN</td>\n",
       "    </tr>\n",
       "  </tbody>\n",
       "</table>\n",
       "</div>"
      ],
      "text/plain": [
       "  Ocr_Index  Page Surname                 Other_Names        Affiliation  \\\n",
       "0   22968.0  1200  Rogers       Prof. Charles E(dwin)      33 Concord St   \n",
       "1   22969.0  1200  Rogers          Charles F(letcher)    University Farm   \n",
       "2   22970.0  1200  Rogers   Prof. C(harles) G(ardner)   378 Reamer Place   \n",
       "\n",
       "               Field                                          Full_Text  \\\n",
       "0  CIVIL ENGINEERING  Saratoga Co, N. Y, June 5, 74. C.E, Rensselaer...   \n",
       "1       BIOCHEMISTRY  Denver, Colo, June 15, 02. A.B, Nebr. Wesleyan...   \n",
       "2         PHYSIOLOGY  Perry, N. Y, March 4, 75. A.B, Syracuse, 97, A...   \n",
       "\n",
       "  Indicator   sheet_name       EMPTY Cleaning_Comments  \n",
       "0       0.0  6_1200_1400  Unnamed: 9       Unnamed: 10  \n",
       "1       0.0  6_1200_1400         NaN               NaN  \n",
       "2       0.0  6_1200_1400         NaN               NaN  "
      ]
     },
     "execution_count": 74,
     "metadata": {},
     "output_type": "execute_result"
    }
   ],
   "source": [
    "cols = ['Ocr_Index', 'Page', 'Surname', 'Other_Names', 'Affiliation', 'Field', 'Full_Text', 'Indicator', 'sheet_name', 'EMPTY', 'Cleaning_Comments']\n",
    "# get all xls in the folder\n",
    "sheet_paths = [f for f in os.listdir(\n",
    "    '.') if os.path.isfile(f) and f.endswith('.xls')]\n",
    "dfs = []\n",
    "for sheet_path in sheet_paths:\n",
    "    df = pd.read_excel(sheet_path)\n",
    "\n",
    "    df.loc[-1] = df.columns.tolist() # the sheets have no header, so pandas is using the first row as header\n",
    "    df.index = df.index + 1  # so we have to re-add the columns as the first row\n",
    "    df.sort_index(inplace=True)\n",
    "\n",
    "    df_cols = cols[:len(df.columns)] # then fill in the correct column names\n",
    "    df.columns = df_cols\n",
    "\n",
    "    dfs.append(df)\n",
    "# concat all dataframes\n",
    "df = pd.concat(dfs, ignore_index=True)\n",
    "df.head(3)"
   ]
  },
  {
   "attachments": {},
   "cell_type": "markdown",
   "metadata": {},
   "source": [
    "and just fixing str types and making Full_Text lower case"
   ]
  },
  {
   "cell_type": "code",
   "execution_count": 75,
   "metadata": {},
   "outputs": [],
   "source": [
    "# Converting NaNs and other to empty strings\n",
    "df = df.fillna('')\n",
    "\n",
    "df['Full_Text'] = df['Full_Text'].str.lower()"
   ]
  },
  {
   "attachments": {},
   "cell_type": "markdown",
   "metadata": {},
   "source": [
    "<img src=\"https://raw.githubusercontent.com/FM-ds/FM-ds.github.io/main/misc_resource/men_of_science.png\"> </img>"
   ]
  },
  {
   "attachments": {},
   "cell_type": "markdown",
   "metadata": {},
   "source": [
    "## First Approach: Just search for 'Germany', 'German' and 'Deutschland' etc\n",
    "This is easy, and should be a good start.  There are likely unlabeled Germans in the dataset but unsure how many so far. Doing this will yield a list of institutions which can be searched for in futher steps\n",
    "\n",
    "e.g: if a \"Gortmund, Germany\" is found, then scientists with just \"Gortmund\" later on can be classified as German"
   ]
  },
  {
   "cell_type": "code",
   "execution_count": 76,
   "metadata": {},
   "outputs": [],
   "source": [
    "search_terms = [\"German\", \"Germany\", \"Deutschland\"]\n",
    "search_terms = [term.lower() for term in search_terms]"
   ]
  },
  {
   "cell_type": "code",
   "execution_count": 77,
   "metadata": {},
   "outputs": [],
   "source": [
    "def is_de(full_text, search_terms):\n",
    "    global counter\n",
    "    counter+=1\n",
    "    if(counter%5000==0):\n",
    "        print(f\"Processed {counter} Rows\")\n",
    "    matched_terms = []\n",
    "    for term in search_terms:\n",
    "        if term in full_text:\n",
    "            matched_terms.append(term)\n",
    "    return matched_terms"
   ]
  },
  {
   "cell_type": "code",
   "execution_count": 78,
   "metadata": {},
   "outputs": [
    {
     "name": "stdout",
     "output_type": "stream",
     "text": [
      "Processed 5000 Rows\n",
      "Processed 10000 Rows\n",
      "Processed 15000 Rows\n",
      "Processed 20000 Rows\n",
      "Processed 25000 Rows\n"
     ]
    },
    {
     "data": {
      "text/plain": [
       "False    27267\n",
       "True       463\n",
       "Name: de, dtype: int64"
      ]
     },
     "execution_count": 78,
     "metadata": {},
     "output_type": "execute_result"
    }
   ],
   "source": [
    "# Filter for rows where full_text contains any of the search terms\n",
    "counter = 0\n",
    "df['matched_terms'] = df.apply(lambda x: is_de(x['Full_Text'], search_terms), axis=1)\n",
    "df['de'] = df.apply(lambda x: len(x['matched_terms']) > 0, axis=1)\n",
    "df['de'].value_counts()"
   ]
  },
  {
   "attachments": {},
   "cell_type": "markdown",
   "metadata": {},
   "source": [
    "Here we've only matched 436 of the 27,000 - around 1.7% which is almost definitely an undercount.\n",
    "However, if we compare term frequencies in matched rows with non-matched rows we can gain an insight into other terms to consider.\n",
    "\n",
    "We can do this by using term frequency-inverse document frequency (tf-idf) which is a measure of how important a term is to a document in a collection or corpus.  If we find tf-idf for each full-text row, we can compare the tf-idf of the matched rows with the non-matched rows."
   ]
  },
  {
   "cell_type": "code",
   "execution_count": 79,
   "metadata": {},
   "outputs": [],
   "source": [
    "# Find term counts in de=True rows\n",
    "# Calculate tf–idf for rows with German and non-German matches\n",
    "v = TfidfVectorizer()\n",
    "tf_idf = v.fit_transform(df['Full_Text'])"
   ]
  },
  {
   "attachments": {},
   "cell_type": "markdown",
   "metadata": {},
   "source": [
    "Now We can put this in its own data frame to find the 10 terms in the matched rows and the top terms in the non-matched rows. This takes about 40 seconds to run on my laptop."
   ]
  },
  {
   "cell_type": "code",
   "execution_count": 80,
   "metadata": {},
   "outputs": [
    {
     "name": "stderr",
     "output_type": "stream",
     "text": [
      "/opt/anaconda3/lib/python3.9/site-packages/sklearn/utils/deprecation.py:87: FutureWarning: Function get_feature_names is deprecated; get_feature_names is deprecated in 1.0 and will be removed in 1.2. Please use get_feature_names_out instead.\n",
      "  warnings.warn(msg, category=FutureWarning)\n"
     ]
    }
   ],
   "source": [
    "tf_idf_df = pd.DataFrame(tf_idf.toarray(), columns=v.get_feature_names())\n",
    "tf_idf_df.head(3)\n",
    "# Merge de from df with tf_idf_df\n",
    "tf_idf_df = tf_idf_df.merge(df[['de']], left_index=True, right_index=True)\n",
    "\n",
    "tf_grouped_df = tf_idf_df.groupby('de_y').mean().T\n",
    "tf_grouped_df.columns = ['Not Matched', 'Matched']\n",
    "\n",
    "tf_grouped_df['diff'] = tf_grouped_df['Matched']-tf_grouped_df['Not Matched']\n",
    "tf_grouped_df = tf_grouped_df.sort_values(by=['diff'], ascending=False)\n",
    "tf_grouped_df.head(25)"
   ]
  },
  {
   "attachments": {},
   "cell_type": "markdown",
   "metadata": {},
   "source": [
    "There aren't any huge surprises here but probably sensible to start grabbing terms from this list to build a bigger list."
   ]
  },
  {
   "attachments": {},
   "cell_type": "markdown",
   "metadata": {},
   "source": [
    "### 2. Expanding our Term List with the tf-idf Insights"
   ]
  },
  {
   "attachments": {},
   "cell_type": "markdown",
   "metadata": {},
   "source": [
    "From this list I've selected ~35 terms that are unambiguous and are likely to be good indicators of German scientists. Let's expand our search to include these terms and see how many more we can find."
   ]
  },
  {
   "cell_type": "code",
   "execution_count": 83,
   "metadata": {},
   "outputs": [],
   "source": [
    "new_terms = ['germany',  'berlin',  'german',  'munich',  'gottingen',  'deuts',  'hamburg',  'heidelberg',  'hochschule',  'freiburg',  'breslau',  'kiel',  'karlsruhe',  'stuttgart',  'darmstadt',  'leipzig',  'baden',  'tubingen',  'dresden',  'cologne',  'erlangen',  'montefiore',  'strassburg',  'wiesbaden',  'charlottenburg',  'hanover',  'chemnitz',  'bielefeld',  'konigsberg',  'gnissau',  'bavarian',  'eberswalde',  'schoeneberg',  'braunschweig'] \n",
    "search_terms = list(set(search_terms + new_terms))"
   ]
  },
  {
   "cell_type": "code",
   "execution_count": 84,
   "metadata": {},
   "outputs": [
    {
     "name": "stdout",
     "output_type": "stream",
     "text": [
      "Processed 5000 Rows\n",
      "Processed 10000 Rows\n",
      "Processed 15000 Rows\n",
      "Processed 20000 Rows\n",
      "Processed 25000 Rows\n"
     ]
    },
    {
     "data": {
      "text/plain": [
       "False    25803\n",
       "True      1927\n",
       "Name: de_2, dtype: int64"
      ]
     },
     "execution_count": 84,
     "metadata": {},
     "output_type": "execute_result"
    }
   ],
   "source": [
    "# Filter for rows where full_text contains any of the search terms\n",
    "counter = 0\n",
    "df['matched_terms'] = df.apply(lambda x: is_de(x['Full_Text'], search_terms), axis=1)\n",
    "df['de_2'] = df.apply(lambda x: len(x['matched_terms']) > 0, axis=1)\n",
    "df['de_2'].value_counts()"
   ]
  },
  {
   "attachments": {},
   "cell_type": "markdown",
   "metadata": {},
   "source": [
    "1927 matches is a lot better! 7.5% is much higher than 1.6%. Let's look at a random sample of these rows to check the match:"
   ]
  },
  {
   "cell_type": "code",
   "execution_count": 85,
   "metadata": {},
   "outputs": [
    {
     "data": {
      "text/html": [
       "<div>\n",
       "<style scoped>\n",
       "    .dataframe tbody tr th:only-of-type {\n",
       "        vertical-align: middle;\n",
       "    }\n",
       "\n",
       "    .dataframe tbody tr th {\n",
       "        vertical-align: top;\n",
       "    }\n",
       "\n",
       "    .dataframe thead th {\n",
       "        text-align: right;\n",
       "    }\n",
       "</style>\n",
       "<table border=\"1\" class=\"dataframe\">\n",
       "  <thead>\n",
       "    <tr style=\"text-align: right;\">\n",
       "      <th></th>\n",
       "      <th>Surname</th>\n",
       "      <th>Other_Names</th>\n",
       "      <th>Affiliation</th>\n",
       "      <th>Full_Text</th>\n",
       "    </tr>\n",
       "  </thead>\n",
       "  <tbody>\n",
       "    <tr>\n",
       "      <th>19336</th>\n",
       "      <td>Alsberg</td>\n",
       "      <td>Dr. C(arl) L(ucas)</td>\n",
       "      <td>Calif. ‘. ^@</td>\n",
       "      <td>new york, n. y, april 2. 77. a ll, colrnn- .'k...</td>\n",
       "    </tr>\n",
       "    <tr>\n",
       "      <th>15837</th>\n",
       "      <td>Mumford</td>\n",
       "      <td>Dr. F(rederick) B(lackmar)</td>\n",
       "      <td>812 College Ave</td>\n",
       "      <td>moscow, mich, may 28, 68. b.s, mich. state col...</td>\n",
       "    </tr>\n",
       "    <tr>\n",
       "      <th>19821</th>\n",
       "      <td>Babcock</td>\n",
       "      <td>Prof. H(arold) L(ester)</td>\n",
       "      <td>Woodleigh Road</td>\n",
       "      <td>holliston, mass, may 30, 86. worcester polytec...</td>\n",
       "    </tr>\n",
       "    <tr>\n",
       "      <th>6842</th>\n",
       "      <td>Koffka</td>\n",
       "      <td>Prof. K(urt)</td>\n",
       "      <td>57 Crescent St</td>\n",
       "      <td>berlin, germany, march 18, 86. edinburgh; frei...</td>\n",
       "    </tr>\n",
       "    <tr>\n",
       "      <th>26106</th>\n",
       "      <td>Garrey</td>\n",
       "      <td>Prof. W(alter) E(ugene)</td>\n",
       "      <td>Vanderbilt University School of Medicine</td>\n",
       "      <td>reeds- ville, wis, april 7, 73. b.s, lawrence ...</td>\n",
       "    </tr>\n",
       "    <tr>\n",
       "      <th>1219</th>\n",
       "      <td>Senior</td>\n",
       "      <td>Dr. James K(uhn)</td>\n",
       "      <td>5612 Kenwood Ave</td>\n",
       "      <td>cincinnati, ohio, sept. 15, 89. a.b, harvard, ...</td>\n",
       "    </tr>\n",
       "    <tr>\n",
       "      <th>13283</th>\n",
       "      <td>Miles</td>\n",
       "      <td>Dr. Catharine Cox (Mrs. Walter R(ichard) Miles)</td>\n",
       "      <td>Yale University</td>\n",
       "      <td>san jose, calif, may 20, 90. a.b, stanford, 12...</td>\n",
       "    </tr>\n",
       "    <tr>\n",
       "      <th>25076</th>\n",
       "      <td>Fernelius</td>\n",
       "      <td>Dr. W(illis) Conrad</td>\n",
       "      <td>Ohio State University</td>\n",
       "      <td>riverdale, utah, aug. 7, 05. a.b, stanford, 26...</td>\n",
       "    </tr>\n",
       "    <tr>\n",
       "      <th>21406</th>\n",
       "      <td>Cavett</td>\n",
       "      <td>Dr. J(esse) W(illiam)</td>\n",
       "      <td>Dr. Salsbury’s Laboratories</td>\n",
       "      <td>kent. ind, march 6, 00. a.b, hanover col. (ind...</td>\n",
       "    </tr>\n",
       "    <tr>\n",
       "      <th>27050</th>\n",
       "      <td>Griffiths</td>\n",
       "      <td>Dr. Francis P(riday)</td>\n",
       "      <td>Oregon State Agricultural College</td>\n",
       "      <td>seattle, wash, july- 12, 04. b.s, washington (...</td>\n",
       "    </tr>\n",
       "    <tr>\n",
       "      <th>19922</th>\n",
       "      <td>Bailey</td>\n",
       "      <td>Prof. J(ames) R(obinson)</td>\n",
       "      <td>University of Texas</td>\n",
       "      <td>houston, texas, dec. 11, 68. a.b, texas, 91; p...</td>\n",
       "    </tr>\n",
       "    <tr>\n",
       "      <th>12797</th>\n",
       "      <td>Marx</td>\n",
       "      <td>Dr. Lore</td>\n",
       "      <td>University of Michigan</td>\n",
       "      <td>karlsruhe, germany, 99. inst. tech, karlsruhe,...</td>\n",
       "    </tr>\n",
       "    <tr>\n",
       "      <th>571</th>\n",
       "      <td>Sandstrom</td>\n",
       "      <td>Prof. W(illiam) M(artin)</td>\n",
       "      <td>University Farm</td>\n",
       "      <td>devils lake, n. dak, oct. 9, 97. a.b, st. olaf...</td>\n",
       "    </tr>\n",
       "    <tr>\n",
       "      <th>17104</th>\n",
       "      <td>Pawlowskl</td>\n",
       "      <td>Prof. Felix W(Iadyslaw)</td>\n",
       "      <td>University of Michigan</td>\n",
       "      <td>near warsaw, poland, july 23, 76. m. and e.e, ...</td>\n",
       "    </tr>\n",
       "    <tr>\n",
       "      <th>24866</th>\n",
       "      <td>Fairbank</td>\n",
       "      <td>H(erbert) S(inclair)</td>\n",
       "      <td>U. S. Department of Agri-culture. Washington</td>\n",
       "      <td>baltimore, md, sept. 16, 88. c.e, cornell, 10....</td>\n",
       "    </tr>\n",
       "    <tr>\n",
       "      <th>19523</th>\n",
       "      <td>Andrews</td>\n",
       "      <td>Prof. E(than) A(llen)</td>\n",
       "      <td>Johns Hopkins University</td>\n",
       "      <td>new york. n. y, sept. 10. 59. ph.b, yale, 81, ...</td>\n",
       "    </tr>\n",
       "    <tr>\n",
       "      <th>6051</th>\n",
       "      <td>Joy</td>\n",
       "      <td>Alfred H(arrison)</td>\n",
       "      <td>Mt. Wilson Observatory</td>\n",
       "      <td>greenville, 111, sept. 23, 82. ph.b, greenvill...</td>\n",
       "    </tr>\n",
       "    <tr>\n",
       "      <th>12771</th>\n",
       "      <td>Martin</td>\n",
       "      <td>Prof. R(obert) Earl</td>\n",
       "      <td>Hanover</td>\n",
       "      <td>monroe co, ind, aug. 18, 94. a.b, indiana, 17;...</td>\n",
       "    </tr>\n",
       "    <tr>\n",
       "      <th>1442</th>\n",
       "      <td>Shepard</td>\n",
       "      <td>Dr. N(orman) A(rthur)</td>\n",
       "      <td>93 Old Church Road</td>\n",
       "      <td>new haven, conn, april 8,90. ph.b, yale, 10, p...</td>\n",
       "    </tr>\n",
       "    <tr>\n",
       "      <th>3466</th>\n",
       "      <td>Harrington</td>\n",
       "      <td>Dr. Elmer A(dna)</td>\n",
       "      <td>6409 Beachwood Drive</td>\n",
       "      <td>winchendon, mass, oct. 7, 84. a.b, clark, 05, ...</td>\n",
       "    </tr>\n",
       "  </tbody>\n",
       "</table>\n",
       "</div>"
      ],
      "text/plain": [
       "          Surname                                       Other_Names  \\\n",
       "19336     Alsberg                                Dr. C(arl) L(ucas)   \n",
       "15837     Mumford                        Dr. F(rederick) B(lackmar)   \n",
       "19821     Babcock                           Prof. H(arold) L(ester)   \n",
       "6842       Koffka                                      Prof. K(urt)   \n",
       "26106      Garrey                           Prof. W(alter) E(ugene)   \n",
       "1219       Senior                                  Dr. James K(uhn)   \n",
       "13283       Miles   Dr. Catharine Cox (Mrs. Walter R(ichard) Miles)   \n",
       "25076   Fernelius                               Dr. W(illis) Conrad   \n",
       "21406      Cavett                             Dr. J(esse) W(illiam)   \n",
       "27050   Griffiths                              Dr. Francis P(riday)   \n",
       "19922      Bailey                          Prof. J(ames) R(obinson)   \n",
       "12797        Marx                                          Dr. Lore   \n",
       "571     Sandstrom                          Prof. W(illiam) M(artin)   \n",
       "17104   Pawlowskl                           Prof. Felix W(Iadyslaw)   \n",
       "24866    Fairbank                              H(erbert) S(inclair)   \n",
       "19523     Andrews                             Prof. E(than) A(llen)   \n",
       "6051          Joy                                 Alfred H(arrison)   \n",
       "12771      Martin                               Prof. R(obert) Earl   \n",
       "1442      Shepard                             Dr. N(orman) A(rthur)   \n",
       "3466   Harrington                                  Dr. Elmer A(dna)   \n",
       "\n",
       "                                         Affiliation  \\\n",
       "19336                                   Calif. ‘. ^@   \n",
       "15837                                812 College Ave   \n",
       "19821                                 Woodleigh Road   \n",
       "6842                                  57 Crescent St   \n",
       "26106       Vanderbilt University School of Medicine   \n",
       "1219                                5612 Kenwood Ave   \n",
       "13283                                Yale University   \n",
       "25076                          Ohio State University   \n",
       "21406                    Dr. Salsbury’s Laboratories   \n",
       "27050              Oregon State Agricultural College   \n",
       "19922                            University of Texas   \n",
       "12797                         University of Michigan   \n",
       "571                                  University Farm   \n",
       "17104                         University of Michigan   \n",
       "24866   U. S. Department of Agri-culture. Washington   \n",
       "19523                       Johns Hopkins University   \n",
       "6051                          Mt. Wilson Observatory   \n",
       "12771                                        Hanover   \n",
       "1442                              93 Old Church Road   \n",
       "3466                            6409 Beachwood Drive   \n",
       "\n",
       "                                               Full_Text  \n",
       "19336  new york, n. y, april 2. 77. a ll, colrnn- .'k...  \n",
       "15837  moscow, mich, may 28, 68. b.s, mich. state col...  \n",
       "19821  holliston, mass, may 30, 86. worcester polytec...  \n",
       "6842   berlin, germany, march 18, 86. edinburgh; frei...  \n",
       "26106  reeds- ville, wis, april 7, 73. b.s, lawrence ...  \n",
       "1219   cincinnati, ohio, sept. 15, 89. a.b, harvard, ...  \n",
       "13283  san jose, calif, may 20, 90. a.b, stanford, 12...  \n",
       "25076  riverdale, utah, aug. 7, 05. a.b, stanford, 26...  \n",
       "21406  kent. ind, march 6, 00. a.b, hanover col. (ind...  \n",
       "27050  seattle, wash, july- 12, 04. b.s, washington (...  \n",
       "19922  houston, texas, dec. 11, 68. a.b, texas, 91; p...  \n",
       "12797  karlsruhe, germany, 99. inst. tech, karlsruhe,...  \n",
       "571    devils lake, n. dak, oct. 9, 97. a.b, st. olaf...  \n",
       "17104  near warsaw, poland, july 23, 76. m. and e.e, ...  \n",
       "24866  baltimore, md, sept. 16, 88. c.e, cornell, 10....  \n",
       "19523  new york. n. y, sept. 10. 59. ph.b, yale, 81, ...  \n",
       "6051   greenville, 111, sept. 23, 82. ph.b, greenvill...  \n",
       "12771  monroe co, ind, aug. 18, 94. a.b, indiana, 17;...  \n",
       "1442   new haven, conn, april 8,90. ph.b, yale, 10, p...  \n",
       "3466   winchendon, mass, oct. 7, 84. a.b, clark, 05, ...  "
      ]
     },
     "execution_count": 85,
     "metadata": {},
     "output_type": "execute_result"
    }
   ],
   "source": [
    "df[df['de_2'] == True][[\"Surname\", \"Other_Names\", \"Affiliation\", \"Full_Text\"]].sample(20)"
   ]
  },
  {
   "attachments": {},
   "cell_type": "markdown",
   "metadata": {},
   "source": [
    "and just the full_texts:"
   ]
  },
  {
   "cell_type": "code",
   "execution_count": 86,
   "metadata": {},
   "outputs": [
    {
     "data": {
      "text/plain": [
       "['wirballen, russia, aug. 18, 83. m.d, n. y. univ, 08, fellow, 08-09; munich, 11. instr. pharmacol, univ. and bellevue hosp. med. col, 08-09; asst, physiol, med. col, cornell, 09-11; instr. physiol, chem, pennsylvania, 11-13, asst, prof, 13-15; prof. clin. med, fordham, 17-20; attending physician, montefiore hosp. lecturer, med. col, cornell, 18-19; consulting physician, lenox hill hosp. am. med. asn; physiol. soc; soc. biol. chem; soc. exp. biol; harvey soc; n. y. acad. med. diseases of metabolism; physiology of the kidney; kidney and adrenal products; blood pressure; influence of adrenalin; gluconeogenesis; nephritis; psoriasis; diabetes; carbohydrate and protein metabolism; diagnosis of diseases of metabolism; insulin in treatment of, and surgery in diabetes.',\n",
       " 'boissevain, man, can, aug. 10, 96. b.a, sa.katche wan, 23, m.a, 25; california; berlin; ph.d, cornell, 30 a«t rust research, saskatchewan, 25-26; hot. california. 2h28. independent research, 28- research grant. am. arad. sc*. 34-35; lab, hopkins, 37-38. cytology of crown ru*t on oat*; chromosome number and morphology in nicotiana ; ebrnmovome number and embryology in the genera mentha and lyeopta*; smuts of barley and loose smut of wheat; chromoaumc «truc ture; colchicine for production of polyploidy.',\n",
       " 'arcade, n. y, jan. 5, 93. a.b, oberlin col, 16; m.s, chicago, 17, fellow, 18-19, ph.d, 19. instr, high sch, iii, 20; biol, goucher col, 20-23, asst, prof, 23-34, assoc, prof, 34- a.a; bot. soc. ray system of quercus; stem anatomy of dioon spinulosum; seed-ling anatomy and embryology of the juglandaceae and faga- ceae.,',\n",
       " 'waverly, n. y, nov. 15, 04. ch.b, cornell, 27, ph.d, 30. research chemist, am. can co, maywood, iii,27-chem. soc. chemical spectroscopy; uranium as an activator; spectrographic detection of fluorine; separation of gallium from iron; quantitative determination of germanium in silicate minerals.',\n",
       " 'brook- lyn n. y. sept. 23. 05. a.b. columbia, 2o, a.m, 26; ph.d, brvn mawr col, 29. asst. harvard, 29-34; am. asn. umv. women fellow. munich, 34-35; research chemist, exp. sta, her- cities pouder co. 35- chem. soc. benzanthraquinones; structure of dilorophyl; bile acids.',\n",
       " \"north bridimm, mass, sept. 29, 63. a.b, tewwa. a.m. 90; phd, konkina, 92. asst, biol, hopkins ft mill name. prof, cellular biol, brown, 93-96; biologist. exp. fna, r. i mala cal, 96-01; director, sharon biol. observatory, 0| 03, tn chsige mammal and bird reservations bdr. biol.smv. v. 5. dept age, 16 19, collaborator. 31- smithsonian sta. and munich, 92 93 instr, mass inst. tnh. 01 02. •<!•>■><? rent. dept. biol. and pub. health. 23-; h«i irgni. cna. on lidirtin and came, mass 03. chairman, tt-mjbrnnl ministry of marian, 19 21; mem. pollution emt, : t mmi on outdoor recreation. soc. nnt; soc. matksusl. mm audubon soc; british a*n. morphology and ■hfsaniagy of sehinodurms; plnnktology; biology of birds edi- m* hfc and shrllhsh; factor, which <l'-irrminc wx and the min alary son charnctarbtics; removal from drinking water of ■4»ss sod tsitrs duo to micro-organisms; effects of various «l milrf and soils; nconomic utilization of biologic (^lln #| miuva\",\n",
       " 'new york. n. y, sept. 10. 59. ph.b, yale, 81, 82; polytech, hanover, 83; fellow, hopkins, 84-86, ph.d, 87. aeet, 1). s. kiwi, cmn, 79-81; blot. hopkins, 87-92, assoc, prol, 92-08, pro(. 08-30, rmer. prof, 30- a.a; soc. nat; soc. zw>l. (v. pres. 01, pres, 04). anatomy and embryology ol invertebrates.',\n",
       " 'salisbury, n. c, june 17, 77. a.b, north carolina, 98, a.m, 99, ph.d, 01; chicago, 01, fellow, 02-03, ph.d, 15; paris, 11; hon. d.c.l, univ. of the south, 17; ll.d, tulane, 20; cambridge and berlin, 10-11, 23-24. instr. math, north carolina, 98-02, assoc, prof, 02-08, prof, pure math, 08-20, kenan prof. math, and head dept, 20- holt math, medal. a.a; math. soc; math. asn; elisha mitchell sci. soc. (pres, 08); n. c. acad, (pres, 23) ; circolo mat. di palermo. the cubic surface; modern geometry; the theory of relativity.',\n",
       " 'boston, mass, jan. 18, 88. b.s, mass. inst. tech, 09; ph.d, leipzig, 13. research chemist, u. s. rubber co, 13-14; standard oil co. of n. y, 14-18; goodyear tire and rubber co, 18-27; rohm and haas, 26-chem. soc. (sec’y-treas, akron sect, 23-26, sec’y, local sect, officers, 26, chairman, phila. sect, 31). rubber chemistry.',\n",
       " 'new haven, conn, april 8,90. ph.b, yale, 10, ph.d, 13. instr. chem, yale, 13-17, asst, prof. director chem. research, firestone tire and rubber co, 19-36; tech, service, am. cycmamid co, 36- a.a; chem. soc. (chairman, akron sect, 24, rubber div, 35-); inst. chem; soc. chem. indust; chem. eng; london chem. soc; deuts. chem. gesell; deuts. physik. gesell; soc. chim. de france. organic chemistry; synthesis; amines; cyclic nitrogen compounds; industrial poisons; vulcanization and aging of rubber; tire fabrics; carbon black; chemical education.',\n",
       " 'oak hill, n. y, dec. 25, 71. a.b, yale, 96, ph.d, 99. asst, to prof. gooch, yale, 96-99; pres, china chem. industries, shanghai; director, chem. construction corp; indust. processes develop, ltd; consulting chem. engineer. engineer, construction of chem. plants in u. s, china, norway, poland, czechoslovakia, germany, france, belgium, japan. russia and hungary. mem. am. econ. missions to japan, china and philippines, 35. chem. soc. (cmt. on chem. warfare) ; deuts. chem. gesell. estimation of boric acid; coal and its by-products; coal mining; dyestuffs and intermediates; synthetic ammonia.',\n",
       " 'brooklyn, n. y, 0<-t. .3, 78. cooper union, 00; ph.d, munich, 02; m.d, ceorgc washington, 10; sc.d, dallas, 20. tech, biologist and sanit. engineer, 0.3 06; instr. chem, george washington, 07; physiol, chemist, exp. sta, maryland, 07-09; specialist bio- chcm, office exp. stations, u. s. dept. agr, 09-15; assoc, prof, path, cheni,^ georgetown, 12-15; prof, physiol, and biochem, rordham, 15 16; pliarmacol, baylor, 16-17, physiol, and phar- niarol, 18-19, physiol, pharmacol. and biochem, 19-20; biol, dallas, 19 25; consulting physician, 22- sch. aviation med, u s a. 25. med. field service sch, 28. m.o.r.c, 17-, lieut. col, 31 . flight examiner div. aviation med, a.s, u.s.a, 25— chem. soc. (mem, cmt. on occupational diseases in chem. trades. 19, chairman, 20-27, chairman, cmt. on indust, toxico],27) ; fel. am. med. a*n; pub. health asn. plant and animal i hi-mi-try and physiology; pharmacology; diseases of metabolism and of the digestive system; industrial toxicology.',\n",
       " 'providence, r. i, dec. 10, 74. ph.b, brown, 95, a.m, 96; phd, berlin, 00. instr. math, brown, 95-97; physics, wesleyan, 02-03, assoc, prof, 03-07, prof, 07- magnetic observer, u. s. coast and geod. surv, 00-02. summer, prof, columbia, 20. board editors, ‘physical rev,’ 24-26. morris lfchmawn mem. prize, inst. radio eng, 28; duddell medal, physical soc. london, 37. div. physical sciences, nat. research council, 35-37. lieut, commander, u.s.n.r. a.a. (emt, b, 24-27); fel. physical soc. (chairman, northeast. sect, 34); optical soc; elec. eng; fel. radio eng. (chairman, conn. valley sect, 26-28, mem. board editors, ‘proc,’ 28, chairman, 29, pres, 32); am. acad. cathode rays; magnetic dedinograph; electric arc; electric oscillations; piezoelectric resonator and oscillator.',\n",
       " \"cleveland, ohio, on. 26, 68. a.b, dartmouth col, 92, a.m, 94, sc.d, 32; i.l.b, western reserve, 94. practising lawyer, 94-99; chairman, the ff'il- liamson co. trustee, cleveland museum nat. hist; director baldwin bird research lab, ohio; research assoc. western reserve. a.a; soc. nat; fel. ornith. onion; sue. zool; ecol. soc; genetic asn; fel. geol. soc; inland, east, northeast, and west. bird-banding asn. (hon. pres); ohio acad; british ornith. union; deuts. ornith. gesell; australasian ornith. union. geology of lake champlain, muir glacier, snake river and new mexico; bird banding; daily life of birds; physiology of bird temperature; measurement of birds.\",\n",
       " 'philadelphia, pa, april 9, 76.a. b, bryn mawr col, 99, fellow, 07-08; leipzig, 06-07; fellow, yale, 15-16, ph.d, 16. prof, chem, pa. col. for women,99- 06; instr, mt. holyoke col, 08-14, assoc, prof, 14-16, prof,16- chem. soc; deuts. chem. gesell. grignard addition to unsaturated ketones; isomerism of derivatives of cyclopropane; hydantoins; iso-sulfo-cyanids; chemical solubilities; isomerization in the hydantoin series; catalytic oxidation of organic compounds in the vapor phase; imino-dibasic acids.',\n",
       " 'colaba, bombay, india, dec. 17, 61. univ. col. sch, london, 72-75; hon. sc.d, pittsburgh, 95, toulouse, 22; hon. a.m, harvard, 06; hon. d.e, darmstadt tech. hochschule, 36. electrician, east. teleg. co, london, 76-86; prin. elec. asst, to thomas a. edison, 86—94; consulting engineer, phila, 94-02; prof. elec, eng, harvard, 02-03, emer. prof, 30—; prof, mass. inst. tech, 13- 25, chairman faculty, 17—19, enter, prof, 30- consulting elec, engineer, gen. elec. co, 90-94; exchange prof, univs, france, 21; lecturer, univs, japan, 31. elec, juries, phila. export expos, pan-am. expos, and la. purchase expos; pres, u. s. nat. emt, int. electrotech. cmn, 10, scc’y, 10-22, hon. sec’y, 19-35, hon. pres, 35-, pres, int. cmt. elec, and magnetic magnitudes and units, 28-; int. ilium. cmn, berlin, 13. two premiums of merit, british inst. elec. eng; longstreth and potts medals, franklin inst, 17; chevalier, legion d’honneur, 22; gold medal, inst. radio eng, 32; edison medal, 34; mas- cart medal, soc. franchise des elec, 36. v. pres, int. elec. cong, paris, 00, 32, gen. scc’y, st. louis, 04; hon. pres, int. sci. radio union, 34. civilian liaison officer, sig. c, 18. nat. acad; a.a. (chairman, m, 24); elec. eng. (past pres); radio eng. (past pres); ilium. eng. soc. (past pres); math. soc; physical soc; hon. fel. electro-therapeut. asn; philos. soc; franklin inst; am. acad. (y. pres, chairman, rumford cmt); astron. soc. pacific; hon. mem. n. y. elec. soc; cor. mem. british asn; fel. royal astron. soc; hon. mem. british inst. elec. eng; bon. mem. elek. verein; hon. mem. soc. fran^aise des elec; hon. mem. japanese inst. elec. eng. magnetics in engineering; alternating electric currents.',\n",
       " 'new york, n. y, nov. 27, 84. b.s. n. y. univ, 07. a.m. 08; d. ing, karlsruhe, 10. re search chemist, research lab, gen. elec. co, 10- a.a; chem. soc; physical soc. kinetics of reactions; incandescent lamps; x-ray spectroscopy; electrical discharges.',\n",
       " 'milledgeville, ga, dec. 4, 67. ph.b, georgia, 86, hon. ll.d, 28; ph.d, hopkins, 90; berlin, 99; zurich, 00; hon. sc.d, colgate, oglethorpe; hon. d.chem, pittsburgh; ll.d, north carolina, 34, florida, 37. asst, chemist, exp. sta, georgia, 90-91, instr. chem, univ, 91-94, adj. prof, 94-02; collaborator, bur. forestry, u. s. dept. agr, 01-02, expert, 02-04; chattanooga pottery co, 04-05; prof, chem, north carolina, 05-16, dean sch. applied science, os- 11; ed, ‘jour. indust, and eng. chem,’ 16-21; pres, synthetic org. chem. mfrs. asn. of u. s, 21-26; adviser, chem. foundation, inc, 26-28; indust, consultant, new york, 28-35; research chemist in charge pulp and paper lab, indust. cmt. of savannah, 32- physical director, georgia, 93-99; deputy administrator, nat. recovery admin, 33-34; edgar fahs smith mem. lecturer, pennsylvania, 37. medal, am. inst. chem, 32; herty medal, am. chem. soc, 34. a.a. (sec’y, c, 08); chem. soc. (councilor, pres, 15); inst. chem; soc. foresters; forestry asn; chem. eng; soc. chem. indust; electrochem. soc; eng. educ; philos. soc; franklin inst; london chem. soc; soc. de chim. indust; soc. chim. de france. double and mixed double halids; constitution of inorganic compounds by physicochemical methods; a new method of turpentine orcharding; the determination of oil in cotton seed products; oleo- resins; dyestuffs; reforestation; white paper from pines.',\n",
       " \"new wash-ington, ohio, april 22, 81. b.s, case, 05; met.e, harvard, 13. chemist, dom. iron and steel co, sydney, n. s, can, 05; carnegie steel co, 06; chief chemist, salem iron co, lee- tonia, ohio, 06-07; cleveland furnace co, 07-09; crowell and murray, 09-11; asst, metal, to prof. albert sauveur, harvard, 12-13; metal, engineer, youngstown sheet 'and tube co, 13- 29, director metal, and research, 29- am. iron and steel inst; min. and metal. eng; soc. metals; soc. test. mat. (exec, cmt, 30-32); standards asn; asn. steel manufacturers (pres, 28-30); welding soc. (director) ; iron and steel inst. gt. britain; british inst. metals; verein deuts. eisen- huttenleute. steel making.\",\n",
       " 'asbury park, n. j. march 11. 07 b.s, brown, 27, m.s, 28, ph.d, 31. chrmi*t, chem. d»». ammonia dept, e. i. du pont de nemours and co. 30-33; instr. org. and gen. chem, cooper union, 33- chem. soc. metallo-organic chemistry, especially phenyl-germanium compounds.']"
      ]
     },
     "execution_count": 86,
     "metadata": {},
     "output_type": "execute_result"
    }
   ],
   "source": [
    "list(df[df['de_2'] == True][[\"Surname\", \"Other_Names\", \"Affiliation\", \"Full_Text\"]].sample(20)[\"Full_Text\"])"
   ]
  },
  {
   "attachments": {},
   "cell_type": "markdown",
   "metadata": {},
   "source": [
    "it looks good! 1927 is a lot better than 436.  We can use the tf-idf method again to see if there are any more terms we can add to our list. It's unlikely to be as fruitful as the first time but there's no harm in trying."
   ]
  },
  {
   "cell_type": "code",
   "execution_count": 89,
   "metadata": {},
   "outputs": [],
   "source": [
    "tf_idf_df = tf_idf_df.merge(df[['de_2']], left_index=True, right_index=True)"
   ]
  },
  {
   "cell_type": "code",
   "execution_count": 92,
   "metadata": {},
   "outputs": [
    {
     "data": {
      "text/html": [
       "<div>\n",
       "<style scoped>\n",
       "    .dataframe tbody tr th:only-of-type {\n",
       "        vertical-align: middle;\n",
       "    }\n",
       "\n",
       "    .dataframe tbody tr th {\n",
       "        vertical-align: top;\n",
       "    }\n",
       "\n",
       "    .dataframe thead th {\n",
       "        text-align: right;\n",
       "    }\n",
       "</style>\n",
       "<table border=\"1\" class=\"dataframe\">\n",
       "  <thead>\n",
       "    <tr style=\"text-align: right;\">\n",
       "      <th></th>\n",
       "      <th>Not Matched</th>\n",
       "      <th>Matched</th>\n",
       "      <th>diff</th>\n",
       "    </tr>\n",
       "  </thead>\n",
       "  <tbody>\n",
       "    <tr>\n",
       "      <th>de_y</th>\n",
       "      <td>0.000000</td>\n",
       "      <td>0.240270</td>\n",
       "      <td>0.240270</td>\n",
       "    </tr>\n",
       "    <tr>\n",
       "      <th>chem</th>\n",
       "      <td>0.030998</td>\n",
       "      <td>0.054219</td>\n",
       "      <td>0.023221</td>\n",
       "    </tr>\n",
       "    <tr>\n",
       "      <th>oberlin</th>\n",
       "      <td>0.000000</td>\n",
       "      <td>0.019609</td>\n",
       "      <td>0.019609</td>\n",
       "    </tr>\n",
       "    <tr>\n",
       "      <th>soc</th>\n",
       "      <td>0.036316</td>\n",
       "      <td>0.054307</td>\n",
       "      <td>0.017991</td>\n",
       "    </tr>\n",
       "    <tr>\n",
       "      <th>gesell</th>\n",
       "      <td>0.000437</td>\n",
       "      <td>0.018112</td>\n",
       "      <td>0.017675</td>\n",
       "    </tr>\n",
       "    <tr>\n",
       "      <th>prof</th>\n",
       "      <td>0.036180</td>\n",
       "      <td>0.051634</td>\n",
       "      <td>0.015454</td>\n",
       "    </tr>\n",
       "    <tr>\n",
       "      <th>and</th>\n",
       "      <td>0.044615</td>\n",
       "      <td>0.058622</td>\n",
       "      <td>0.014007</td>\n",
       "    </tr>\n",
       "    <tr>\n",
       "      <th>med</th>\n",
       "      <td>0.018712</td>\n",
       "      <td>0.032180</td>\n",
       "      <td>0.013469</td>\n",
       "    </tr>\n",
       "    <tr>\n",
       "      <th>pres</th>\n",
       "      <td>0.012078</td>\n",
       "      <td>0.025321</td>\n",
       "      <td>0.013242</td>\n",
       "    </tr>\n",
       "    <tr>\n",
       "      <th>of</th>\n",
       "      <td>0.036965</td>\n",
       "      <td>0.050118</td>\n",
       "      <td>0.013153</td>\n",
       "    </tr>\n",
       "    <tr>\n",
       "      <th>math</th>\n",
       "      <td>0.014863</td>\n",
       "      <td>0.027767</td>\n",
       "      <td>0.012904</td>\n",
       "    </tr>\n",
       "    <tr>\n",
       "      <th>inst</th>\n",
       "      <td>0.014472</td>\n",
       "      <td>0.027127</td>\n",
       "      <td>0.012655</td>\n",
       "    </tr>\n",
       "    <tr>\n",
       "      <th>hon</th>\n",
       "      <td>0.003340</td>\n",
       "      <td>0.015403</td>\n",
       "      <td>0.012063</td>\n",
       "    </tr>\n",
       "    <tr>\n",
       "      <th>mem</th>\n",
       "      <td>0.005724</td>\n",
       "      <td>0.017043</td>\n",
       "      <td>0.011319</td>\n",
       "    </tr>\n",
       "    <tr>\n",
       "      <th>00</th>\n",
       "      <td>0.007104</td>\n",
       "      <td>0.017412</td>\n",
       "      <td>0.010308</td>\n",
       "    </tr>\n",
       "    <tr>\n",
       "      <th>03</th>\n",
       "      <td>0.008169</td>\n",
       "      <td>0.018211</td>\n",
       "      <td>0.010043</td>\n",
       "    </tr>\n",
       "    <tr>\n",
       "      <th>fellow</th>\n",
       "      <td>0.016230</td>\n",
       "      <td>0.026056</td>\n",
       "      <td>0.009826</td>\n",
       "    </tr>\n",
       "    <tr>\n",
       "      <th>01</th>\n",
       "      <td>0.007506</td>\n",
       "      <td>0.017298</td>\n",
       "      <td>0.009792</td>\n",
       "    </tr>\n",
       "    <tr>\n",
       "      <th>02</th>\n",
       "      <td>0.007787</td>\n",
       "      <td>0.017495</td>\n",
       "      <td>0.009708</td>\n",
       "    </tr>\n",
       "    <tr>\n",
       "      <th>hosp</th>\n",
       "      <td>0.008509</td>\n",
       "      <td>0.017996</td>\n",
       "      <td>0.009487</td>\n",
       "    </tr>\n",
       "    <tr>\n",
       "      <th>nat</th>\n",
       "      <td>0.010122</td>\n",
       "      <td>0.019526</td>\n",
       "      <td>0.009403</td>\n",
       "    </tr>\n",
       "    <tr>\n",
       "      <th>harvard</th>\n",
       "      <td>0.009717</td>\n",
       "      <td>0.019114</td>\n",
       "      <td>0.009398</td>\n",
       "    </tr>\n",
       "    <tr>\n",
       "      <th>08</th>\n",
       "      <td>0.010421</td>\n",
       "      <td>0.019262</td>\n",
       "      <td>0.008841</td>\n",
       "    </tr>\n",
       "    <tr>\n",
       "      <th>am</th>\n",
       "      <td>0.009806</td>\n",
       "      <td>0.018592</td>\n",
       "      <td>0.008785</td>\n",
       "    </tr>\n",
       "    <tr>\n",
       "      <th>research</th>\n",
       "      <td>0.019869</td>\n",
       "      <td>0.028628</td>\n",
       "      <td>0.008759</td>\n",
       "    </tr>\n",
       "  </tbody>\n",
       "</table>\n",
       "</div>"
      ],
      "text/plain": [
       "          Not Matched   Matched      diff\n",
       "de_y         0.000000  0.240270  0.240270\n",
       "chem         0.030998  0.054219  0.023221\n",
       "oberlin      0.000000  0.019609  0.019609\n",
       "soc          0.036316  0.054307  0.017991\n",
       "gesell       0.000437  0.018112  0.017675\n",
       "prof         0.036180  0.051634  0.015454\n",
       "and          0.044615  0.058622  0.014007\n",
       "med          0.018712  0.032180  0.013469\n",
       "pres         0.012078  0.025321  0.013242\n",
       "of           0.036965  0.050118  0.013153\n",
       "math         0.014863  0.027767  0.012904\n",
       "inst         0.014472  0.027127  0.012655\n",
       "hon          0.003340  0.015403  0.012063\n",
       "mem          0.005724  0.017043  0.011319\n",
       "00           0.007104  0.017412  0.010308\n",
       "03           0.008169  0.018211  0.010043\n",
       "fellow       0.016230  0.026056  0.009826\n",
       "01           0.007506  0.017298  0.009792\n",
       "02           0.007787  0.017495  0.009708\n",
       "hosp         0.008509  0.017996  0.009487\n",
       "nat          0.010122  0.019526  0.009403\n",
       "harvard      0.009717  0.019114  0.009398\n",
       "08           0.010421  0.019262  0.008841\n",
       "am           0.009806  0.018592  0.008785\n",
       "research     0.019869  0.028628  0.008759"
      ]
     },
     "execution_count": 92,
     "metadata": {},
     "output_type": "execute_result"
    }
   ],
   "source": [
    "tf_grouped_df = tf_idf_df.groupby('de_2').mean().T\n",
    "tf_grouped_df.columns = ['Not Matched', 'Matched']\n",
    "\n",
    "tf_grouped_df['diff'] = tf_grouped_df['Matched']-tf_grouped_df['Not Matched']\n",
    "tf_grouped_df = tf_grouped_df.sort_values(by=['diff'], ascending=False)\n",
    "tf_grouped_df.head(25)\n",
    "\n",
    "# filter for rows where the index is not in search_terms\n",
    "tf_grouped_df[tf_grouped_df.index.isin(search_terms) == False].head(25)"
   ]
  },
  {
   "attachments": {},
   "cell_type": "markdown",
   "metadata": {},
   "source": [
    "yeah, there's not anything particularly interesting here"
   ]
  },
  {
   "attachments": {},
   "cell_type": "markdown",
   "metadata": {},
   "source": [
    "<h3> 3. Expanding our Term List with a list of German Cities - <b style=\"color:darkred\"> Poor Solution </b> </h3>"
   ]
  },
  {
   "attachments": {},
   "cell_type": "markdown",
   "metadata": {},
   "source": [
    "<h5> Constructing the Term List </h5>\n",
    "\n",
    "The German government has a (modern and incomplete) list of some cities <a href=\"https://raw.githubusercontent.com/robbi5/german-gov-domains/master/data/domains.cities.csv\"> here <a>"
   ]
  },
  {
   "cell_type": "code",
   "execution_count": 93,
   "metadata": {},
   "outputs": [],
   "source": [
    "de_cities_df = pd.read_csv(\"https://raw.githubusercontent.com/robbi5/german-gov-domains/master/data/domains.cities.csv\")"
   ]
  },
  {
   "cell_type": "code",
   "execution_count": 99,
   "metadata": {},
   "outputs": [],
   "source": [
    "# Get ascii version of the cities\n",
    "de_cities_df['ascii_cities']=de_cities_df.City.apply(lambda x: x.encode('ascii', 'ignore').decode('ascii'))\n",
    "# Append the ascii version and the standard version to the search terms\n",
    "search_terms.extend(de_cities_df.ascii_cities.tolist())\n",
    "search_terms.extend(de_cities_df.City.tolist())\n",
    "search_terms = [term.lower() for term in search_terms]"
   ]
  },
  {
   "cell_type": "code",
   "execution_count": 100,
   "metadata": {},
   "outputs": [
    {
     "name": "stdout",
     "output_type": "stream",
     "text": [
      "Processed 5000 Rows\n",
      "Processed 10000 Rows\n",
      "Processed 15000 Rows\n",
      "Processed 20000 Rows\n",
      "Processed 25000 Rows\n"
     ]
    }
   ],
   "source": [
    "# Filter for rows where full_text contains any of the search terms\n",
    "counter = 0\n",
    "df['de_city_list'] = df.apply(lambda x: is_de(x['Full_Text'], search_terms), axis=1)"
   ]
  },
  {
   "attachments": {},
   "cell_type": "markdown",
   "metadata": {},
   "source": [
    "An issue here is with German city names that are also English words, e.g: \"March\" or \"Bell\"\n",
    "Limiting the usefullness of searching across the whole Full_Text"
   ]
  },
  {
   "cell_type": "code",
   "execution_count": 101,
   "metadata": {},
   "outputs": [
    {
     "data": {
      "text/plain": [
       "[('au', 18784),\n",
       " ('burg', 12976),\n",
       " ('march', 7240),\n",
       " ('berg', 6520),\n",
       " ('vil', 4632),\n",
       " ('rain', 4624),\n",
       " ('bell', 4104),\n",
       " ('berlin', 3560),\n",
       " ('ering', 3344),\n",
       " ('riol', 2928),\n",
       " ('sen', 2892),\n",
       " ('rust', 2372),\n",
       " ('nebra', 2224),\n",
       " ('lam', 2200),\n",
       " ('lf', 1986)]"
      ]
     },
     "execution_count": 101,
     "metadata": {},
     "output_type": "execute_result"
    }
   ],
   "source": [
    "# Find most common items in matched_terms\n",
    "Counter([item for sublist in df[df['de_city_list'].apply(lambda x: len(x) > 0)]['de_city_list'].tolist() for item in sublist]).most_common(15)"
   ]
  }
 ],
 "metadata": {
  "kernelspec": {
   "display_name": "base",
   "language": "python",
   "name": "python3"
  },
  "language_info": {
   "codemirror_mode": {
    "name": "ipython",
    "version": 3
   },
   "file_extension": ".py",
   "mimetype": "text/x-python",
   "name": "python",
   "nbconvert_exporter": "python",
   "pygments_lexer": "ipython3",
   "version": "3.9.12"
  },
  "orig_nbformat": 4
 },
 "nbformat": 4,
 "nbformat_minor": 2
}
