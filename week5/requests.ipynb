{
 "cells": [
  {
   "cell_type": "code",
   "execution_count": 13,
   "metadata": {},
   "outputs": [],
   "source": [
    "import requests\n",
    "from datetime import datetime\n",
    "import json"
   ]
  },
  {
   "cell_type": "code",
   "execution_count": 50,
   "metadata": {},
   "outputs": [],
   "source": [
    "Series = {\"MGSX\" : {\"Dataset_ID\" : \"LMS\", \"Name\": \"Unemployment\"},\n",
    "\"KAC3\" : {\"Dataset_ID\" : \"LMS\", \"Name\": \"Wage Growth\"},\n",
    "\"YBUY\" : {\"Dataset_ID\" : \"LMS\", \"Name\": \"Full-Time Hours\"},\n",
    "\"YBVB\" : {\"Dataset_ID\" : \"LMS\", \"Name\": \"Part-Time Hours\"},\n",
    "\"LZVB\" : {\"Dataset_ID\" : \"PRDY\", \"Name\": \"Productivity - Hourly\"},\n",
    "\"A4YM\" : {\"Dataset_ID\" : \"PRDY\", \"Name\": \"Productivity - Worker\"},\n",
    "\"BEIR\" : {\"Dataset_ID\" : \"LMS\", \"Name\": \"Redundancy rate\"},\n",
    "\"BCJE\" : {\"Dataset_ID\" : \"UNEM\", \"Name\": \"Benefits Claimant Count\"},\n",
    "\"G7G3\" : {\"Dataset_ID\" : \"PSE\", \"Name\": \"Public Sector Employment\"}}\n"
   ]
  },
  {
   "cell_type": "code",
   "execution_count": 51,
   "metadata": {},
   "outputs": [],
   "source": [
    "for Series_ID in Series.copy():\n",
    "    url = f'https://api.ons.gov.uk/timeseries/{Series_ID}/dataset/{Series[Series_ID][\"Dataset_ID\"]}/data'\n",
    "    Series[Series_ID]['request'] = requests.get(url)"
   ]
  },
  {
   "cell_type": "code",
   "execution_count": 33,
   "metadata": {},
   "outputs": [],
   "source": [
    "req = Series['LZVB']['request']\n",
    "data = json.loads(req.text)\n",
    "processed_data = []\n",
    "for entry in data['quarters']:\n",
    "    processed_data.append({\n",
    "            'Date' : entry['date'],\n",
    "            'Value' : entry['value']\n",
    "    })\n"
   ]
  },
  {
   "cell_type": "code",
   "execution_count": 5,
   "metadata": {},
   "outputs": [],
   "source": [
    "with open(\"test.json\", \"w\") as f:\n",
    "    json.dump(processed_data, f)"
   ]
  },
  {
   "cell_type": "code",
   "execution_count": 48,
   "metadata": {},
   "outputs": [
    {
     "data": {
      "text/plain": [
       "'Public Sector Employment by Sector; Total Public Sector; UK; FTE; SA;Thousands'"
      ]
     },
     "execution_count": 48,
     "metadata": {},
     "output_type": "execute_result"
    }
   ],
   "source": [
    "data['description']['title']"
   ]
  },
  {
   "cell_type": "code",
   "execution_count": 14,
   "metadata": {},
   "outputs": [],
   "source": [
    "for entry in data['months']:\n",
    "    print(entry['date'])"
   ]
  },
  {
   "cell_type": "markdown",
   "metadata": {},
   "source": [
    "a helper function for converting quarters:"
   ]
  },
  {
   "cell_type": "code",
   "execution_count": 40,
   "metadata": {},
   "outputs": [],
   "source": [
    "def quarterly_to_iso(quarterly_string):\n",
    "  # Split the string into year and quarter parts\n",
    "  year, quarter = quarterly_string.split(' Q')\n",
    "  # Calculate the month corresponding to the quarter\n",
    "  month = (int(quarter) - 1) * 3 + 1\n",
    "  # Format the date as an ISO-compliant string\n",
    "  iso_string = f\"{year}-{month:02d}-01T00:00:00\"\n",
    "  return iso_string"
   ]
  },
  {
   "cell_type": "code",
   "execution_count": 27,
   "metadata": {},
   "outputs": [
    {
     "data": {
      "text/plain": [
       "'2001-10-01T00:00:00'"
      ]
     },
     "execution_count": 27,
     "metadata": {},
     "output_type": "execute_result"
    }
   ],
   "source": [
    "quarterly_to_iso('2001 Q4')"
   ]
  },
  {
   "cell_type": "code",
   "execution_count": 29,
   "metadata": {},
   "outputs": [
    {
     "name": "stdout",
     "output_type": "stream",
     "text": [
      "0\n",
      "1\n",
      "2\n"
     ]
    }
   ],
   "source": [
    "l = [9,8,8]\n",
    "for i,li in enumerate(l):\n",
    "    print(i)"
   ]
  },
  {
   "cell_type": "code",
   "execution_count": 60,
   "metadata": {},
   "outputs": [],
   "source": [
    "for i,Series_ID in enumerate(Series):\n",
    "    req = Series[Series_ID]['request']\n",
    "    data = json.loads(req.text)\n",
    "    processed_data = []\n",
    "    if len(data['months'])>0: #Our Monthly Data\n",
    "        for entry in data['months']:\n",
    "            processed_data.append({\n",
    "                'Date' : datetime.strptime(entry['date'], '%Y %b').isoformat(),\n",
    "                'Value' : entry['value']\n",
    "            })\n",
    "    elif(len(data['quarters'])>0): #Our Quarterly Data\n",
    "        for entry in data['quarters']:\n",
    "            processed_data.append({\n",
    "                'Date' : quarterly_to_iso(entry['date']),\n",
    "                'Value' : entry['value']\n",
    "            })\n",
    "    with open(f'data/onsFig{i+1}_data.json', 'w') as f:\n",
    "        json.dump(processed_data, f)\n",
    "\n",
    "    with open(f'onsFig{i+1}.json', 'w') as f:\n",
    "        f.write(f\"\"\"{{ \"$schema\": \"https://vega.github.io/schema/vega-lite/v4.json\", \"description\": \"A line chart showing {data['description']['title']}.\", \"data\": {{ \"url\": \"week5/data/onsFig{i+1}_data.json\" }}, \"transform\": [ {{     \"filter\": {{     \"field\": \"Date\",     \"timeUnit\": \"yearmonth\",     \"gt\": \"2010-01\"     }} }} ], \"mark\": {{\"type\": \"line\", \"tooltip\":true, \"point\": {{\"size\":5}}}}, \"encoding\": {{ \"x\": {{     \"field\": \"Date\",     \"type\": \"temporal\",     \"axis\": {{\"title\": null}} }}, \"y\": {{\"field\": \"Value\", \"type\": \"quantitative\", \"axis\":{{\"title\":null}}}} }}, \"title\": {{     \"text\": \"{Series[Series_ID]['Name']}\",     \"align\": \"left\", \"subtitleFontSize\": 1,    \"subtitle\": \"{data['description']['title']}\",     \"anchor\": \"start\"     }}, \"width\": \"container\", \"height\": 250}} \"\"\")\n",
    "\n"
   ]
  },
  {
   "cell_type": "code",
   "execution_count": null,
   "metadata": {},
   "outputs": [],
   "source": []
  },
  {
   "cell_type": "code",
   "execution_count": null,
   "metadata": {},
   "outputs": [],
   "source": []
  }
 ],
 "metadata": {
  "kernelspec": {
   "display_name": "Python 3.9.12 ('base')",
   "language": "python",
   "name": "python3"
  },
  "language_info": {
   "codemirror_mode": {
    "name": "ipython",
    "version": 3
   },
   "file_extension": ".py",
   "mimetype": "text/x-python",
   "name": "python",
   "nbconvert_exporter": "python",
   "pygments_lexer": "ipython3",
   "version": "3.9.12"
  },
  "orig_nbformat": 4,
  "vscode": {
   "interpreter": {
    "hash": "40d3a090f54c6569ab1632332b64b2c03c39dcf918b08424e98f38b5ae0af88f"
   }
  }
 },
 "nbformat": 4,
 "nbformat_minor": 2
}
