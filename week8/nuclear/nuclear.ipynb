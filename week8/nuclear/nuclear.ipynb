{
 "cells": [
  {
   "cell_type": "code",
   "execution_count": 1,
   "metadata": {},
   "outputs": [],
   "source": [
    "import pandas as pd \n",
    "import tabula\n"
   ]
  },
  {
   "cell_type": "code",
   "execution_count": 24,
   "metadata": {},
   "outputs": [],
   "source": [
    "page_refs = {\n",
    "    'cn' : '18-19',\n",
    "    'fr' : '20-26',\n",
    "    'in' : '27',\n",
    "    'pk' : '28',\n",
    "    'uk' : '29-30',\n",
    "    'ru' : '31-55',\n",
    "    'us' : '56-91'}"
   ]
  },
  {
   "cell_type": "code",
   "execution_count": 107,
   "metadata": {},
   "outputs": [
    {
     "name": "stdout",
     "output_type": "stream",
     "text": [
      "cn\n",
      "2\n",
      "fr\n",
      "7\n",
      "in\n",
      "1\n",
      "pk\n",
      "1\n",
      "uk\n",
      "2\n",
      "ru\n",
      "25\n",
      "us\n",
      "36\n"
     ]
    }
   ],
   "source": [
    "dfs = {}\n",
    "for iso2 in page_refs:\n",
    "    print(iso2)\n",
    "    if(iso2=='pk'):\n",
    "        t_dfs = tabula.read_pdf(\"WW_nuclear_tests_IASPEI_HB.pdf\", pages=page_refs[iso2], area=\"78.87, 100.02,723.3,146\")\n",
    "        t_dfs[0].columns = t_dfs[0].iloc[0,:]\n",
    "        t_dfs[0] = t_dfs[0].iloc[1:,:]\n",
    "    else:\n",
    "        t_dfs = tabula.read_pdf(\"WW_nuclear_tests_IASPEI_HB.pdf\", pages=page_refs[iso2])\n",
    "    cols = t_dfs[0].columns[:7]\n",
    "    print(len(t_dfs))\n",
    "    if(len(t_dfs) == 1):\n",
    "        df = t_dfs[0].iloc[:,:7]\n",
    "    else:\n",
    "        corrected_dfs = [pd.concat([df,df.columns.to_frame().T]).iloc[:, :7].set_axis(cols, axis=1) for df in t_dfs[1:]] #Rename header, keep only 7 rows, add header row to chart\n",
    "        df = pd.concat([t_dfs[0].iloc[:,:7]]+corrected_dfs)\n",
    "    df['iso2'] = iso2\n",
    "    dfs[iso2] = df\n",
    "    \n",
    "    \n",
    "    "
   ]
  },
  {
   "cell_type": "code",
   "execution_count": 127,
   "metadata": {},
   "outputs": [
    {
     "data": {
      "text/plain": [
       "0"
      ]
     },
     "execution_count": 127,
     "metadata": {},
     "output_type": "execute_result"
    }
   ],
   "source": [
    "df = pd.concat(dfs.values())\n",
    "df = df[~df['date'].isna()]"
   ]
  },
  {
   "cell_type": "code",
   "execution_count": 114,
   "metadata": {},
   "outputs": [
    {
     "data": {
      "text/plain": [
       "576"
      ]
     },
     "execution_count": 114,
     "metadata": {},
     "output_type": "execute_result"
    }
   ],
   "source": [
    "dfs['us']['yield'].isna().sum()"
   ]
  },
  {
   "cell_type": "code",
   "execution_count": 115,
   "metadata": {},
   "outputs": [
    {
     "data": {
      "text/plain": [
       "1032"
      ]
     },
     "execution_count": 115,
     "metadata": {},
     "output_type": "execute_result"
    }
   ],
   "source": [
    "len(dfs['us']['yield'])"
   ]
  },
  {
   "cell_type": "code",
   "execution_count": null,
   "metadata": {},
   "outputs": [],
   "source": []
  }
 ],
 "metadata": {
  "kernelspec": {
   "display_name": "Python 3.9.12 ('base')",
   "language": "python",
   "name": "python3"
  },
  "language_info": {
   "codemirror_mode": {
    "name": "ipython",
    "version": 3
   },
   "file_extension": ".py",
   "mimetype": "text/x-python",
   "name": "python",
   "nbconvert_exporter": "python",
   "pygments_lexer": "ipython3",
   "version": "3.9.12"
  },
  "orig_nbformat": 4,
  "vscode": {
   "interpreter": {
    "hash": "40d3a090f54c6569ab1632332b64b2c03c39dcf918b08424e98f38b5ae0af88f"
   }
  }
 },
 "nbformat": 4,
 "nbformat_minor": 2
}
