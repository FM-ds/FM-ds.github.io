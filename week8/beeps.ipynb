{
 "cells": [
  {
   "cell_type": "code",
   "execution_count": 28,
   "metadata": {},
   "outputs": [],
   "source": [
    "import musicalbeeps\n",
    "import pandas as pd"
   ]
  },
  {
   "cell_type": "code",
   "execution_count": 29,
   "metadata": {},
   "outputs": [],
   "source": [
    "df = pd.read_excel('/Users/finn/Documents/GitHub/FM-ds.github.io/week 8/trade_data.xlsx')"
   ]
  },
  {
   "cell_type": "code",
   "execution_count": 30,
   "metadata": {},
   "outputs": [],
   "source": [
    "US_data = df[df.Country=='US'][['Day Offset', 'Size_Rel']].to_dict('records')\n",
    "CN_data = df[df.Country=='CN'][['Day Offset', 'Size_Rel']].to_dict('records')"
   ]
  },
  {
   "cell_type": "code",
   "execution_count": 45,
   "metadata": {},
   "outputs": [
    {
     "name": "stdout",
     "output_type": "stream",
     "text": [
      "Pausing for 0.0s\n",
      "Playing C4 (261.63 Hz) for 0.22083333333333333s\n",
      "Pausing for 1.0587699316628703s\n",
      "Playing C4 (261.63 Hz) for 0.18333333333333332s\n",
      "Pausing for 6.793773728170083s\n",
      "Playing C4 (261.63 Hz) for 0.4s\n",
      "Pausing for 9.66127562642369s\n",
      "Playing C4 (261.63 Hz) for 0.31666666666666665s\n"
     ]
    }
   ],
   "source": [
    "base_len = 0.15\n",
    "extra_len = 0.25\n",
    "lengths = [ base_len+(d['Size_Rel']*extra_len) for d in US_data ]\n",
    "\n",
    "base_sound = 0.3\n",
    "\n",
    "total_len = 10-lengths[len(lengths)-1]\n",
    "\n",
    "players = [musicalbeeps.Player(volume = 1,\n",
    "                        mute_output = False)]*10\n",
    "\n",
    "for i,d in enumerate(US_data):\n",
    "    volume = (base_sound)+(d['Size_Rel']*(1-base_sound))\n",
    "    players[i].play_note(\"pause\", (d['Day Offset']/439)*total_len)\n",
    "    players[i].play_note(\"C4\", lengths[i])\n"
   ]
  },
  {
   "cell_type": "code",
   "execution_count": 41,
   "metadata": {},
   "outputs": [
    {
     "name": "stdout",
     "output_type": "stream",
     "text": [
      "Pausing for 0s\n",
      "Playing C4 (261.63 Hz) for 0.22083333333333333s\n",
      "Pausing for 0.7418783679753658s\n",
      "Playing C4 (261.63 Hz) for 0.18333333333333332s\n",
      "Pausing for 6.3131639722863735s\n"
     ]
    },
    {
     "ename": "KeyboardInterrupt",
     "evalue": "",
     "output_type": "error",
     "traceback": [
      "\u001b[0;31m---------------------------------------------------------------------------\u001b[0m",
      "\u001b[0;31mKeyboardInterrupt\u001b[0m                         Traceback (most recent call last)",
      "\u001b[1;32m/Users/finn/Documents/GitHub/FM-ds.github.io/week 8/beeps.ipynb Cell 5\u001b[0m in \u001b[0;36m<cell line: 12>\u001b[0;34m()\u001b[0m\n\u001b[1;32m     <a href='vscode-notebook-cell:/Users/finn/Documents/GitHub/FM-ds.github.io/week%208/beeps.ipynb#W3sZmlsZQ%3D%3D?line=14'>15</a>\u001b[0m \u001b[39mif\u001b[39;00m i \u001b[39m!=\u001b[39m (\u001b[39mlen\u001b[39m(US_data)\u001b[39m-\u001b[39m\u001b[39m1\u001b[39m):\n\u001b[1;32m     <a href='vscode-notebook-cell:/Users/finn/Documents/GitHub/FM-ds.github.io/week%208/beeps.ipynb#W3sZmlsZQ%3D%3D?line=15'>16</a>\u001b[0m     player\u001b[39m.\u001b[39mplay_note(\u001b[39m\"\u001b[39m\u001b[39mpause\u001b[39m\u001b[39m\"\u001b[39m, \u001b[39mmax\u001b[39m([(d[\u001b[39m'\u001b[39m\u001b[39mDay Offset\u001b[39m\u001b[39m'\u001b[39m]\u001b[39m/\u001b[39m\u001b[39m433\u001b[39m)\u001b[39m*\u001b[39mtotal_len\u001b[39m-\u001b[39mlengths[i]\u001b[39m-\u001b[39mlengths[i],\u001b[39m0\u001b[39m]) )\n\u001b[0;32m---> <a href='vscode-notebook-cell:/Users/finn/Documents/GitHub/FM-ds.github.io/week%208/beeps.ipynb#W3sZmlsZQ%3D%3D?line=16'>17</a>\u001b[0m player\u001b[39m.\u001b[39;49mplay_note(\u001b[39m\"\u001b[39;49m\u001b[39mC4\u001b[39;49m\u001b[39m\"\u001b[39;49m, lengths[i])\n",
      "File \u001b[0;32m/opt/anaconda3/lib/python3.9/site-packages/musicalbeeps/beepsplayer.py:138\u001b[0m, in \u001b[0;36mPlayer.play_note\u001b[0;34m(self, note, duration)\u001b[0m\n\u001b[1;32m    136\u001b[0m \u001b[39mself\u001b[39m\u001b[39m.\u001b[39m__calc_frequency(note)\n\u001b[1;32m    137\u001b[0m \u001b[39mif\u001b[39;00m \u001b[39mself\u001b[39m\u001b[39m.\u001b[39m_valid_note:\n\u001b[0;32m--> 138\u001b[0m     \u001b[39mself\u001b[39;49m\u001b[39m.\u001b[39;49m__write_stream(duration)\n\u001b[1;32m    139\u001b[0m     \u001b[39mself\u001b[39m\u001b[39m.\u001b[39m__print_played_note(note, duration)\n\u001b[1;32m    140\u001b[0m     \u001b[39mself\u001b[39m\u001b[39m.\u001b[39m_destructor_sleep \u001b[39m=\u001b[39m duration\n",
      "File \u001b[0;32m/opt/anaconda3/lib/python3.9/site-packages/musicalbeeps/beepsplayer.py:118\u001b[0m, in \u001b[0;36mPlayer.__write_stream\u001b[0;34m(self, duration)\u001b[0m\n\u001b[1;32m    115\u001b[0m audio \u001b[39m=\u001b[39m audio\u001b[39m.\u001b[39mastype(np\u001b[39m.\u001b[39mint16)\n\u001b[1;32m    117\u001b[0m \u001b[39mself\u001b[39m\u001b[39m.\u001b[39m__wait_for_prev_sound()\n\u001b[0;32m--> 118\u001b[0m \u001b[39mself\u001b[39m\u001b[39m.\u001b[39m_play_obj \u001b[39m=\u001b[39m sa\u001b[39m.\u001b[39;49mplay_buffer(audio, \u001b[39m1\u001b[39;49m, \u001b[39m2\u001b[39;49m, \u001b[39mself\u001b[39;49m\u001b[39m.\u001b[39;49mrate)\n",
      "File \u001b[0;32m/opt/anaconda3/lib/python3.9/site-packages/simpleaudio/shiny.py:60\u001b[0m, in \u001b[0;36mplay_buffer\u001b[0;34m(audio_data, num_channels, bytes_per_sample, sample_rate)\u001b[0m\n\u001b[1;32m     59\u001b[0m \u001b[39mdef\u001b[39;00m \u001b[39mplay_buffer\u001b[39m(audio_data, num_channels, bytes_per_sample, sample_rate):\n\u001b[0;32m---> 60\u001b[0m     play_id \u001b[39m=\u001b[39m _sa\u001b[39m.\u001b[39;49m_play_buffer(audio_data, num_channels, bytes_per_sample,\n\u001b[1;32m     61\u001b[0m                                sample_rate)\n\u001b[1;32m     62\u001b[0m     \u001b[39mreturn\u001b[39;00m PlayObject(play_id)\n",
      "\u001b[0;31mKeyboardInterrupt\u001b[0m: "
     ]
    }
   ],
   "source": [
    "total_len = 10\n",
    "base_sound = 0.3\n",
    "base_len = 0.15\n",
    "extra_len = 0.25\n",
    "player = musicalbeeps.Player(volume = 1,\n",
    "                        mute_output = False)\n",
    "\n",
    "#player.play_note(\"A2\", 0.1)\n",
    "\n",
    "lengths = [ base_len+(d['Size_Rel']*extra_len) for d in US_data ]\n",
    "\n",
    "for i,d in enumerate(US_data):\n",
    "    player.volume = (base_sound)+(d['Size_Rel']*(1-base_sound))\n",
    "    length = lengths[i]\n",
    "    if i != (len(US_data)-1):\n",
    "        player.play_note(\"pause\", max([(d['Day Offset']/433)*total_len-lengths[i]-lengths[i],0]) )\n",
    "    player.play_note(\"C4\", lengths[i])\n",
    "    \n",
    "    \n",
    "\n"
   ]
  },
  {
   "cell_type": "code",
   "execution_count": 36,
   "metadata": {},
   "outputs": [
    {
     "name": "stdout",
     "output_type": "stream",
     "text": [
      "Pausing for 0s\n",
      "Playing C4 (261.63 Hz) for 0.22083333333333333s\n",
      "Pausing for 7.1712471131639735s\n",
      "Playing C4 (261.63 Hz) for 0.22499999999999998s\n",
      "Pausing for 8.91340935334873s\n",
      "Playing C4 (261.63 Hz) for 0.196875s\n",
      "Pausing for 9.171439568899153s\n",
      "Playing C4 (261.63 Hz) for 0.18333333333333332s\n",
      "Playing C4 (261.63 Hz) for 0.2s\n"
     ]
    }
   ],
   "source": [
    "#player.play_note(\"A2\", 0.1)\n",
    "\n",
    "lengths = [ base_len+(d['Size_Rel']*extra_len) for d in CN_data ]\n",
    "\n",
    "for i,d in enumerate(CN_data):\n",
    "    player.volume = (base_sound)+(d['Size_Rel']*(1-base_sound))\n",
    "    length = lengths[i]\n",
    "    if i != (len(CN_data)-1):\n",
    "        player.play_note(\"pause\", max([(d['Day Offset']/433)*total_len-lengths[i]-lengths[i],0]) )\n",
    "    player.play_note(\"C4\", lengths[i])\n",
    "    "
   ]
  },
  {
   "cell_type": "code",
   "execution_count": 44,
   "metadata": {},
   "outputs": [
    {
     "data": {
      "text/plain": [
       "[{'Day Offset': 0, 'Size_Rel': 0.2833333333333333},\n",
       " {'Day Offset': 48, 'Size_Rel': 0.13333333333333333},\n",
       " {'Day Offset': 438, 'Size_Rel': 0.6666666666666666},\n",
       " {'Day Offset': 308, 'Size_Rel': 1.0}]"
      ]
     },
     "execution_count": 44,
     "metadata": {},
     "output_type": "execute_result"
    }
   ],
   "source": [
    "df[df.Country=='US'][['Day Offset', 'Size_Rel']].to_dict('records')"
   ]
  },
  {
   "cell_type": "code",
   "execution_count": 39,
   "metadata": {},
   "outputs": [],
   "source": [
    "player = musicalbeeps.Player(volume = 0.2,\n",
    "                            mute_output = False)\n"
   ]
  },
  {
   "cell_type": "code",
   "execution_count": 40,
   "metadata": {},
   "outputs": [
    {
     "name": "stdout",
     "output_type": "stream",
     "text": [
      "Playing A4 (440.00 Hz) for 0.4s\n",
      "Playing E (329.63 Hz) for 0.2s\n"
     ]
    }
   ],
   "source": [
    "player.play_note(\"A4\", 0.4)\n",
    "player.volume = 1\n",
    "player.play_note(\"E\", 0.2)\n",
    "\n"
   ]
  },
  {
   "cell_type": "code",
   "execution_count": null,
   "metadata": {},
   "outputs": [],
   "source": []
  }
 ],
 "metadata": {
  "kernelspec": {
   "display_name": "Python 3.9.12 ('base')",
   "language": "python",
   "name": "python3"
  },
  "language_info": {
   "codemirror_mode": {
    "name": "ipython",
    "version": 3
   },
   "file_extension": ".py",
   "mimetype": "text/x-python",
   "name": "python",
   "nbconvert_exporter": "python",
   "pygments_lexer": "ipython3",
   "version": "3.9.12"
  },
  "orig_nbformat": 4,
  "vscode": {
   "interpreter": {
    "hash": "40d3a090f54c6569ab1632332b64b2c03c39dcf918b08424e98f38b5ae0af88f"
   }
  }
 },
 "nbformat": 4,
 "nbformat_minor": 2
}
