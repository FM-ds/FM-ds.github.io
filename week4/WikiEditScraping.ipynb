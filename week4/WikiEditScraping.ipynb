{
 "cells": [
  {
   "cell_type": "code",
   "execution_count": 1,
   "metadata": {},
   "outputs": [],
   "source": [
    "import pandas as pd\n",
    "import numpy as np\n",
    "import requests\n",
    "from bs4 import BeautifulSoup"
   ]
  },
  {
   "cell_type": "markdown",
   "metadata": {},
   "source": [
    "### Processing Pages"
   ]
  },
  {
   "cell_type": "code",
   "execution_count": 2,
   "metadata": {},
   "outputs": [],
   "source": [
    "url = \"https://en.wikipedia.org/w/index.php?title=Talk:Inflation&action=history&offset=&limit=1000\"\n",
    "page = requests.get(url)"
   ]
  },
  {
   "cell_type": "markdown",
   "metadata": {},
   "source": [
    "Selecting all rows"
   ]
  },
  {
   "cell_type": "code",
   "execution_count": 3,
   "metadata": {},
   "outputs": [],
   "source": [
    "soup = BeautifulSoup(page.text, 'html.parser')\n",
    "revTags = soup.findAll(\"li\", {\"data-mw-revid\" : True})"
   ]
  },
  {
   "cell_type": "markdown",
   "metadata": {},
   "source": [
    "A function for getting the date, size (in bytes), and score of each edit:"
   ]
  },
  {
   "cell_type": "code",
   "execution_count": 4,
   "metadata": {},
   "outputs": [],
   "source": [
    "def decodeLi(tag, topic = None, category= None):\n",
    "    \"\"\"\n",
    "    (bs4 tag, str) -> list of [str: topic, str: category, str: date, int: size_of_page, int: size_of_edit, int:abs_size_of_edit]\n",
    "    \"\"\"\n",
    "    date = tag.select(\"[class*=mw-changeslist-date]\")[0].get_text()\n",
    "    date = date.split(',')\n",
    "    date = date[1] + ' ' + date[0] #Reordering for JS date parsing\n",
    "\n",
    "    size = tag.findChild(\"span\", {\"class\" : \"history-size\"})[\"data-mw-bytes\"]\n",
    "    edit_size = tag.select(\"[class^=mw-plusminus]\")[0].get_text().strip(\"+\")\n",
    "    abs_edit_size = edit_size.strip('−')\n",
    "    return [topic, category, date, size, edit_size, abs_edit_size]"
   ]
  },
  {
   "cell_type": "code",
   "execution_count": 5,
   "metadata": {},
   "outputs": [
    {
     "data": {
      "text/plain": [
       "['foo', None, ' 16 July 2021 22:57', '8716', '4', '4']"
      ]
     },
     "execution_count": 5,
     "metadata": {},
     "output_type": "execute_result"
    }
   ],
   "source": [
    "decodeLi(revTags[100], \"foo\")"
   ]
  },
  {
   "cell_type": "markdown",
   "metadata": {},
   "source": [
    "A function to process all the edits in a bs4 object of the revision history page:"
   ]
  },
  {
   "cell_type": "code",
   "execution_count": 6,
   "metadata": {},
   "outputs": [],
   "source": [
    "def getEdits(pgSoup, topic=None, category=None):\n",
    "    \"\"\"\n",
    "    (bs4 obj) -> list of lists of form [str, int, int]\n",
    "    \"\"\"\n",
    "    revTags = pgSoup.findAll(\"li\", {\"data-mw-revid\" : True})\n",
    "    edits = []\n",
    "    for tag in revTags:\n",
    "        edits.append(decodeLi(tag, topic, category))\n",
    "    return edits"
   ]
  },
  {
   "cell_type": "markdown",
   "metadata": {},
   "source": [
    "### Fetching Edits for Different Pages"
   ]
  },
  {
   "cell_type": "code",
   "execution_count": 7,
   "metadata": {},
   "outputs": [],
   "source": [
    "topics = [{'Name' : \"Inflation\",\n",
    "        'URL' : \"https://en.wikipedia.org/w/index.php?title=Talk:Inflation&action=history&offset=&limit=1000\",\n",
    "        'Category': 'Economic Concepts'},\n",
    "    {'Name' : \"Monetary Policy\",\n",
    "        'URL' : \"https://en.wikipedia.org/w/index.php?title=Talk:Monetary_policy&action=history&offset=&limit=1000\",\n",
    "        'Category': 'Economic Concept'},\n",
    "    {'Name' : \"Economic Growth\",\n",
    "        'URL' : \"https://en.wikipedia.org/w/index.php?title=Economic_growth&action=history&offset=&limit=1000\",\n",
    "        'Category': 'Economic Concept'},\n",
    "    {'Name' : \"Karl Marx\",\n",
    "        'URL' : \"https://en.wikipedia.org/w/index.php?title=Talk:Karl_Marx&action=history&offset=&limit=1000\",\n",
    "        'Category': 'Person'},\n",
    "    {'Name' : \"Adam Smith\",\n",
    "        'URL' : \"https://en.wikipedia.org/w/index.php?title=Talk:Adam_Smith&action=history&offset=&limit=1000\",\n",
    "        'Category': 'Person'},\n",
    "    {'Name' : \"John Maynard Keynes\",\n",
    "    'URL' : \"https://en.wikipedia.org/w/index.php?title=John_Maynard_Keynes&action=history&offset=&limit=1000\",\n",
    "        'Category': 'Person'},\n",
    "    {'Name' : \"Milton Friedman\",\n",
    "        'URL' : \"https://en.wikipedia.org/w/index.php?title=Milton_Friedman&action=history&offset=&limit=1000\",\n",
    "        'Category': 'Person'},\n",
    "    {'Name' : \"Human Development Index\",\n",
    "        'URL' : \"https://en.wikipedia.org/w/index.php?title=Human_Development_Index&action=history&offset=&limit=1000\",\n",
    "        'Category': 'Economic Concept'},\n",
    "    {'Name' : \"Gross Domestic Product\",\n",
    "        'URL' : \"https://en.wikipedia.org/w/index.php?title=Gross_domestic_product&action=history&offset=&limit=1000\",\n",
    "        'Category': 'Economic Concept'},\n",
    "    {'Name' : \"Bitcoin\",\n",
    "        'URL' : \"https://en.wikipedia.org/w/index.php?title=Bitcoin&action=history&offset=&limit=1000\",\n",
    "        'Category': 'Currency'},\n",
    "    {'Name' : \"United States Dollar\",\n",
    "        'URL' : \"https://en.wikipedia.org/w/index.php?title=United_States_dollar&action=history&offset=&limit=1000\",\n",
    "        'Category': 'Currency'},\n",
    "    {'Name' : \"Euro\",\n",
    "        'URL' : \"https://en.wikipedia.org/w/index.php?title=Euro&action=history&offset=&limit=1000\",\n",
    "        'Category': 'Currency'},\n",
    "    {'Name' : \"COVID-19 Recession\",\n",
    "        'URL' : \"https://en.wikipedia.org/wiki/Talk:COVID-19_recession&offset=&limit=1000\",\n",
    "        'Category': 'Event'},\n",
    "    {'Name' : \"The Great Recession\",\n",
    "        'URL' : \"https://en.wikipedia.org/w/index.php?title=Talk:Great_Recession&action=history&offset=&limit=1000\",\n",
    "        'Category': 'Event'},\n",
    "    {'Name' : \"Industrial Revolution\",\n",
    "        'URL' : \"https://en.wikipedia.org/w/index.php?title=Industrial_Revolution&action=history&offset=&limit=1000\",\n",
    "        'Category': 'Event'},\n",
    "    {'Name' : \"The Wall Street Crash\",\n",
    "        'URL' : \"https://en.wikipedia.org/w/index.php?title=Wall_Street_Crash_of_1929&action=history&offset=&limit=1000\",\n",
    "        'Category': 'Event'}\n",
    "    ]\n",
    "\n",
    "topics = [\n",
    "    {'Name' : \"Economic Growth\",\n",
    "        'URL' : \"https://en.wikipedia.org/w/index.php?title=Economic_growth&action=history&offset=&limit=1000\",\n",
    "        'Category': 'Economic Concept'},\n",
    "    {'Name' : \"Human Development Index\",\n",
    "        'URL' : \"https://en.wikipedia.org/w/index.php?title=Human_Development_Index&action=history&offset=&limit=1000\",\n",
    "        'Category': 'Economic Concept'},\n",
    "    {'Name' : \"Gross Domestic Product\",\n",
    "        'URL' : \"https://en.wikipedia.org/w/index.php?title=Gross_domestic_product&action=history&offset=&limit=1000\",\n",
    "        'Category': 'Economic Concept'},\n",
    "    {'Name' : \"COVID-19 Recession\",\n",
    "        'URL' : \"https://en.wikipedia.org/wiki/Talk:COVID-19_recession&offset=&limit=1000\",\n",
    "        'Category': 'Event'},\n",
    "    {'Name' : \"Industrial Revolution\",\n",
    "        'URL' : \"https://en.wikipedia.org/w/index.php?title=Industrial_Revolution&action=history&offset=&limit=1000\",\n",
    "        'Category': 'Event'},\n",
    "    {'Name' : \"The Wall Street Crash\",\n",
    "        'URL' : \"https://en.wikipedia.org/w/index.php?title=Wall_Street_Crash_of_1929&action=history&offset=&limit=1000\",\n",
    "        'Category': 'Event'},\n",
    "    {'Name' : \"The Great Recession\",\n",
    "        'URL' : \"https://en.wikipedia.org/w/index.php?title=Talk:Great_Recession&action=history&offset=&limit=1000\",\n",
    "        'Category': 'Event'},\n",
    "    {'Name' : \"Inflation\",\n",
    "        'URL' : \"https://en.wikipedia.org/w/index.php?title=Talk:Inflation&action=history&offset=&limit=1000\",\n",
    "        'Category': 'Economic Concept'},\n",
    "    {'Name' : \"Bitcoin\",\n",
    "        'URL' : \"https://en.wikipedia.org/w/index.php?title=Bitcoin&action=history&offset=&limit=1000\",\n",
    "        'Category': 'Currency'},\n",
    "    {'Name' : \"United States Dollar\",\n",
    "        'URL' : \"https://en.wikipedia.org/w/index.php?title=United_States_dollar&action=history&offset=&limit=1000\",\n",
    "        'Category': 'Currency'},\n",
    "    {'Name' : \"Euro\",\n",
    "        'URL' : \"https://en.wikipedia.org/w/index.php?title=Euro&action=history&offset=&limit=1000\",\n",
    "        'Category': 'Currency'}\n",
    "    ]\n"
   ]
  },
  {
   "cell_type": "code",
   "execution_count": 15,
   "metadata": {},
   "outputs": [],
   "source": [
    "download = True\n",
    "if download:\n",
    "    data = []\n",
    "    for topic in topics:\n",
    "        page = requests.get(topic['URL'])\n",
    "        soup = BeautifulSoup(page.text, 'html.parser')\n",
    "        data = data + getEdits(soup, topic[\"Name\"],topic[\"Category\"] )\n"
   ]
  },
  {
   "cell_type": "code",
   "execution_count": 16,
   "metadata": {},
   "outputs": [],
   "source": [
    "df = pd.DataFrame(data)\n",
    "df.columns = ['Page', 'Category', 'Date', 'Size', 'Edit Size','Abs Edit Size']"
   ]
  },
  {
   "cell_type": "code",
   "execution_count": 2,
   "metadata": {},
   "outputs": [],
   "source": [
    "df = pd.read_csv('wiki_edits.csv')"
   ]
  },
  {
   "cell_type": "code",
   "execution_count": 4,
   "metadata": {},
   "outputs": [],
   "source": [
    "df = df.iloc[:, 1:]"
   ]
  },
  {
   "cell_type": "code",
   "execution_count": 8,
   "metadata": {},
   "outputs": [],
   "source": [
    "df = df.melt(id_vars=['Date'])"
   ]
  },
  {
   "cell_type": "code",
   "execution_count": 26,
   "metadata": {},
   "outputs": [
    {
     "data": {
      "text/html": [
       "<div>\n",
       "<style scoped>\n",
       "    .dataframe tbody tr th:only-of-type {\n",
       "        vertical-align: middle;\n",
       "    }\n",
       "\n",
       "    .dataframe tbody tr th {\n",
       "        vertical-align: top;\n",
       "    }\n",
       "\n",
       "    .dataframe thead th {\n",
       "        text-align: right;\n",
       "    }\n",
       "</style>\n",
       "<table border=\"1\" class=\"dataframe\">\n",
       "  <thead>\n",
       "    <tr style=\"text-align: right;\">\n",
       "      <th></th>\n",
       "      <th>Page</th>\n",
       "      <th>Category</th>\n",
       "      <th>Date</th>\n",
       "      <th>Size</th>\n",
       "      <th>Abs Edit Size</th>\n",
       "    </tr>\n",
       "  </thead>\n",
       "  <tbody>\n",
       "    <tr>\n",
       "      <th>0</th>\n",
       "      <td>Economic Growth</td>\n",
       "      <td>Economic Concept</td>\n",
       "      <td>21 October 2022 02:31</td>\n",
       "      <td>125712</td>\n",
       "      <td>265</td>\n",
       "    </tr>\n",
       "    <tr>\n",
       "      <th>1</th>\n",
       "      <td>Economic Growth</td>\n",
       "      <td>Economic Concept</td>\n",
       "      <td>20 October 2022 11:25</td>\n",
       "      <td>125447</td>\n",
       "      <td>11</td>\n",
       "    </tr>\n",
       "    <tr>\n",
       "      <th>2</th>\n",
       "      <td>Economic Growth</td>\n",
       "      <td>Economic Concept</td>\n",
       "      <td>17 October 2022 15:23</td>\n",
       "      <td>125436</td>\n",
       "      <td>697</td>\n",
       "    </tr>\n",
       "    <tr>\n",
       "      <th>3</th>\n",
       "      <td>Economic Growth</td>\n",
       "      <td>Economic Concept</td>\n",
       "      <td>17 October 2022 14:40</td>\n",
       "      <td>124739</td>\n",
       "      <td>761</td>\n",
       "    </tr>\n",
       "    <tr>\n",
       "      <th>4</th>\n",
       "      <td>Economic Growth</td>\n",
       "      <td>Economic Concept</td>\n",
       "      <td>17 October 2022 13:47</td>\n",
       "      <td>125500</td>\n",
       "      <td>761</td>\n",
       "    </tr>\n",
       "    <tr>\n",
       "      <th>...</th>\n",
       "      <td>...</td>\n",
       "      <td>...</td>\n",
       "      <td>...</td>\n",
       "      <td>...</td>\n",
       "      <td>...</td>\n",
       "    </tr>\n",
       "    <tr>\n",
       "      <th>9995</th>\n",
       "      <td>Euro</td>\n",
       "      <td>Currency</td>\n",
       "      <td>31 March 2018 17:38</td>\n",
       "      <td>83186</td>\n",
       "      <td>18</td>\n",
       "    </tr>\n",
       "    <tr>\n",
       "      <th>9996</th>\n",
       "      <td>Euro</td>\n",
       "      <td>Currency</td>\n",
       "      <td>29 March 2018 00:04</td>\n",
       "      <td>83168</td>\n",
       "      <td>164</td>\n",
       "    </tr>\n",
       "    <tr>\n",
       "      <th>9997</th>\n",
       "      <td>Euro</td>\n",
       "      <td>Currency</td>\n",
       "      <td>28 March 2018 23:51</td>\n",
       "      <td>83004</td>\n",
       "      <td>84</td>\n",
       "    </tr>\n",
       "    <tr>\n",
       "      <th>9998</th>\n",
       "      <td>Euro</td>\n",
       "      <td>Currency</td>\n",
       "      <td>28 March 2018 13:35</td>\n",
       "      <td>82920</td>\n",
       "      <td>41</td>\n",
       "    </tr>\n",
       "    <tr>\n",
       "      <th>9999</th>\n",
       "      <td>Euro</td>\n",
       "      <td>Currency</td>\n",
       "      <td>21 March 2018 00:20</td>\n",
       "      <td>82961</td>\n",
       "      <td>170</td>\n",
       "    </tr>\n",
       "  </tbody>\n",
       "</table>\n",
       "<p>10000 rows × 5 columns</p>\n",
       "</div>"
      ],
      "text/plain": [
       "                 Page          Category                    Date    Size  \\\n",
       "0     Economic Growth  Economic Concept   21 October 2022 02:31  125712   \n",
       "1     Economic Growth  Economic Concept   20 October 2022 11:25  125447   \n",
       "2     Economic Growth  Economic Concept   17 October 2022 15:23  125436   \n",
       "3     Economic Growth  Economic Concept   17 October 2022 14:40  124739   \n",
       "4     Economic Growth  Economic Concept   17 October 2022 13:47  125500   \n",
       "...               ...               ...                     ...     ...   \n",
       "9995             Euro          Currency     31 March 2018 17:38   83186   \n",
       "9996             Euro          Currency     29 March 2018 00:04   83168   \n",
       "9997             Euro          Currency     28 March 2018 23:51   83004   \n",
       "9998             Euro          Currency     28 March 2018 13:35   82920   \n",
       "9999             Euro          Currency     21 March 2018 00:20   82961   \n",
       "\n",
       "     Abs Edit Size  \n",
       "0              265  \n",
       "1               11  \n",
       "2              697  \n",
       "3              761  \n",
       "4              761  \n",
       "...            ...  \n",
       "9995            18  \n",
       "9996           164  \n",
       "9997            84  \n",
       "9998            41  \n",
       "9999           170  \n",
       "\n",
       "[10000 rows x 5 columns]"
      ]
     },
     "execution_count": 26,
     "metadata": {},
     "output_type": "execute_result"
    }
   ],
   "source": [
    "df.sort_values(by=['Category'])\n",
    "df = df.drop('Edit Size', axis=1)\n",
    "df"
   ]
  },
  {
   "cell_type": "code",
   "execution_count": 9,
   "metadata": {},
   "outputs": [],
   "source": [
    "df.to_csv('wiki_edits23.csv')"
   ]
  },
  {
   "cell_type": "code",
   "execution_count": null,
   "metadata": {},
   "outputs": [],
   "source": []
  }
 ],
 "metadata": {
  "kernelspec": {
   "display_name": "Python 3.9.12 ('base')",
   "language": "python",
   "name": "python3"
  },
  "language_info": {
   "codemirror_mode": {
    "name": "ipython",
    "version": 3
   },
   "file_extension": ".py",
   "mimetype": "text/x-python",
   "name": "python",
   "nbconvert_exporter": "python",
   "pygments_lexer": "ipython3",
   "version": "3.9.12"
  },
  "orig_nbformat": 4,
  "vscode": {
   "interpreter": {
    "hash": "40d3a090f54c6569ab1632332b64b2c03c39dcf918b08424e98f38b5ae0af88f"
   }
  }
 },
 "nbformat": 4,
 "nbformat_minor": 2
}
