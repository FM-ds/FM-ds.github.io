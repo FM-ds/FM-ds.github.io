{
 "cells": [
  {
   "cell_type": "code",
   "execution_count": 2,
   "metadata": {},
   "outputs": [],
   "source": [
    "import pandas as pd"
   ]
  },
  {
   "attachments": {},
   "cell_type": "markdown",
   "metadata": {},
   "source": [
    "# Chart 1"
   ]
  },
  {
   "cell_type": "code",
   "execution_count": 36,
   "metadata": {},
   "outputs": [],
   "source": [
    "df = pd.read_excel(\"Chart1_Data.xlsx\")\n",
    "df['Value'] = (df['Value']/100).astype(float)\n",
    "df.to_json('gdp.json', orient='records')"
   ]
  },
  {
   "attachments": {},
   "cell_type": "markdown",
   "metadata": {},
   "source": [
    "# Chart 2"
   ]
  },
  {
   "cell_type": "code",
   "execution_count": 31,
   "metadata": {},
   "outputs": [],
   "source": [
    "df = pd.read_excel(\"Chart2_Data.xlsx\")\n",
    "df['Range_Text'] = df.apply(lambda x: str(round(x['Survey_Min'],2)) + '% to ' + str(round(x['Survey_Max'],2)) + \"%\", axis=1)\n",
    "# replace Range_Text with '' if starts with nan\n",
    "df['Range_Text'] = df['Range_Text'].apply(lambda x: '' if str(x).startswith('nan') else x)\n",
    "df = df.melt(id_vars=['Date', 'Forecast'], var_name='Series', value_name='Value')\n",
    "df.dropna(inplace=True)\n",
    "df['Value'] = df.apply(lambda x: x['Value']/100 if x['Series'] != 'Range_Text' else x['Value'], axis=1)"
   ]
  },
  {
   "cell_type": "code",
   "execution_count": 33,
   "metadata": {},
   "outputs": [],
   "source": [
    "df.to_json('chart2_data.json', orient='records')"
   ]
  },
  {
   "cell_type": "code",
   "execution_count": null,
   "metadata": {},
   "outputs": [],
   "source": [
    "#"
   ]
  },
  {
   "cell_type": "code",
   "execution_count": 32,
   "metadata": {},
   "outputs": [
    {
     "data": {
      "text/html": [
       "<div>\n",
       "<style scoped>\n",
       "    .dataframe tbody tr th:only-of-type {\n",
       "        vertical-align: middle;\n",
       "    }\n",
       "\n",
       "    .dataframe tbody tr th {\n",
       "        vertical-align: top;\n",
       "    }\n",
       "\n",
       "    .dataframe thead th {\n",
       "        text-align: right;\n",
       "    }\n",
       "</style>\n",
       "<table border=\"1\" class=\"dataframe\">\n",
       "  <thead>\n",
       "    <tr style=\"text-align: right;\">\n",
       "      <th></th>\n",
       "      <th>Date</th>\n",
       "      <th>Forecast</th>\n",
       "      <th>Series</th>\n",
       "      <th>Value</th>\n",
       "    </tr>\n",
       "  </thead>\n",
       "  <tbody>\n",
       "    <tr>\n",
       "      <th>0</th>\n",
       "      <td>2000-01-01</td>\n",
       "      <td>False</td>\n",
       "      <td>Survey_Max</td>\n",
       "      <td>0.03664</td>\n",
       "    </tr>\n",
       "    <tr>\n",
       "      <th>1</th>\n",
       "      <td>2000-02-01</td>\n",
       "      <td>False</td>\n",
       "      <td>Survey_Max</td>\n",
       "      <td>0.03664</td>\n",
       "    </tr>\n",
       "    <tr>\n",
       "      <th>2</th>\n",
       "      <td>2000-03-01</td>\n",
       "      <td>False</td>\n",
       "      <td>Survey_Max</td>\n",
       "      <td>0.03664</td>\n",
       "    </tr>\n",
       "    <tr>\n",
       "      <th>3</th>\n",
       "      <td>2000-04-01</td>\n",
       "      <td>False</td>\n",
       "      <td>Survey_Max</td>\n",
       "      <td>0.034407</td>\n",
       "    </tr>\n",
       "    <tr>\n",
       "      <th>4</th>\n",
       "      <td>2000-05-01</td>\n",
       "      <td>False</td>\n",
       "      <td>Survey_Max</td>\n",
       "      <td>0.036364</td>\n",
       "    </tr>\n",
       "    <tr>\n",
       "      <th>...</th>\n",
       "      <td>...</td>\n",
       "      <td>...</td>\n",
       "      <td>...</td>\n",
       "      <td>...</td>\n",
       "    </tr>\n",
       "    <tr>\n",
       "      <th>1123</th>\n",
       "      <td>2023-02-01</td>\n",
       "      <td>False</td>\n",
       "      <td>Range_Text</td>\n",
       "      <td>-1.95% to 0.66%</td>\n",
       "    </tr>\n",
       "    <tr>\n",
       "      <th>1124</th>\n",
       "      <td>2023-03-01</td>\n",
       "      <td>False</td>\n",
       "      <td>Range_Text</td>\n",
       "      <td>0.34% to 0.39%</td>\n",
       "    </tr>\n",
       "    <tr>\n",
       "      <th>1125</th>\n",
       "      <td>2023-04-01</td>\n",
       "      <td>False</td>\n",
       "      <td>Range_Text</td>\n",
       "      <td>0.68% to 1.73%</td>\n",
       "    </tr>\n",
       "    <tr>\n",
       "      <th>1126</th>\n",
       "      <td>2023-05-01</td>\n",
       "      <td>False</td>\n",
       "      <td>Range_Text</td>\n",
       "      <td>-1.72% to 1.41%</td>\n",
       "    </tr>\n",
       "    <tr>\n",
       "      <th>1127</th>\n",
       "      <td>2023-06-01</td>\n",
       "      <td>True</td>\n",
       "      <td>Range_Text</td>\n",
       "      <td></td>\n",
       "    </tr>\n",
       "  </tbody>\n",
       "</table>\n",
       "<p>1125 rows × 4 columns</p>\n",
       "</div>"
      ],
      "text/plain": [
       "           Date  Forecast      Series            Value\n",
       "0    2000-01-01     False  Survey_Max          0.03664\n",
       "1    2000-02-01     False  Survey_Max          0.03664\n",
       "2    2000-03-01     False  Survey_Max          0.03664\n",
       "3    2000-04-01     False  Survey_Max         0.034407\n",
       "4    2000-05-01     False  Survey_Max         0.036364\n",
       "...         ...       ...         ...              ...\n",
       "1123 2023-02-01     False  Range_Text  -1.95% to 0.66%\n",
       "1124 2023-03-01     False  Range_Text   0.34% to 0.39%\n",
       "1125 2023-04-01     False  Range_Text   0.68% to 1.73%\n",
       "1126 2023-05-01     False  Range_Text  -1.72% to 1.41%\n",
       "1127 2023-06-01      True  Range_Text                 \n",
       "\n",
       "[1125 rows x 4 columns]"
      ]
     },
     "execution_count": 32,
     "metadata": {},
     "output_type": "execute_result"
    }
   ],
   "source": [
    "df"
   ]
  },
  {
   "cell_type": "code",
   "execution_count": null,
   "metadata": {},
   "outputs": [],
   "source": []
  }
 ],
 "metadata": {
  "kernelspec": {
   "display_name": "base",
   "language": "python",
   "name": "python3"
  },
  "language_info": {
   "codemirror_mode": {
    "name": "ipython",
    "version": 3
   },
   "file_extension": ".py",
   "mimetype": "text/x-python",
   "name": "python",
   "nbconvert_exporter": "python",
   "pygments_lexer": "ipython3",
   "version": "3.9.12"
  },
  "orig_nbformat": 4
 },
 "nbformat": 4,
 "nbformat_minor": 2
}
