{
 "cells": [
  {
   "cell_type": "code",
   "execution_count": 169,
   "metadata": {},
   "outputs": [],
   "source": [
    "#!pip install selenium\n",
    "from selenium import webdriver\n",
    "from selenium.webdriver.common.by import By\n",
    "from selenium.webdriver.support.wait import WebDriverWait\n",
    "\n",
    "from time import sleep\n",
    "\n",
    "from selenium.webdriver import Keys, ActionChains\n",
    "from selenium.webdriver.common.actions.action_builder import ActionBuilder\n",
    "\n",
    "from selenium.webdriver.common.desired_capabilities import DesiredCapabilities\n",
    "\n",
    "\n",
    "import numpy as np\n",
    "\n",
    "import pandas as pd\n",
    "\n",
    "from selenium.webdriver.chrome.options import Options"
   ]
  },
  {
   "attachments": {},
   "cell_type": "markdown",
   "metadata": {},
   "source": [
    "## Choosing Some Products"
   ]
  },
  {
   "cell_type": "code",
   "execution_count": 29,
   "metadata": {},
   "outputs": [],
   "source": [
    "df = pd.read_csv('https://raw.githubusercontent.com/RDeconomist/prices/master/data/db_item.csv')"
   ]
  },
  {
   "attachments": {},
   "cell_type": "markdown",
   "metadata": {},
   "source": [
    "Let's target 10 of these - food"
   ]
  },
  {
   "cell_type": "code",
   "execution_count": 33,
   "metadata": {},
   "outputs": [],
   "source": [
    "target_ids = [210604,\n",
    " 430605,\n",
    " 210910,\n",
    " 212701,\n",
    " 212527,\n",
    " 212601,\n",
    " 212530,\n",
    " 210107,\n",
    " 211714,\n",
    " 212901]"
   ]
  },
  {
   "cell_type": "code",
   "execution_count": 36,
   "metadata": {},
   "outputs": [
    {
     "data": {
      "text/html": [
       "<div>\n",
       "<style scoped>\n",
       "    .dataframe tbody tr th:only-of-type {\n",
       "        vertical-align: middle;\n",
       "    }\n",
       "\n",
       "    .dataframe tbody tr th {\n",
       "        vertical-align: top;\n",
       "    }\n",
       "\n",
       "    .dataframe thead th {\n",
       "        text-align: right;\n",
       "    }\n",
       "</style>\n",
       "<table border=\"1\" class=\"dataframe\">\n",
       "  <thead>\n",
       "    <tr style=\"text-align: right;\">\n",
       "      <th></th>\n",
       "      <th>item_id</th>\n",
       "      <th>description</th>\n",
       "      <th>date_quote_s</th>\n",
       "      <th>date_quote_e</th>\n",
       "      <th>n_obs</th>\n",
       "    </tr>\n",
       "  </thead>\n",
       "  <tbody>\n",
       "    <tr>\n",
       "      <th>4</th>\n",
       "      <td>210107</td>\n",
       "      <td>BROWN LOAF,400G,SLICED-GRAN</td>\n",
       "      <td>198903</td>\n",
       "      <td>200401</td>\n",
       "      <td>29361</td>\n",
       "    </tr>\n",
       "    <tr>\n",
       "      <th>60</th>\n",
       "      <td>210604</td>\n",
       "      <td>IMP LAMB LOIN CHOP-BONE PER KG</td>\n",
       "      <td>199002</td>\n",
       "      <td>200901</td>\n",
       "      <td>25196</td>\n",
       "    </tr>\n",
       "    <tr>\n",
       "      <th>78</th>\n",
       "      <td>210910</td>\n",
       "      <td>FRESH BONELESS CHICKEN BREAST</td>\n",
       "      <td>200302</td>\n",
       "      <td>202303</td>\n",
       "      <td>57325</td>\n",
       "    </tr>\n",
       "    <tr>\n",
       "      <th>154</th>\n",
       "      <td>211714</td>\n",
       "      <td>NON-DAIRY MILK DRINK 900ML-1LT</td>\n",
       "      <td>201702</td>\n",
       "      <td>202303</td>\n",
       "      <td>16863</td>\n",
       "    </tr>\n",
       "    <tr>\n",
       "      <th>267</th>\n",
       "      <td>212527</td>\n",
       "      <td>PRE-PACKED SALAD 100-250G</td>\n",
       "      <td>200202</td>\n",
       "      <td>202303</td>\n",
       "      <td>21382</td>\n",
       "    </tr>\n",
       "    <tr>\n",
       "      <th>270</th>\n",
       "      <td>212530</td>\n",
       "      <td>FRESH VEG-BROCCOLI-PER KG</td>\n",
       "      <td>200702</td>\n",
       "      <td>202303</td>\n",
       "      <td>60640</td>\n",
       "    </tr>\n",
       "    <tr>\n",
       "      <th>276</th>\n",
       "      <td>212601</td>\n",
       "      <td>CANNED TOMATOES 390-400G</td>\n",
       "      <td>198802</td>\n",
       "      <td>202303</td>\n",
       "      <td>91215</td>\n",
       "    </tr>\n",
       "    <tr>\n",
       "      <th>284</th>\n",
       "      <td>212701</td>\n",
       "      <td>APPLES -COOKING-PER LB</td>\n",
       "      <td>198802</td>\n",
       "      <td>199812</td>\n",
       "      <td>37126</td>\n",
       "    </tr>\n",
       "    <tr>\n",
       "      <th>322</th>\n",
       "      <td>212901</td>\n",
       "      <td>CUSTARD POWDER-300G DRUM</td>\n",
       "      <td>198802</td>\n",
       "      <td>200001</td>\n",
       "      <td>22072</td>\n",
       "    </tr>\n",
       "    <tr>\n",
       "      <th>747</th>\n",
       "      <td>430605</td>\n",
       "      <td>CAT FOOD CAN 2</td>\n",
       "      <td>199601</td>\n",
       "      <td>199601</td>\n",
       "      <td>209</td>\n",
       "    </tr>\n",
       "  </tbody>\n",
       "</table>\n",
       "</div>"
      ],
      "text/plain": [
       "     item_id                     description  date_quote_s  date_quote_e  \\\n",
       "4     210107     BROWN LOAF,400G,SLICED-GRAN        198903        200401   \n",
       "60    210604  IMP LAMB LOIN CHOP-BONE PER KG        199002        200901   \n",
       "78    210910   FRESH BONELESS CHICKEN BREAST        200302        202303   \n",
       "154   211714  NON-DAIRY MILK DRINK 900ML-1LT        201702        202303   \n",
       "267   212527       PRE-PACKED SALAD 100-250G        200202        202303   \n",
       "270   212530       FRESH VEG-BROCCOLI-PER KG        200702        202303   \n",
       "276   212601        CANNED TOMATOES 390-400G        198802        202303   \n",
       "284   212701          APPLES -COOKING-PER LB        198802        199812   \n",
       "322   212901        CUSTARD POWDER-300G DRUM        198802        200001   \n",
       "747   430605                  CAT FOOD CAN 2        199601        199601   \n",
       "\n",
       "     n_obs  \n",
       "4    29361  \n",
       "60   25196  \n",
       "78   57325  \n",
       "154  16863  \n",
       "267  21382  \n",
       "270  60640  \n",
       "276  91215  \n",
       "284  37126  \n",
       "322  22072  \n",
       "747    209  "
      ]
     },
     "execution_count": 36,
     "metadata": {},
     "output_type": "execute_result"
    }
   ],
   "source": [
    "target_ids = [210604, 430605, 210910, 212701, 212527, 212601, 212530, 210107, 211714, 212901]\n",
    "df[df['item_id'].isin(target_ids)]"
   ]
  },
  {
   "attachments": {},
   "cell_type": "markdown",
   "metadata": {},
   "source": [
    "<h1> Scraping with Selenium </h1>\n",
    "Selenium is a tool that automates browsers. It is mostly used for testing purposes, but it can also be used for web scraping. It's a more useful approach than simple requests+bs4 when the website is dynamic and requires javascript to load the content and when the sites try to block bots.\n",
    "\n",
    "Let's try Tesco."
   ]
  },
  {
   "cell_type": "code",
   "execution_count": 131,
   "metadata": {},
   "outputs": [],
   "source": [
    "driver = webdriver.Firefox()"
   ]
  },
  {
   "cell_type": "code",
   "execution_count": 132,
   "metadata": {},
   "outputs": [],
   "source": [
    "\n",
    "driver.get(\"https://www.tesco.com/groceries/en-GB/shop/home-and-ents/all?page=10&count=48/\")\n"
   ]
  },
  {
   "attachments": {},
   "cell_type": "markdown",
   "metadata": {},
   "source": [
    "From snooping around the html code, we can see the best way in is to go by the href, and filter for products:"
   ]
  },
  {
   "cell_type": "code",
   "execution_count": null,
   "metadata": {},
   "outputs": [],
   "source": [
    "def get_products(driver):\n",
    "    \"\"\"\n",
    "    Args:\n",
    "        driver: webdriver\n",
    "    Returns:\n",
    "        list of products\n",
    "    \"\"\"\n",
    "    count = 0\n",
    "    products = []\n",
    "    a_s = driver.find_elements(By.TAG_NAME, \"a\")\n",
    "    for a in a_s:\n",
    "        # check if a has a href attribute\n",
    "        if(a.get_attribute('href') != None and'/products/' in a.get_attribute('href')):\n",
    "            product = {}\n",
    "            count += 1\n",
    "            #print(f\"{count}:{a.get_attribute('href')}\")\n",
    "            try:\n",
    "                span_child = a.find_element(By.TAG_NAME, \"span\")\n",
    "                product = {'name': span_child.text, 'link': a.get_attribute('href')}\n",
    "                gp = a.find_element(By.XPATH, '..')\n",
    "                gp = gp.find_element(By.XPATH, '..')\n",
    "                p_elements = gp.find_elements(By.TAG_NAME, \"p\")\n",
    "                prices = []\n",
    "                for p in p_elements:\n",
    "                    if '£' in p.text:\n",
    "                        prices.append(p.text)\n",
    "                product['prices'] = prices\n",
    "                products.append(product)\n",
    "            except Exception as e:\n",
    "                continue\n",
    "    return products\n",
    "\n",
    "        \n"
   ]
  },
  {
   "attachments": {},
   "cell_type": "markdown",
   "metadata": {},
   "source": [
    "Let's see how many we can do before they just block us.\n",
    "We can try Fresh Food - the website tells us there are 3667 products in this category - so 77 pages of 48 products each."
   ]
  },
  {
   "cell_type": "code",
   "execution_count": 154,
   "metadata": {},
   "outputs": [
    {
     "name": "stdout",
     "output_type": "stream",
     "text": [
      "https://www.tesco.com/groceries/en-GB/shop/fresh-food/all/?page=56&count=48\n",
      "https://www.tesco.com/groceries/en-GB/shop/fresh-food/all/?page=57&count=48\n",
      "https://www.tesco.com/groceries/en-GB/shop/fresh-food/all/?page=58&count=48\n",
      "https://www.tesco.com/groceries/en-GB/shop/fresh-food/all/?page=59&count=48\n",
      "https://www.tesco.com/groceries/en-GB/shop/fresh-food/all/?page=60&count=48\n",
      "https://www.tesco.com/groceries/en-GB/shop/fresh-food/all/?page=61&count=48\n",
      "https://www.tesco.com/groceries/en-GB/shop/fresh-food/all/?page=62&count=48\n",
      "https://www.tesco.com/groceries/en-GB/shop/fresh-food/all/?page=63&count=48\n",
      "https://www.tesco.com/groceries/en-GB/shop/fresh-food/all/?page=64&count=48\n",
      "https://www.tesco.com/groceries/en-GB/shop/fresh-food/all/?page=65&count=48\n",
      "https://www.tesco.com/groceries/en-GB/shop/fresh-food/all/?page=66&count=48\n",
      "https://www.tesco.com/groceries/en-GB/shop/fresh-food/all/?page=67&count=48\n",
      "https://www.tesco.com/groceries/en-GB/shop/fresh-food/all/?page=68&count=48\n",
      "https://www.tesco.com/groceries/en-GB/shop/fresh-food/all/?page=69&count=48\n",
      "https://www.tesco.com/groceries/en-GB/shop/fresh-food/all/?page=70&count=48\n",
      "https://www.tesco.com/groceries/en-GB/shop/fresh-food/all/?page=71&count=48\n",
      "https://www.tesco.com/groceries/en-GB/shop/fresh-food/all/?page=72&count=48\n",
      "https://www.tesco.com/groceries/en-GB/shop/fresh-food/all/?page=73&count=48\n",
      "https://www.tesco.com/groceries/en-GB/shop/fresh-food/all/?page=74&count=48\n"
     ]
    }
   ],
   "source": [
    "urls = [\"https://www.tesco.com/groceries/en-GB/shop/fresh-food/all/\"]+[f\"https://www.tesco.com/groceries/en-GB/shop/fresh-food/all/?page={i}&count=48\" for i in range(2, 75)]\n",
    "\n",
    "driver = webdriver.Firefox()\n",
    "products = []\n",
    "for url in urls:\n",
    "    print(url)\n",
    "    driver.get(url)\n",
    "    page_products = get_products(driver)\n",
    "    products += page_products\n",
    "    if len(products) <5:\n",
    "        break\n",
    "    driver.implicitly_wait( np.clip(np.random.normal(1, 1), 0,2) )"
   ]
  },
  {
   "cell_type": "code",
   "execution_count": 157,
   "metadata": {},
   "outputs": [],
   "source": [
    "import pickle as pkl\n",
    "pkl.dump(products, open('product_pages.pkl', 'wb'))"
   ]
  },
  {
   "attachments": {},
   "cell_type": "markdown",
   "metadata": {},
   "source": [
    "Wow, so they didn't block at all. We were moving incredibly slowly though - 40 seconds for 48 products. Let's speed up!\n",
    "We don't need to wait for the page to load - we can use 'eager' loading."
   ]
  },
  {
   "cell_type": "code",
   "execution_count": 164,
   "metadata": {},
   "outputs": [
    {
     "name": "stderr",
     "output_type": "stream",
     "text": [
      "/var/folders/by/095_7x8j04x77vcq4_rvm1_m0000gn/T/ipykernel_40103/2157608254.py:3: DeprecationWarning: capabilities and desired_capabilities have been deprecated, please pass in a Service object\n",
      "  driver = webdriver.Firefox(desired_capabilities=caps)\n"
     ]
    }
   ],
   "source": [
    "caps = DesiredCapabilities().FIREFOX\n",
    "caps[\"pageLoadStrategy\"] = \"eager\"  #  interactive\n",
    "driver = webdriver.Firefox(desired_capabilities=caps)\n"
   ]
  },
  {
   "cell_type": "code",
   "execution_count": 166,
   "metadata": {},
   "outputs": [
    {
     "ename": "AttributeError",
     "evalue": "'builtin_function_or_method' object has no attribute 'sleep'",
     "output_type": "error",
     "traceback": [
      "\u001b[0;31m---------------------------------------------------------------------------\u001b[0m",
      "\u001b[0;31mAttributeError\u001b[0m                            Traceback (most recent call last)",
      "\u001b[1;32m/Users/finn/Documents/GitHub/FM-ds.github.io/EconOb/Prices/Selenium_Test.ipynb Cell 17\u001b[0m in \u001b[0;36m<cell line: 3>\u001b[0;34m()\u001b[0m\n\u001b[1;32m      <a href='vscode-notebook-cell:/Users/finn/Documents/GitHub/FM-ds.github.io/EconOb/Prices/Selenium_Test.ipynb#Y120sZmlsZQ%3D%3D?line=0'>1</a>\u001b[0m driver\u001b[39m.\u001b[39mget(urls[\u001b[39m3\u001b[39m])\n\u001b[1;32m      <a href='vscode-notebook-cell:/Users/finn/Documents/GitHub/FM-ds.github.io/EconOb/Prices/Selenium_Test.ipynb#Y120sZmlsZQ%3D%3D?line=1'>2</a>\u001b[0m \u001b[39m# wait 5 seconds\u001b[39;00m\n\u001b[0;32m----> <a href='vscode-notebook-cell:/Users/finn/Documents/GitHub/FM-ds.github.io/EconOb/Prices/Selenium_Test.ipynb#Y120sZmlsZQ%3D%3D?line=2'>3</a>\u001b[0m time\u001b[39m.\u001b[39;49msleep(\u001b[39m5\u001b[39m)\n\u001b[1;32m      <a href='vscode-notebook-cell:/Users/finn/Documents/GitHub/FM-ds.github.io/EconOb/Prices/Selenium_Test.ipynb#Y120sZmlsZQ%3D%3D?line=3'>4</a>\u001b[0m page_products \u001b[39m=\u001b[39m get_products(driver)\n",
      "\u001b[0;31mAttributeError\u001b[0m: 'builtin_function_or_method' object has no attribute 'sleep'"
     ]
    }
   ],
   "source": [
    "driver.get(urls[3])\n",
    "# wait 5 seconds\n",
    "sleep(5)\n",
    "page_products = get_products(driver)"
   ]
  },
  {
   "cell_type": "code",
   "execution_count": 168,
   "metadata": {},
   "outputs": [
    {
     "ename": "NameError",
     "evalue": "name 'sleep' is not defined",
     "output_type": "error",
     "traceback": [
      "\u001b[0;31m---------------------------------------------------------------------------\u001b[0m",
      "\u001b[0;31mNameError\u001b[0m                                 Traceback (most recent call last)",
      "\u001b[1;32m/Users/finn/Documents/GitHub/FM-ds.github.io/EconOb/Prices/Selenium_Test.ipynb Cell 18\u001b[0m in \u001b[0;36m<cell line: 1>\u001b[0;34m()\u001b[0m\n\u001b[0;32m----> <a href='vscode-notebook-cell:/Users/finn/Documents/GitHub/FM-ds.github.io/EconOb/Prices/Selenium_Test.ipynb#Y121sZmlsZQ%3D%3D?line=0'>1</a>\u001b[0m sleep(\u001b[39m5\u001b[39m)\n",
      "\u001b[0;31mNameError\u001b[0m: name 'sleep' is not defined"
     ]
    }
   ],
   "source": [
    "sleep(5)"
   ]
  },
  {
   "cell_type": "code",
   "execution_count": 161,
   "metadata": {},
   "outputs": [
    {
     "data": {
      "text/plain": [
       "26"
      ]
     },
     "execution_count": 161,
     "metadata": {},
     "output_type": "execute_result"
    }
   ],
   "source": [
    "len(page_products)"
   ]
  },
  {
   "cell_type": "code",
   "execution_count": null,
   "metadata": {},
   "outputs": [],
   "source": [
    "https://www.tesco.com/groceries/en-GB/shop/fresh-food/all"
   ]
  },
  {
   "cell_type": "code",
   "execution_count": 135,
   "metadata": {},
   "outputs": [
    {
     "data": {
      "text/plain": [
       "73.34"
      ]
     },
     "execution_count": 135,
     "metadata": {},
     "output_type": "execute_result"
    }
   ],
   "source": [
    "3667/50"
   ]
  },
  {
   "cell_type": "code",
   "execution_count": 133,
   "metadata": {},
   "outputs": [],
   "source": [
    "prods = get_products(driver)"
   ]
  },
  {
   "cell_type": "code",
   "execution_count": 134,
   "metadata": {},
   "outputs": [
    {
     "data": {
      "text/plain": [
       "[{'name': 'Keep It Handy Reusable Shopping Bag',\n",
       "  'link': 'https://www.tesco.com/groceries/en-GB/products/311935737',\n",
       "  'prices': ['£1.50', '£1.50/each']},\n",
       " {'name': 'Fox & Ivy White Heart Serve Bowl Small',\n",
       "  'link': 'https://www.tesco.com/groceries/en-GB/products/313801622',\n",
       "  'prices': ['£2.00', '£2.00/each']},\n",
       " {'name': 'Gold Leaf Jps Quality Blend Tobacco 100G',\n",
       "  'link': 'https://www.tesco.com/groceries/en-GB/products/311943998',\n",
       "  'prices': ['£53.65', '£53.65/100g']},\n",
       " {'name': 'Signature Blue 5X10 Cigars',\n",
       "  'link': 'https://www.tesco.com/groceries/en-GB/products/294349610',\n",
       "  'prices': ['£33.13', '£0.66/each']},\n",
       " {'name': 'Mayfair Original Blue 5X20 Pack',\n",
       "  'link': 'https://www.tesco.com/groceries/en-GB/products/310161907',\n",
       "  'prices': ['£64.95', '£0.65/each']},\n",
       " {'name': 'Fox & Ivy Acacia 3 Bowl Serving Paddle',\n",
       "  'link': 'https://www.tesco.com/groceries/en-GB/products/313664772',\n",
       "  'prices': ['£12.00', '£12.00/each']},\n",
       " {'name': 'Benson & Hedges Silver Roll Your Own 30G',\n",
       "  'link': 'https://www.tesco.com/groceries/en-GB/products/295823404',\n",
       "  'prices': ['£19.35', '£64.50/100g']},\n",
       " {'name': 'Minecraft Mobile Head Minis Assortment',\n",
       "  'link': 'https://www.tesco.com/groceries/en-GB/products/284143177',\n",
       "  'prices': ['£6.50', '£6.50/each']},\n",
       " {'name': 'Juul2 Pods Summer Menthol 18Mg/Ml 2X1.2Ml',\n",
       "  'link': 'https://www.tesco.com/groceries/en-GB/products/311940293',\n",
       "  'prices': ['£5.99', '£3.00/each']},\n",
       " {'name': 'Fox & Ivy Muse Grey Pasta Bowl Grey',\n",
       "  'link': 'https://www.tesco.com/groceries/en-GB/products/311462651',\n",
       "  'prices': ['£5.50', '£5.50/each']},\n",
       " {'name': 'Brita Maxtra Plus Cartridges Single',\n",
       "  'link': 'https://www.tesco.com/groceries/en-GB/products/297792380',\n",
       "  'prices': ['£6.50', '£6.50/each']},\n",
       " {'name': 'Blu 2.0 Pods Fresh Mint 9Mg/Ml 2 X 1.9Ml',\n",
       "  'link': 'https://www.tesco.com/groceries/en-GB/products/312845767',\n",
       "  'prices': ['£6.99', '£1,839.47/litre']},\n",
       " {'name': 'Sistema Soup To Go',\n",
       "  'link': 'https://www.tesco.com/groceries/en-GB/products/280769013',\n",
       "  'prices': ['£5.00', '£5.00/each']},\n",
       " {'name': 'Fox & Ivy Muse Grey Side Plate Grey',\n",
       "  'link': 'https://www.tesco.com/groceries/en-GB/products/311462645',\n",
       "  'prices': ['£4.50', '£4.50/each']},\n",
       " {'name': 'Yankee 4 Votive Gift Set',\n",
       "  'link': 'https://www.tesco.com/groceries/en-GB/products/310807528',\n",
       "  'prices': ['£6.00', '£1.50/each']},\n",
       " {'name': 'Fox & Ivy Oshi Cereal Bowl Black',\n",
       "  'link': 'https://www.tesco.com/groceries/en-GB/products/311463074',\n",
       "  'prices': ['£4.00', '£4.00/each']},\n",
       " {'name': 'Hamlet Fine Cigars 5 Pack',\n",
       "  'link': 'https://www.tesco.com/groceries/en-GB/products/295487352',\n",
       "  'prices': ['£7.60', '£1.52/each']},\n",
       " {'name': 'Bic Cristal Pens Black 10 Pack',\n",
       "  'link': 'https://www.tesco.com/groceries/en-GB/products/263331384',\n",
       "  'prices': ['£3.25', '£0.32/each']},\n",
       " {'name': 'Ibiza Club Vapes & E-Liquids 12Mg Ice Mint',\n",
       "  'link': 'https://www.tesco.com/groceries/en-GB/products/305662694',\n",
       "  'prices': ['£3.00', '£300.00/litre']},\n",
       " {'name': 'Ibiza Club Vape & E-Liquids 6Mg Mixed Berry',\n",
       "  'link': 'https://www.tesco.com/groceries/en-GB/products/305680849',\n",
       "  'prices': ['£3.00', '£300.00/litre']},\n",
       " {'name': 'Tesco 9 Led Metal Mini Torch',\n",
       "  'link': 'https://www.tesco.com/groceries/en-GB/products/289356983',\n",
       "  'prices': ['£2.75', '£2.75/each']},\n",
       " {'name': 'Go Create Drawing Pad A4',\n",
       "  'link': 'https://www.tesco.com/groceries/en-GB/products/281467766',\n",
       "  'prices': ['£2.00', '£2.00/each']},\n",
       " {'name': 'Tesco Ramekin Ceramic White 2 Pack',\n",
       "  'link': 'https://www.tesco.com/groceries/en-GB/products/295157242',\n",
       "  'prices': ['£2.50', '£1.25/each']},\n",
       " {'name': 'Tesco Porcelain Dinner Plate',\n",
       "  'link': 'https://www.tesco.com/groceries/en-GB/products/271771582',\n",
       "  'prices': []},\n",
       " {'name': 'Tesco Nova Porcelain Cereal Bowl',\n",
       "  'link': 'https://www.tesco.com/groceries/en-GB/products/270309142',\n",
       "  'prices': ['£2.50', '£2.50/each']},\n",
       " {'name': 'Tesco Aura Cereal Bowl White',\n",
       "  'link': 'https://www.tesco.com/groceries/en-GB/products/305662291',\n",
       "  'prices': ['£2.25', '£2.25/each']},\n",
       " {'name': 'Home Connections Wine Glass Wine Glass',\n",
       "  'link': 'https://www.tesco.com/groceries/en-GB/products/312843781',\n",
       "  'prices': ['£3.00', '£3.00/each']},\n",
       " {'name': 'Tesco Klipfresh Rectangle 1L',\n",
       "  'link': 'https://www.tesco.com/groceries/en-GB/products/296663050',\n",
       "  'prices': ['£3.25', '£3.25/each']},\n",
       " {'name': 'Tesco Aura Dinner Plate Midnight',\n",
       "  'link': 'https://www.tesco.com/groceries/en-GB/products/308433696',\n",
       "  'prices': ['£2.50', '£2.50/each']},\n",
       " {'name': 'Ocb Virgin Paper Slim & Filters Unbleached',\n",
       "  'link': 'https://www.tesco.com/groceries/en-GB/products/304334687',\n",
       "  'prices': ['£1.45', '£0.04/each']},\n",
       " {'name': 'Tesco Seasalt And Sandalwood 27Pk Tealights',\n",
       "  'link': 'https://www.tesco.com/groceries/en-GB/products/299644068',\n",
       "  'prices': ['£2.00', '£0.07/each']},\n",
       " {'name': 'Tesco Mini Star Bubbles 8Pk',\n",
       "  'link': 'https://www.tesco.com/groceries/en-GB/products/293017538',\n",
       "  'prices': ['£2.00', '£0.25/each']},\n",
       " {'name': 'Tesco Scented 30Ml Reed Diffuser Rhubarb & Elderberry',\n",
       "  'link': 'https://www.tesco.com/groceries/en-GB/products/310372252',\n",
       "  'prices': ['£1.50', '£50.00/litre']},\n",
       " {'name': 'Tesco Multi Colour Tags 5 Pack',\n",
       "  'link': 'https://www.tesco.com/groceries/en-GB/products/312207072',\n",
       "  'prices': ['£1.00', '£0.20/each']},\n",
       " {'name': 'Tesco Practic Wooden Pastry Brush',\n",
       "  'link': 'https://www.tesco.com/groceries/en-GB/products/255404092',\n",
       "  'prices': ['£1.25', '£1.25/each']},\n",
       " {'name': 'Tesco Pastel Tags 5 Pack',\n",
       "  'link': 'https://www.tesco.com/groceries/en-GB/products/310708686',\n",
       "  'prices': ['£1.00', '£0.20/each']},\n",
       " {'name': 'Bostik White Tac Convenience Pack',\n",
       "  'link': 'https://www.tesco.com/groceries/en-GB/products/259806284',\n",
       "  'prices': ['£1.35', '£1.35/each']},\n",
       " {'name': 'Tesco Sticky Notes 76Mmx76mm Yellow 100Shts',\n",
       "  'link': 'https://www.tesco.com/groceries/en-GB/products/258864371',\n",
       "  'prices': ['£0.75', '£0.75/each']},\n",
       " {'name': 'Tesco Grey Spot Mug',\n",
       "  'link': 'https://www.tesco.com/groceries/en-GB/products/311353734',\n",
       "  'prices': ['£1.50', '£1.50/each']},\n",
       " {'name': 'Keep It Handy Thermometer',\n",
       "  'link': 'https://www.tesco.com/groceries/en-GB/products/306350791',\n",
       "  'prices': ['£1.50', '£1.50/each']},\n",
       " {'name': 'Keep It Handy Bottle Opener And Corkscrew',\n",
       "  'link': 'https://www.tesco.com/groceries/en-GB/products/312103661',\n",
       "  'prices': ['£1.50', '£1.50/each']},\n",
       " {'name': 'Curver Mystyle Dark Grey Basket Small',\n",
       "  'link': 'https://www.tesco.com/groceries/en-GB/products/312210516',\n",
       "  'prices': ['£3.00', '£3.00/each']},\n",
       " {'name': 'Tesco Carded Fresh Linen Air Freshener',\n",
       "  'link': 'https://www.tesco.com/groceries/en-GB/products/294347059',\n",
       "  'prices': ['£1.00', '£1.00/each']},\n",
       " {'name': 'Scoville Non Stick 30Cm Frying Pan',\n",
       "  'link': 'https://www.tesco.com/groceries/en-GB/products/311226563',\n",
       "  'prices': ['£19.00', '£19.00/each']},\n",
       " {'name': 'Duracell 2032 4 Pack',\n",
       "  'link': 'https://www.tesco.com/groceries/en-GB/products/293437254',\n",
       "  'prices': ['£8.00', '£2.00/each']},\n",
       " {'name': 'Tesco Soft Touch Pillow 2 Pack (Medium)',\n",
       "  'link': 'https://www.tesco.com/groceries/en-GB/products/296078443',\n",
       "  'prices': ['£8.50', '£4.25/each']},\n",
       " {'name': 'Vuse Original Epen Pods Wild Berries 12Mg/Ml 2 Pack',\n",
       "  'link': 'https://www.tesco.com/groceries/en-GB/products/309168674',\n",
       "  'prices': ['£7.99', '£1,997.50/litre']},\n",
       " {'name': 'Drum Tobacco Original Blue 30G',\n",
       "  'link': 'https://www.tesco.com/groceries/en-GB/products/296056734',\n",
       "  'prices': ['£20.80', '£69.33/100g']}]"
      ]
     },
     "execution_count": 134,
     "metadata": {},
     "output_type": "execute_result"
    }
   ],
   "source": [
    "prods"
   ]
  },
  {
   "cell_type": "code",
   "execution_count": 102,
   "metadata": {},
   "outputs": [],
   "source": [
    "a_s = driver.find_elements(By.TAG_NAME, \"a\")"
   ]
  },
  {
   "cell_type": "code",
   "execution_count": 103,
   "metadata": {},
   "outputs": [
    {
     "name": "stdout",
     "output_type": "stream",
     "text": [
      "reached\n",
      "reached\n",
      "reached\n",
      "reached\n",
      "reached\n",
      "reached\n",
      "reached\n",
      "reached\n",
      "reached\n",
      "reached\n",
      "reached\n",
      "reached\n",
      "reached\n",
      "reached\n",
      "reached\n",
      "reached\n",
      "reached\n",
      "reached\n",
      "reached\n",
      "reached\n",
      "reached\n",
      "reached\n",
      "reached\n",
      "reached\n",
      "reached\n",
      "reached\n",
      "reached\n",
      "reached\n",
      "reached\n",
      "reached\n",
      "reached\n",
      "reached\n",
      "reached\n",
      "reached\n",
      "reached\n",
      "reached\n",
      "reached\n",
      "reached\n",
      "reached\n",
      "reached\n",
      "reached\n",
      "reached\n",
      "reached\n",
      "reached\n",
      "reached\n",
      "reached\n",
      "reached\n",
      "reached\n"
     ]
    }
   ],
   "source": [
    "count = 0\n",
    "products = []\n",
    "for a in a_s:\n",
    "    # check if a has a href attribute\n",
    "    if(a.get_attribute('href') != None and'/products/' in a.get_attribute('href')):\n",
    "        product = {}\n",
    "        count += 1\n",
    "        #print(f\"{count}:{a.get_attribute('href')}\")\n",
    "        try:\n",
    "            span_child = a.find_element(By.TAG_NAME, \"span\")\n",
    "            product = {'name': span_child.text, 'link': a.get_attribute('href')}\n",
    "            gp = a.find_element(By.XPATH, '..')\n",
    "            gp = gp.find_element(By.XPATH, '..')\n",
    "            p_elements = gp.find_elements(By.TAG_NAME, \"p\")\n",
    "            prices = []\n",
    "            for p in p_elements:\n",
    "                if '£' in p.text:\n",
    "                    prices.append(p.text)\n",
    "            product['prices'] = prices\n",
    "            products.append(product)\n",
    "        except Exception as e:\n",
    "            continue\n",
    "\n",
    "        "
   ]
  },
  {
   "cell_type": "code",
   "execution_count": 104,
   "metadata": {},
   "outputs": [
    {
     "data": {
      "text/plain": [
       "48"
      ]
     },
     "execution_count": 104,
     "metadata": {},
     "output_type": "execute_result"
    }
   ],
   "source": [
    "len(products)"
   ]
  },
  {
   "cell_type": "code",
   "execution_count": 80,
   "metadata": {},
   "outputs": [],
   "source": [
    "a = product_link_elements[1]"
   ]
  },
  {
   "cell_type": "code",
   "execution_count": 85,
   "metadata": {},
   "outputs": [],
   "source": [
    "# Find a's grandparent\n",
    "gp = a.find_element(By.XPATH, '..').find_element(By.XPATH, '..')\n",
    "p_elements = gp.find_elements(By.TAG_NAME, \"p\")"
   ]
  },
  {
   "cell_type": "code",
   "execution_count": 87,
   "metadata": {},
   "outputs": [
    {
     "name": "stdout",
     "output_type": "stream",
     "text": [
      "Please note that the products shown are an assortment, you could receive any one of the products shown, to make a request for a preference please use the picker notes available on checkout\n",
      "£1.50\n",
      "£1.50/each\n"
     ]
    }
   ],
   "source": [
    "for p in p_elements:\n",
    "    print(p.text)"
   ]
  },
  {
   "cell_type": "code",
   "execution_count": 83,
   "metadata": {},
   "outputs": [
    {
     "data": {
      "text/plain": [
       "<selenium.webdriver.remote.webelement.WebElement (session=\"ec5f6eea47a9e7c29fa26d00ecaea3e9\", element=\"b20ac280-d3ce-427c-ac10-bfea60b31336\")>"
      ]
     },
     "execution_count": 83,
     "metadata": {},
     "output_type": "execute_result"
    }
   ],
   "source": [
    "gp.find_element(By.XPATH, '..')"
   ]
  },
  {
   "cell_type": "code",
   "execution_count": 82,
   "metadata": {},
   "outputs": [
    {
     "data": {
      "text/plain": [
       "'h3'"
      ]
     },
     "execution_count": 82,
     "metadata": {},
     "output_type": "execute_result"
    }
   ],
   "source": [
    "gp.tag_name"
   ]
  },
  {
   "cell_type": "code",
   "execution_count": 65,
   "metadata": {},
   "outputs": [
    {
     "data": {
      "text/plain": [
       "'Keep It Handy Reusable Shopping Bag'"
      ]
     },
     "execution_count": 65,
     "metadata": {},
     "output_type": "execute_result"
    }
   ],
   "source": [
    "product_link_elements[1].find_element(By.TAG_NAME, \"span\").text"
   ]
  },
  {
   "cell_type": "code",
   "execution_count": 122,
   "metadata": {},
   "outputs": [
    {
     "name": "stderr",
     "output_type": "stream",
     "text": [
      "/var/folders/by/095_7x8j04x77vcq4_rvm1_m0000gn/T/ipykernel_40103/1629774272.py:2: DeprecationWarning: headless property is deprecated, instead use add_argument('--headless') or add_argument('--headless=new')\n",
      "  options.headless = True\n",
      "/var/folders/by/095_7x8j04x77vcq4_rvm1_m0000gn/T/ipykernel_40103/1629774272.py:13: DeprecationWarning: use options instead of chrome_options\n",
      "  driver = webdriver.Chrome(options=options, chrome_options=chrome_options)\n"
     ]
    }
   ],
   "source": [
    "options = Options()\n",
    "options.headless = True\n",
    "\n",
    "chrome_options = webdriver.ChromeOptions()\n",
    "# this will disable image loading\n",
    "chrome_options.add_argument('--blink-settings=imagesEnabled=false')\n",
    "chrome_options.add_argument(\"--headless\")\n",
    "# or alternatively we can set direct preference:\n",
    "chrome_options.add_experimental_option(\n",
    "    \"prefs\", {\"profile.managed_default_content_settings.images\": 2}\n",
    ")\n",
    "\n",
    "driver = webdriver.Chrome(options=options, chrome_options=chrome_options)"
   ]
  },
  {
   "cell_type": "code",
   "execution_count": 68,
   "metadata": {},
   "outputs": [
    {
     "ename": "NoSuchElementException",
     "evalue": "Message: no such element: Unable to locate element: {\"method\":\"tag name\",\"selector\":\"span\"}\n  (Session info: MicrosoftEdge=111.0.1661.51)\nStacktrace:\n0   msedgedriver                        0x0000000104bb48a0 msedgedriver + 4376736\n1   msedgedriver                        0x0000000104b46e30 msedgedriver + 3927600\n2   msedgedriver                        0x00000001047c53fc msedgedriver + 250876\n3   msedgedriver                        0x00000001047fa8e4 msedgedriver + 469220\n4   msedgedriver                        0x00000001047f2670 msedgedriver + 435824\n5   msedgedriver                        0x000000010482cad4 msedgedriver + 674516\n6   msedgedriver                        0x00000001047f0c48 msedgedriver + 429128\n7   msedgedriver                        0x00000001047f1dc8 msedgedriver + 433608\n8   msedgedriver                        0x0000000104b89f94 msedgedriver + 4202388\n9   msedgedriver                        0x0000000104b8dc88 msedgedriver + 4217992\n10  msedgedriver                        0x0000000104b8d80c msedgedriver + 4216844\n11  msedgedriver                        0x0000000104b92ec4 msedgedriver + 4239044\n12  msedgedriver                        0x0000000104b8e540 msedgedriver + 4220224\n13  msedgedriver                        0x0000000104b6dac8 msedgedriver + 4086472\n14  msedgedriver                        0x0000000104ba8f98 msedgedriver + 4329368\n15  msedgedriver                        0x0000000104ba90a8 msedgedriver + 4329640\n16  msedgedriver                        0x0000000104bbc0d4 msedgedriver + 4407508\n17  libsystem_pthread.dylib             0x0000000195f3a06c _pthread_start + 148\n18  libsystem_pthread.dylib             0x0000000195f34e2c thread_start + 8\n",
     "output_type": "error",
     "traceback": [
      "\u001b[0;31m---------------------------------------------------------------------------\u001b[0m",
      "\u001b[0;31mNoSuchElementException\u001b[0m                    Traceback (most recent call last)",
      "\u001b[1;32m/Users/finn/Documents/GitHub/FM-ds.github.io/EconOb/Prices/Selenium_Test.ipynb Cell 16\u001b[0m in \u001b[0;36m<cell line: 1>\u001b[0;34m()\u001b[0m\n\u001b[0;32m----> <a href='vscode-notebook-cell:/Users/finn/Documents/GitHub/FM-ds.github.io/EconOb/Prices/Selenium_Test.ipynb#X44sZmlsZQ%3D%3D?line=0'>1</a>\u001b[0m product_link_elements[\u001b[39m0\u001b[39;49m]\u001b[39m.\u001b[39;49mfind_element(By\u001b[39m.\u001b[39;49mTAG_NAME, \u001b[39m\"\u001b[39;49m\u001b[39mspan\u001b[39;49m\u001b[39m\"\u001b[39;49m)\n",
      "File \u001b[0;32m/opt/anaconda3/lib/python3.9/site-packages/selenium/webdriver/remote/webelement.py:425\u001b[0m, in \u001b[0;36mWebElement.find_element\u001b[0;34m(self, by, value)\u001b[0m\n\u001b[1;32m    422\u001b[0m     by \u001b[39m=\u001b[39m By\u001b[39m.\u001b[39mCSS_SELECTOR\n\u001b[1;32m    423\u001b[0m     value \u001b[39m=\u001b[39m \u001b[39mf\u001b[39m\u001b[39m'\u001b[39m\u001b[39m[name=\u001b[39m\u001b[39m\"\u001b[39m\u001b[39m{\u001b[39;00mvalue\u001b[39m}\u001b[39;00m\u001b[39m\"\u001b[39m\u001b[39m]\u001b[39m\u001b[39m'\u001b[39m\n\u001b[0;32m--> 425\u001b[0m \u001b[39mreturn\u001b[39;00m \u001b[39mself\u001b[39;49m\u001b[39m.\u001b[39;49m_execute(Command\u001b[39m.\u001b[39;49mFIND_CHILD_ELEMENT, {\u001b[39m\"\u001b[39;49m\u001b[39musing\u001b[39;49m\u001b[39m\"\u001b[39;49m: by, \u001b[39m\"\u001b[39;49m\u001b[39mvalue\u001b[39;49m\u001b[39m\"\u001b[39;49m: value})[\u001b[39m\"\u001b[39m\u001b[39mvalue\u001b[39m\u001b[39m\"\u001b[39m]\n",
      "File \u001b[0;32m/opt/anaconda3/lib/python3.9/site-packages/selenium/webdriver/remote/webelement.py:403\u001b[0m, in \u001b[0;36mWebElement._execute\u001b[0;34m(self, command, params)\u001b[0m\n\u001b[1;32m    401\u001b[0m     params \u001b[39m=\u001b[39m {}\n\u001b[1;32m    402\u001b[0m params[\u001b[39m\"\u001b[39m\u001b[39mid\u001b[39m\u001b[39m\"\u001b[39m] \u001b[39m=\u001b[39m \u001b[39mself\u001b[39m\u001b[39m.\u001b[39m_id\n\u001b[0;32m--> 403\u001b[0m \u001b[39mreturn\u001b[39;00m \u001b[39mself\u001b[39;49m\u001b[39m.\u001b[39;49m_parent\u001b[39m.\u001b[39;49mexecute(command, params)\n",
      "File \u001b[0;32m/opt/anaconda3/lib/python3.9/site-packages/selenium/webdriver/remote/webdriver.py:440\u001b[0m, in \u001b[0;36mWebDriver.execute\u001b[0;34m(self, driver_command, params)\u001b[0m\n\u001b[1;32m    438\u001b[0m response \u001b[39m=\u001b[39m \u001b[39mself\u001b[39m\u001b[39m.\u001b[39mcommand_executor\u001b[39m.\u001b[39mexecute(driver_command, params)\n\u001b[1;32m    439\u001b[0m \u001b[39mif\u001b[39;00m response:\n\u001b[0;32m--> 440\u001b[0m     \u001b[39mself\u001b[39;49m\u001b[39m.\u001b[39;49merror_handler\u001b[39m.\u001b[39;49mcheck_response(response)\n\u001b[1;32m    441\u001b[0m     response[\u001b[39m\"\u001b[39m\u001b[39mvalue\u001b[39m\u001b[39m\"\u001b[39m] \u001b[39m=\u001b[39m \u001b[39mself\u001b[39m\u001b[39m.\u001b[39m_unwrap_value(response\u001b[39m.\u001b[39mget(\u001b[39m\"\u001b[39m\u001b[39mvalue\u001b[39m\u001b[39m\"\u001b[39m, \u001b[39mNone\u001b[39;00m))\n\u001b[1;32m    442\u001b[0m     \u001b[39mreturn\u001b[39;00m response\n",
      "File \u001b[0;32m/opt/anaconda3/lib/python3.9/site-packages/selenium/webdriver/remote/errorhandler.py:245\u001b[0m, in \u001b[0;36mErrorHandler.check_response\u001b[0;34m(self, response)\u001b[0m\n\u001b[1;32m    243\u001b[0m         alert_text \u001b[39m=\u001b[39m value[\u001b[39m\"\u001b[39m\u001b[39malert\u001b[39m\u001b[39m\"\u001b[39m]\u001b[39m.\u001b[39mget(\u001b[39m\"\u001b[39m\u001b[39mtext\u001b[39m\u001b[39m\"\u001b[39m)\n\u001b[1;32m    244\u001b[0m     \u001b[39mraise\u001b[39;00m exception_class(message, screen, stacktrace, alert_text)  \u001b[39m# type: ignore[call-arg]  # mypy is not smart enough here\u001b[39;00m\n\u001b[0;32m--> 245\u001b[0m \u001b[39mraise\u001b[39;00m exception_class(message, screen, stacktrace)\n",
      "\u001b[0;31mNoSuchElementException\u001b[0m: Message: no such element: Unable to locate element: {\"method\":\"tag name\",\"selector\":\"span\"}\n  (Session info: MicrosoftEdge=111.0.1661.51)\nStacktrace:\n0   msedgedriver                        0x0000000104bb48a0 msedgedriver + 4376736\n1   msedgedriver                        0x0000000104b46e30 msedgedriver + 3927600\n2   msedgedriver                        0x00000001047c53fc msedgedriver + 250876\n3   msedgedriver                        0x00000001047fa8e4 msedgedriver + 469220\n4   msedgedriver                        0x00000001047f2670 msedgedriver + 435824\n5   msedgedriver                        0x000000010482cad4 msedgedriver + 674516\n6   msedgedriver                        0x00000001047f0c48 msedgedriver + 429128\n7   msedgedriver                        0x00000001047f1dc8 msedgedriver + 433608\n8   msedgedriver                        0x0000000104b89f94 msedgedriver + 4202388\n9   msedgedriver                        0x0000000104b8dc88 msedgedriver + 4217992\n10  msedgedriver                        0x0000000104b8d80c msedgedriver + 4216844\n11  msedgedriver                        0x0000000104b92ec4 msedgedriver + 4239044\n12  msedgedriver                        0x0000000104b8e540 msedgedriver + 4220224\n13  msedgedriver                        0x0000000104b6dac8 msedgedriver + 4086472\n14  msedgedriver                        0x0000000104ba8f98 msedgedriver + 4329368\n15  msedgedriver                        0x0000000104ba90a8 msedgedriver + 4329640\n16  msedgedriver                        0x0000000104bbc0d4 msedgedriver + 4407508\n17  libsystem_pthread.dylib             0x0000000195f3a06c _pthread_start + 148\n18  libsystem_pthread.dylib             0x0000000195f34e2c thread_start + 8\n"
     ]
    }
   ],
   "source": [
    "product_link_elements[0].find_element(By.TAG_NAME, \"span\")"
   ]
  },
  {
   "cell_type": "code",
   "execution_count": 45,
   "metadata": {},
   "outputs": [
    {
     "data": {
      "text/plain": [
       "<selenium.webdriver.remote.webelement.WebElement (session=\"fb92853809aca9ea11ffd0a13faddddc\", element=\"5708fd8c-150a-436e-bab3-f1391bc893f5\")>"
      ]
     },
     "execution_count": 45,
     "metadata": {},
     "output_type": "execute_result"
    }
   ],
   "source": [
    "driver.find_element(By.ID, \"beans-masthead-desktop-search-input\")ActionChains(driver)\\\n",
    "    .move_to_element(clickable)\\"
   ]
  },
  {
   "cell_type": "code",
   "execution_count": 46,
   "metadata": {},
   "outputs": [],
   "source": [
    "\n",
    "clickable = driver.find_element(By.ID, \"beans-masthead-desktop-search-input\")\n",
    "ActionChains(driver)\\\n",
    "    .move_to_element(clickable)\\\n",
    "    .pause(np.random.normal(1))\\\n",
    "    .click()\\\n",
    "    .pause(np.random.normal(0.2))\\\n",
    "    .send_keys(\"Tomatoes\")\\\n",
    "    .send_keys(Keys.ENTER)\\\n",
    "    .perform()"
   ]
  },
  {
   "cell_type": "code",
   "execution_count": null,
   "metadata": {},
   "outputs": [],
   "source": [
    "\n",
    "clickable = driver.find_element(By.ID, \"beans-masthead-desktop-search-input\")\n",
    "ActionChains(driver)\\\n",
    "    .move_to_element(clickable)\\\n",
    "    .pause(np.random.normal(1))\\\n",
    "    .click()\\\n",
    "    .pause(np.random.normal(0.2))\\\n",
    "    .send_keys(\"Tomatoes\")\\\n",
    "    .send_keys(Keys.ENTER)\\\n",
    "    .perform()"
   ]
  },
  {
   "cell_type": "code",
   "execution_count": null,
   "metadata": {},
   "outputs": [],
   "source": []
  },
  {
   "cell_type": "code",
   "execution_count": 3,
   "metadata": {},
   "outputs": [],
   "source": [
    "def test_eight_components():\n",
    "    driver = webdriver.Chrome()\n",
    "\n",
    "    driver.get(\"https://www.selenium.dev/selenium/web/web-form.html\")\n",
    "\n",
    "    title = driver.title\n",
    "    assert title == \"Web form\"\n",
    "\n",
    "    driver.implicitly_wait(0.5)\n",
    "\n",
    "    text_box = driver.find_element(by=By.NAME, value=\"my-text\")\n",
    "    submit_button = driver.find_element(by=By.CSS_SELECTOR, value=\"button\")\n",
    "\n",
    "    text_box.send_keys(\"Selenium\")\n",
    "    submit_button.click()\n",
    "\n",
    "    message = driver.find_element(by=By.ID, value=\"message\")\n",
    "    value = message.text\n",
    "    assert value == \"Received!\"\n",
    "\n",
    "    driver.quit()"
   ]
  },
  {
   "cell_type": "code",
   "execution_count": 4,
   "metadata": {},
   "outputs": [],
   "source": [
    "test_eight_components()"
   ]
  },
  {
   "cell_type": "code",
   "execution_count": null,
   "metadata": {},
   "outputs": [],
   "source": []
  },
  {
   "cell_type": "code",
   "execution_count": 48,
   "metadata": {},
   "outputs": [
    {
     "ename": "KeyboardInterrupt",
     "evalue": "",
     "output_type": "error",
     "traceback": [
      "\u001b[0;31m---------------------------------------------------------------------------\u001b[0m",
      "\u001b[0;31mKeyboardInterrupt\u001b[0m                         Traceback (most recent call last)",
      "\u001b[1;32m/Users/finn/Documents/GitHub/FM-ds.github.io/EconOb/Prices/Selenium_Test.ipynb Cell 17\u001b[0m in \u001b[0;36m<cell line: 4>\u001b[0;34m()\u001b[0m\n\u001b[1;32m      <a href='vscode-notebook-cell:/Users/finn/Documents/GitHub/FM-ds.github.io/EconOb/Prices/Selenium_Test.ipynb#X33sZmlsZQ%3D%3D?line=0'>1</a>\u001b[0m \u001b[39mimport\u001b[39;00m \u001b[39mrequests\u001b[39;00m\n\u001b[1;32m      <a href='vscode-notebook-cell:/Users/finn/Documents/GitHub/FM-ds.github.io/EconOb/Prices/Selenium_Test.ipynb#X33sZmlsZQ%3D%3D?line=2'>3</a>\u001b[0m url \u001b[39m=\u001b[39m \u001b[39m\"\u001b[39m\u001b[39mhttps://www.tesco.com/groceries/en-GB/shop/home-and-ents/all?page=10&count=48\u001b[39m\u001b[39m\"\u001b[39m\n\u001b[0;32m----> <a href='vscode-notebook-cell:/Users/finn/Documents/GitHub/FM-ds.github.io/EconOb/Prices/Selenium_Test.ipynb#X33sZmlsZQ%3D%3D?line=3'>4</a>\u001b[0m req \u001b[39m=\u001b[39m requests\u001b[39m.\u001b[39;49mget(url)\n",
      "File \u001b[0;32m/opt/anaconda3/lib/python3.9/site-packages/requests/api.py:73\u001b[0m, in \u001b[0;36mget\u001b[0;34m(url, params, **kwargs)\u001b[0m\n\u001b[1;32m     62\u001b[0m \u001b[39mdef\u001b[39;00m \u001b[39mget\u001b[39m(url, params\u001b[39m=\u001b[39m\u001b[39mNone\u001b[39;00m, \u001b[39m*\u001b[39m\u001b[39m*\u001b[39mkwargs):\n\u001b[1;32m     63\u001b[0m     \u001b[39mr\u001b[39m\u001b[39m\"\"\"Sends a GET request.\u001b[39;00m\n\u001b[1;32m     64\u001b[0m \n\u001b[1;32m     65\u001b[0m \u001b[39m    :param url: URL for the new :class:`Request` object.\u001b[39;00m\n\u001b[0;32m   (...)\u001b[0m\n\u001b[1;32m     70\u001b[0m \u001b[39m    :rtype: requests.Response\u001b[39;00m\n\u001b[1;32m     71\u001b[0m \u001b[39m    \"\"\"\u001b[39;00m\n\u001b[0;32m---> 73\u001b[0m     \u001b[39mreturn\u001b[39;00m request(\u001b[39m\"\u001b[39;49m\u001b[39mget\u001b[39;49m\u001b[39m\"\u001b[39;49m, url, params\u001b[39m=\u001b[39;49mparams, \u001b[39m*\u001b[39;49m\u001b[39m*\u001b[39;49mkwargs)\n",
      "File \u001b[0;32m/opt/anaconda3/lib/python3.9/site-packages/requests/api.py:59\u001b[0m, in \u001b[0;36mrequest\u001b[0;34m(method, url, **kwargs)\u001b[0m\n\u001b[1;32m     55\u001b[0m \u001b[39m# By using the 'with' statement we are sure the session is closed, thus we\u001b[39;00m\n\u001b[1;32m     56\u001b[0m \u001b[39m# avoid leaving sockets open which can trigger a ResourceWarning in some\u001b[39;00m\n\u001b[1;32m     57\u001b[0m \u001b[39m# cases, and look like a memory leak in others.\u001b[39;00m\n\u001b[1;32m     58\u001b[0m \u001b[39mwith\u001b[39;00m sessions\u001b[39m.\u001b[39mSession() \u001b[39mas\u001b[39;00m session:\n\u001b[0;32m---> 59\u001b[0m     \u001b[39mreturn\u001b[39;00m session\u001b[39m.\u001b[39;49mrequest(method\u001b[39m=\u001b[39;49mmethod, url\u001b[39m=\u001b[39;49murl, \u001b[39m*\u001b[39;49m\u001b[39m*\u001b[39;49mkwargs)\n",
      "File \u001b[0;32m/opt/anaconda3/lib/python3.9/site-packages/requests/sessions.py:587\u001b[0m, in \u001b[0;36mSession.request\u001b[0;34m(self, method, url, params, data, headers, cookies, files, auth, timeout, allow_redirects, proxies, hooks, stream, verify, cert, json)\u001b[0m\n\u001b[1;32m    582\u001b[0m send_kwargs \u001b[39m=\u001b[39m {\n\u001b[1;32m    583\u001b[0m     \u001b[39m\"\u001b[39m\u001b[39mtimeout\u001b[39m\u001b[39m\"\u001b[39m: timeout,\n\u001b[1;32m    584\u001b[0m     \u001b[39m\"\u001b[39m\u001b[39mallow_redirects\u001b[39m\u001b[39m\"\u001b[39m: allow_redirects,\n\u001b[1;32m    585\u001b[0m }\n\u001b[1;32m    586\u001b[0m send_kwargs\u001b[39m.\u001b[39mupdate(settings)\n\u001b[0;32m--> 587\u001b[0m resp \u001b[39m=\u001b[39m \u001b[39mself\u001b[39;49m\u001b[39m.\u001b[39;49msend(prep, \u001b[39m*\u001b[39;49m\u001b[39m*\u001b[39;49msend_kwargs)\n\u001b[1;32m    589\u001b[0m \u001b[39mreturn\u001b[39;00m resp\n",
      "File \u001b[0;32m/opt/anaconda3/lib/python3.9/site-packages/requests/sessions.py:701\u001b[0m, in \u001b[0;36mSession.send\u001b[0;34m(self, request, **kwargs)\u001b[0m\n\u001b[1;32m    698\u001b[0m start \u001b[39m=\u001b[39m preferred_clock()\n\u001b[1;32m    700\u001b[0m \u001b[39m# Send the request\u001b[39;00m\n\u001b[0;32m--> 701\u001b[0m r \u001b[39m=\u001b[39m adapter\u001b[39m.\u001b[39;49msend(request, \u001b[39m*\u001b[39;49m\u001b[39m*\u001b[39;49mkwargs)\n\u001b[1;32m    703\u001b[0m \u001b[39m# Total elapsed time of the request (approximately)\u001b[39;00m\n\u001b[1;32m    704\u001b[0m elapsed \u001b[39m=\u001b[39m preferred_clock() \u001b[39m-\u001b[39m start\n",
      "File \u001b[0;32m/opt/anaconda3/lib/python3.9/site-packages/requests/adapters.py:489\u001b[0m, in \u001b[0;36mHTTPAdapter.send\u001b[0;34m(self, request, stream, timeout, verify, cert, proxies)\u001b[0m\n\u001b[1;32m    487\u001b[0m \u001b[39mtry\u001b[39;00m:\n\u001b[1;32m    488\u001b[0m     \u001b[39mif\u001b[39;00m \u001b[39mnot\u001b[39;00m chunked:\n\u001b[0;32m--> 489\u001b[0m         resp \u001b[39m=\u001b[39m conn\u001b[39m.\u001b[39;49murlopen(\n\u001b[1;32m    490\u001b[0m             method\u001b[39m=\u001b[39;49mrequest\u001b[39m.\u001b[39;49mmethod,\n\u001b[1;32m    491\u001b[0m             url\u001b[39m=\u001b[39;49murl,\n\u001b[1;32m    492\u001b[0m             body\u001b[39m=\u001b[39;49mrequest\u001b[39m.\u001b[39;49mbody,\n\u001b[1;32m    493\u001b[0m             headers\u001b[39m=\u001b[39;49mrequest\u001b[39m.\u001b[39;49mheaders,\n\u001b[1;32m    494\u001b[0m             redirect\u001b[39m=\u001b[39;49m\u001b[39mFalse\u001b[39;49;00m,\n\u001b[1;32m    495\u001b[0m             assert_same_host\u001b[39m=\u001b[39;49m\u001b[39mFalse\u001b[39;49;00m,\n\u001b[1;32m    496\u001b[0m             preload_content\u001b[39m=\u001b[39;49m\u001b[39mFalse\u001b[39;49;00m,\n\u001b[1;32m    497\u001b[0m             decode_content\u001b[39m=\u001b[39;49m\u001b[39mFalse\u001b[39;49;00m,\n\u001b[1;32m    498\u001b[0m             retries\u001b[39m=\u001b[39;49m\u001b[39mself\u001b[39;49m\u001b[39m.\u001b[39;49mmax_retries,\n\u001b[1;32m    499\u001b[0m             timeout\u001b[39m=\u001b[39;49mtimeout,\n\u001b[1;32m    500\u001b[0m         )\n\u001b[1;32m    502\u001b[0m     \u001b[39m# Send the request.\u001b[39;00m\n\u001b[1;32m    503\u001b[0m     \u001b[39melse\u001b[39;00m:\n\u001b[1;32m    504\u001b[0m         \u001b[39mif\u001b[39;00m \u001b[39mhasattr\u001b[39m(conn, \u001b[39m\"\u001b[39m\u001b[39mproxy_pool\u001b[39m\u001b[39m\"\u001b[39m):\n",
      "File \u001b[0;32m/opt/anaconda3/lib/python3.9/site-packages/urllib3/connectionpool.py:703\u001b[0m, in \u001b[0;36mHTTPConnectionPool.urlopen\u001b[0;34m(self, method, url, body, headers, retries, redirect, assert_same_host, timeout, pool_timeout, release_conn, chunked, body_pos, **response_kw)\u001b[0m\n\u001b[1;32m    700\u001b[0m     \u001b[39mself\u001b[39m\u001b[39m.\u001b[39m_prepare_proxy(conn)\n\u001b[1;32m    702\u001b[0m \u001b[39m# Make the request on the httplib connection object.\u001b[39;00m\n\u001b[0;32m--> 703\u001b[0m httplib_response \u001b[39m=\u001b[39m \u001b[39mself\u001b[39;49m\u001b[39m.\u001b[39;49m_make_request(\n\u001b[1;32m    704\u001b[0m     conn,\n\u001b[1;32m    705\u001b[0m     method,\n\u001b[1;32m    706\u001b[0m     url,\n\u001b[1;32m    707\u001b[0m     timeout\u001b[39m=\u001b[39;49mtimeout_obj,\n\u001b[1;32m    708\u001b[0m     body\u001b[39m=\u001b[39;49mbody,\n\u001b[1;32m    709\u001b[0m     headers\u001b[39m=\u001b[39;49mheaders,\n\u001b[1;32m    710\u001b[0m     chunked\u001b[39m=\u001b[39;49mchunked,\n\u001b[1;32m    711\u001b[0m )\n\u001b[1;32m    713\u001b[0m \u001b[39m# If we're going to release the connection in ``finally:``, then\u001b[39;00m\n\u001b[1;32m    714\u001b[0m \u001b[39m# the response doesn't need to know about the connection. Otherwise\u001b[39;00m\n\u001b[1;32m    715\u001b[0m \u001b[39m# it will also try to release it and we'll have a double-release\u001b[39;00m\n\u001b[1;32m    716\u001b[0m \u001b[39m# mess.\u001b[39;00m\n\u001b[1;32m    717\u001b[0m response_conn \u001b[39m=\u001b[39m conn \u001b[39mif\u001b[39;00m \u001b[39mnot\u001b[39;00m release_conn \u001b[39melse\u001b[39;00m \u001b[39mNone\u001b[39;00m\n",
      "File \u001b[0;32m/opt/anaconda3/lib/python3.9/site-packages/urllib3/connectionpool.py:449\u001b[0m, in \u001b[0;36mHTTPConnectionPool._make_request\u001b[0;34m(self, conn, method, url, timeout, chunked, **httplib_request_kw)\u001b[0m\n\u001b[1;32m    444\u001b[0m             httplib_response \u001b[39m=\u001b[39m conn\u001b[39m.\u001b[39mgetresponse()\n\u001b[1;32m    445\u001b[0m         \u001b[39mexcept\u001b[39;00m \u001b[39mBaseException\u001b[39;00m \u001b[39mas\u001b[39;00m e:\n\u001b[1;32m    446\u001b[0m             \u001b[39m# Remove the TypeError from the exception chain in\u001b[39;00m\n\u001b[1;32m    447\u001b[0m             \u001b[39m# Python 3 (including for exceptions like SystemExit).\u001b[39;00m\n\u001b[1;32m    448\u001b[0m             \u001b[39m# Otherwise it looks like a bug in the code.\u001b[39;00m\n\u001b[0;32m--> 449\u001b[0m             six\u001b[39m.\u001b[39;49mraise_from(e, \u001b[39mNone\u001b[39;49;00m)\n\u001b[1;32m    450\u001b[0m \u001b[39mexcept\u001b[39;00m (SocketTimeout, BaseSSLError, SocketError) \u001b[39mas\u001b[39;00m e:\n\u001b[1;32m    451\u001b[0m     \u001b[39mself\u001b[39m\u001b[39m.\u001b[39m_raise_timeout(err\u001b[39m=\u001b[39me, url\u001b[39m=\u001b[39murl, timeout_value\u001b[39m=\u001b[39mread_timeout)\n",
      "File \u001b[0;32m<string>:3\u001b[0m, in \u001b[0;36mraise_from\u001b[0;34m(value, from_value)\u001b[0m\n",
      "File \u001b[0;32m/opt/anaconda3/lib/python3.9/site-packages/urllib3/connectionpool.py:444\u001b[0m, in \u001b[0;36mHTTPConnectionPool._make_request\u001b[0;34m(self, conn, method, url, timeout, chunked, **httplib_request_kw)\u001b[0m\n\u001b[1;32m    441\u001b[0m \u001b[39mexcept\u001b[39;00m \u001b[39mTypeError\u001b[39;00m:\n\u001b[1;32m    442\u001b[0m     \u001b[39m# Python 3\u001b[39;00m\n\u001b[1;32m    443\u001b[0m     \u001b[39mtry\u001b[39;00m:\n\u001b[0;32m--> 444\u001b[0m         httplib_response \u001b[39m=\u001b[39m conn\u001b[39m.\u001b[39;49mgetresponse()\n\u001b[1;32m    445\u001b[0m     \u001b[39mexcept\u001b[39;00m \u001b[39mBaseException\u001b[39;00m \u001b[39mas\u001b[39;00m e:\n\u001b[1;32m    446\u001b[0m         \u001b[39m# Remove the TypeError from the exception chain in\u001b[39;00m\n\u001b[1;32m    447\u001b[0m         \u001b[39m# Python 3 (including for exceptions like SystemExit).\u001b[39;00m\n\u001b[1;32m    448\u001b[0m         \u001b[39m# Otherwise it looks like a bug in the code.\u001b[39;00m\n\u001b[1;32m    449\u001b[0m         six\u001b[39m.\u001b[39mraise_from(e, \u001b[39mNone\u001b[39;00m)\n",
      "File \u001b[0;32m/opt/anaconda3/lib/python3.9/http/client.py:1377\u001b[0m, in \u001b[0;36mHTTPConnection.getresponse\u001b[0;34m(self)\u001b[0m\n\u001b[1;32m   1375\u001b[0m \u001b[39mtry\u001b[39;00m:\n\u001b[1;32m   1376\u001b[0m     \u001b[39mtry\u001b[39;00m:\n\u001b[0;32m-> 1377\u001b[0m         response\u001b[39m.\u001b[39;49mbegin()\n\u001b[1;32m   1378\u001b[0m     \u001b[39mexcept\u001b[39;00m \u001b[39mConnectionError\u001b[39;00m:\n\u001b[1;32m   1379\u001b[0m         \u001b[39mself\u001b[39m\u001b[39m.\u001b[39mclose()\n",
      "File \u001b[0;32m/opt/anaconda3/lib/python3.9/http/client.py:320\u001b[0m, in \u001b[0;36mHTTPResponse.begin\u001b[0;34m(self)\u001b[0m\n\u001b[1;32m    318\u001b[0m \u001b[39m# read until we get a non-100 response\u001b[39;00m\n\u001b[1;32m    319\u001b[0m \u001b[39mwhile\u001b[39;00m \u001b[39mTrue\u001b[39;00m:\n\u001b[0;32m--> 320\u001b[0m     version, status, reason \u001b[39m=\u001b[39m \u001b[39mself\u001b[39;49m\u001b[39m.\u001b[39;49m_read_status()\n\u001b[1;32m    321\u001b[0m     \u001b[39mif\u001b[39;00m status \u001b[39m!=\u001b[39m CONTINUE:\n\u001b[1;32m    322\u001b[0m         \u001b[39mbreak\u001b[39;00m\n",
      "File \u001b[0;32m/opt/anaconda3/lib/python3.9/http/client.py:281\u001b[0m, in \u001b[0;36mHTTPResponse._read_status\u001b[0;34m(self)\u001b[0m\n\u001b[1;32m    280\u001b[0m \u001b[39mdef\u001b[39;00m \u001b[39m_read_status\u001b[39m(\u001b[39mself\u001b[39m):\n\u001b[0;32m--> 281\u001b[0m     line \u001b[39m=\u001b[39m \u001b[39mstr\u001b[39m(\u001b[39mself\u001b[39;49m\u001b[39m.\u001b[39;49mfp\u001b[39m.\u001b[39;49mreadline(_MAXLINE \u001b[39m+\u001b[39;49m \u001b[39m1\u001b[39;49m), \u001b[39m\"\u001b[39m\u001b[39miso-8859-1\u001b[39m\u001b[39m\"\u001b[39m)\n\u001b[1;32m    282\u001b[0m     \u001b[39mif\u001b[39;00m \u001b[39mlen\u001b[39m(line) \u001b[39m>\u001b[39m _MAXLINE:\n\u001b[1;32m    283\u001b[0m         \u001b[39mraise\u001b[39;00m LineTooLong(\u001b[39m\"\u001b[39m\u001b[39mstatus line\u001b[39m\u001b[39m\"\u001b[39m)\n",
      "File \u001b[0;32m/opt/anaconda3/lib/python3.9/socket.py:704\u001b[0m, in \u001b[0;36mSocketIO.readinto\u001b[0;34m(self, b)\u001b[0m\n\u001b[1;32m    702\u001b[0m \u001b[39mwhile\u001b[39;00m \u001b[39mTrue\u001b[39;00m:\n\u001b[1;32m    703\u001b[0m     \u001b[39mtry\u001b[39;00m:\n\u001b[0;32m--> 704\u001b[0m         \u001b[39mreturn\u001b[39;00m \u001b[39mself\u001b[39;49m\u001b[39m.\u001b[39;49m_sock\u001b[39m.\u001b[39;49mrecv_into(b)\n\u001b[1;32m    705\u001b[0m     \u001b[39mexcept\u001b[39;00m timeout:\n\u001b[1;32m    706\u001b[0m         \u001b[39mself\u001b[39m\u001b[39m.\u001b[39m_timeout_occurred \u001b[39m=\u001b[39m \u001b[39mTrue\u001b[39;00m\n",
      "File \u001b[0;32m/opt/anaconda3/lib/python3.9/ssl.py:1241\u001b[0m, in \u001b[0;36mSSLSocket.recv_into\u001b[0;34m(self, buffer, nbytes, flags)\u001b[0m\n\u001b[1;32m   1237\u001b[0m     \u001b[39mif\u001b[39;00m flags \u001b[39m!=\u001b[39m \u001b[39m0\u001b[39m:\n\u001b[1;32m   1238\u001b[0m         \u001b[39mraise\u001b[39;00m \u001b[39mValueError\u001b[39;00m(\n\u001b[1;32m   1239\u001b[0m           \u001b[39m\"\u001b[39m\u001b[39mnon-zero flags not allowed in calls to recv_into() on \u001b[39m\u001b[39m%s\u001b[39;00m\u001b[39m\"\u001b[39m \u001b[39m%\u001b[39m\n\u001b[1;32m   1240\u001b[0m           \u001b[39mself\u001b[39m\u001b[39m.\u001b[39m\u001b[39m__class__\u001b[39m)\n\u001b[0;32m-> 1241\u001b[0m     \u001b[39mreturn\u001b[39;00m \u001b[39mself\u001b[39;49m\u001b[39m.\u001b[39;49mread(nbytes, buffer)\n\u001b[1;32m   1242\u001b[0m \u001b[39melse\u001b[39;00m:\n\u001b[1;32m   1243\u001b[0m     \u001b[39mreturn\u001b[39;00m \u001b[39msuper\u001b[39m()\u001b[39m.\u001b[39mrecv_into(buffer, nbytes, flags)\n",
      "File \u001b[0;32m/opt/anaconda3/lib/python3.9/ssl.py:1099\u001b[0m, in \u001b[0;36mSSLSocket.read\u001b[0;34m(self, len, buffer)\u001b[0m\n\u001b[1;32m   1097\u001b[0m \u001b[39mtry\u001b[39;00m:\n\u001b[1;32m   1098\u001b[0m     \u001b[39mif\u001b[39;00m buffer \u001b[39mis\u001b[39;00m \u001b[39mnot\u001b[39;00m \u001b[39mNone\u001b[39;00m:\n\u001b[0;32m-> 1099\u001b[0m         \u001b[39mreturn\u001b[39;00m \u001b[39mself\u001b[39;49m\u001b[39m.\u001b[39;49m_sslobj\u001b[39m.\u001b[39;49mread(\u001b[39mlen\u001b[39;49m, buffer)\n\u001b[1;32m   1100\u001b[0m     \u001b[39melse\u001b[39;00m:\n\u001b[1;32m   1101\u001b[0m         \u001b[39mreturn\u001b[39;00m \u001b[39mself\u001b[39m\u001b[39m.\u001b[39m_sslobj\u001b[39m.\u001b[39mread(\u001b[39mlen\u001b[39m)\n",
      "\u001b[0;31mKeyboardInterrupt\u001b[0m: "
     ]
    }
   ],
   "source": [
    "import requests\n",
    "\n",
    "url = \"https://www.tesco.com/groceries/en-GB/shop/home-and-ents/all?page=10&count=48\"\n",
    "req = requests.get(url)"
   ]
  },
  {
   "cell_type": "code",
   "execution_count": null,
   "metadata": {},
   "outputs": [],
   "source": []
  }
 ],
 "metadata": {
  "kernelspec": {
   "display_name": "base",
   "language": "python",
   "name": "python3"
  },
  "language_info": {
   "codemirror_mode": {
    "name": "ipython",
    "version": 3
   },
   "file_extension": ".py",
   "mimetype": "text/x-python",
   "name": "python",
   "nbconvert_exporter": "python",
   "pygments_lexer": "ipython3",
   "version": "3.9.12"
  },
  "orig_nbformat": 4
 },
 "nbformat": 4,
 "nbformat_minor": 2
}
