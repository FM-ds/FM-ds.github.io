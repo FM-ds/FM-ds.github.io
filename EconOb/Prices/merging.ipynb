{
 "cells": [
  {
   "cell_type": "code",
   "execution_count": 2,
   "metadata": {},
   "outputs": [],
   "source": [
    "import pandas as pd\n",
    "import numpy as np\n",
    "import time\n",
    "import datetime\n",
    "import os\n",
    "\n",
    "wd = \"/Users/finn/Documents/GitHub/RADataHub/prices/data/\""
   ]
  },
  {
   "cell_type": "code",
   "execution_count": 3,
   "metadata": {},
   "outputs": [],
   "source": [
    "# read all pkls in the folder into a list of dataframes\n",
    "base_path = \"/Users/finn/Documents/GitHub/FM-ds.github.io/EconOb/Prices/scrapes\"\n",
    "\n",
    "dfs = []\n",
    "\n",
    "\"\"\" for path in os.listdir(base_path):\n",
    "    if path.endswith('.pkl'):\n",
    "        df = pd.read_pickle(f\"{base_path}/{path}\")\n",
    "        dfs.append(df)\n",
    "df = pd.concat(dfs)\n",
    " \"\"\"\n",
    "\n",
    "to_read = [\n",
    "    \"2023_07_11_tesco.pkl\",\n",
    "]\n",
    "\n",
    "for path in to_read:\n",
    "    df = pd.read_pickle(f\"{base_path}/{path}\")\n",
    "    dfs.append(df)\n",
    "df = pd.concat(dfs)\n",
    "\n",
    "df['tesco_id'] = df['link'].astype(str).replace(\"https://www.tesco.com/groceries/en-GB/products/\", \"\", regex=True)"
   ]
  },
  {
   "attachments": {},
   "cell_type": "markdown",
   "metadata": {},
   "source": [
    "the items csv - this is horribly inneficent:"
   ]
  },
  {
   "cell_type": "code",
   "execution_count": 4,
   "metadata": {},
   "outputs": [
    {
     "name": "stderr",
     "output_type": "stream",
     "text": [
      "/var/folders/by/095_7x8j04x77vcq4_rvm1_m0000gn/T/ipykernel_1103/2603662266.py:2: DtypeWarning: Columns (9) have mixed types. Specify dtype option on import or set low_memory=False.\n",
      "  existing_items_df = pd.read_csv(f\"{wd}/db_item.csv\")\n",
      "/var/folders/by/095_7x8j04x77vcq4_rvm1_m0000gn/T/ipykernel_1103/2603662266.py:10: SettingWithCopyWarning: \n",
      "A value is trying to be set on a copy of a slice from a DataFrame.\n",
      "Try using .loc[row_indexer,col_indexer] = value instead\n",
      "\n",
      "See the caveats in the documentation: https://pandas.pydata.org/pandas-docs/stable/user_guide/indexing.html#returning-a-view-versus-a-copy\n",
      "  items_df['store_id'] = 1\n",
      "/var/folders/by/095_7x8j04x77vcq4_rvm1_m0000gn/T/ipykernel_1103/2603662266.py:11: SettingWithCopyWarning: \n",
      "A value is trying to be set on a copy of a slice from a DataFrame\n",
      "\n",
      "See the caveats in the documentation: https://pandas.pydata.org/pandas-docs/stable/user_guide/indexing.html#returning-a-view-versus-a-copy\n",
      "  items_df.rename(columns={'tesco_id': 'product_id', 'name': 'product_title', 'link':'product_url'}, inplace=True)\n",
      "/var/folders/by/095_7x8j04x77vcq4_rvm1_m0000gn/T/ipykernel_1103/2603662266.py:24: SettingWithCopyWarning: \n",
      "A value is trying to be set on a copy of a slice from a DataFrame.\n",
      "Try using .loc[row_indexer,col_indexer] = value instead\n",
      "\n",
      "See the caveats in the documentation: https://pandas.pydata.org/pandas-docs/stable/user_guide/indexing.html#returning-a-view-versus-a-copy\n",
      "  items_df['custom_id'] = items_df.apply(id, axis=1)\n",
      "/var/folders/by/095_7x8j04x77vcq4_rvm1_m0000gn/T/ipykernel_1103/2603662266.py:26: SettingWithCopyWarning: \n",
      "A value is trying to be set on a copy of a slice from a DataFrame.\n",
      "Try using .loc[row_indexer,col_indexer] = value instead\n",
      "\n",
      "See the caveats in the documentation: https://pandas.pydata.org/pandas-docs/stable/user_guide/indexing.html#returning-a-view-versus-a-copy\n",
      "  items_df['cpi_item_id'] = ''\n",
      "/var/folders/by/095_7x8j04x77vcq4_rvm1_m0000gn/T/ipykernel_1103/2603662266.py:27: SettingWithCopyWarning: \n",
      "A value is trying to be set on a copy of a slice from a DataFrame.\n",
      "Try using .loc[row_indexer,col_indexer] = value instead\n",
      "\n",
      "See the caveats in the documentation: https://pandas.pydata.org/pandas-docs/stable/user_guide/indexing.html#returning-a-view-versus-a-copy\n",
      "  items_df['brand_id'] = ''\n"
     ]
    }
   ],
   "source": [
    "# build existing list from items.csv\n",
    "existing_items_df = pd.read_csv(f\"{wd}/db_item.csv\")\n",
    "# build existing list from items.csv\n",
    "custom_ids = {}\n",
    "for index, row in existing_items_df[['store_id', 'product_id', 'custom_id']].iterrows():\n",
    "    if not np.isnan(row['custom_id']):\n",
    "        custom_ids[f\"{int(row['store_id'])}_{int(row['product_id'])}\"] = int(row['custom_id'])\n",
    "\n",
    "items_df = df[['name', 'link', 'tesco_id']]\n",
    "items_df['store_id'] = 1\n",
    "items_df.rename(columns={'tesco_id': 'product_id', 'name': 'product_title', 'link':'product_url'}, inplace=True)\n",
    "# get max custom id for tesco\n",
    "max_existing_id = existing_items_df.query('store_id == 1')['custom_id'].max()\n",
    "unassigned_ids = list(set([f\"{int(x['store_id'])}_{int(x['product_id'])}\" for index, x in items_df.iterrows()]) - set(custom_ids.keys()))\n",
    "\n",
    "# bind custom ids\n",
    "def id(x):\n",
    "    if f\"{x['store_id']}_{x['product_id']}\" in custom_ids.keys():\n",
    "        return custom_ids[f\"{x['store_id']}_{x['product_id']}\"]\n",
    "    else:\n",
    "        return max_existing_id+unassigned_ids.index(f\"{x['store_id']}_{x['product_id']}\")\n",
    "\n",
    "\n",
    "items_df['custom_id'] = items_df.apply(id, axis=1)\n",
    "\n",
    "items_df['cpi_item_id'] = ''\n",
    "items_df['brand_id'] = ''\n",
    "items_df['date_qoute_s'] = ''\n",
    "items_df['date_quote_e'] = ''\n",
    "items_df['product_breadcrumb'] = ''\n",
    "items_df['observations'] = ''\n",
    "\n",
    "items_df = items_df[['store_id','custom_id', 'cpi_item_id', 'product_id', 'brand_id', 'product_title', 'date_qoute_s', 'date_quote_e', 'observations', 'product_breadcrumb', 'product_url']]\n",
    "\n"
   ]
  },
  {
   "cell_type": "code",
   "execution_count": 5,
   "metadata": {},
   "outputs": [
    {
     "name": "stderr",
     "output_type": "stream",
     "text": [
      "/var/folders/by/095_7x8j04x77vcq4_rvm1_m0000gn/T/ipykernel_1103/2384470172.py:1: SettingWithCopyWarning: \n",
      "A value is trying to be set on a copy of a slice from a DataFrame\n",
      "\n",
      "See the caveats in the documentation: https://pandas.pydata.org/pandas-docs/stable/user_guide/indexing.html#returning-a-view-versus-a-copy\n",
      "  items_df.drop_duplicates(subset=['store_id', 'custom_id', ], inplace=True)\n"
     ]
    }
   ],
   "source": [
    "items_df.drop_duplicates(subset=['store_id', 'custom_id', ], inplace=True)"
   ]
  },
  {
   "cell_type": "code",
   "execution_count": null,
   "metadata": {},
   "outputs": [],
   "source": []
  },
  {
   "cell_type": "code",
   "execution_count": 6,
   "metadata": {},
   "outputs": [],
   "source": [
    "# append headless_csv to db_prices.csv but don't duplicate existing rows\n",
    "\n",
    "headless_items_csv = items_df.to_csv(header=False, index=False)\n",
    "\n",
    "with open(f\"{wd}db_item.csv\", \"r\") as f:\n",
    "    existing_entries = f.read().splitlines()\n",
    "    existing_entries = [line.split(\",\")[0:3] for line in existing_entries]\n",
    "\n",
    "lines_to_add = []\n",
    "with open(f\"{wd}db_item.csv\", \"a\") as f:\n",
    "    #new_lines = headless_csv.splitlines()\n",
    "    #new_lines = [line for line in new_lines if line.split(\",\")[0:3] not in existing_entries]\n",
    "    #f.write(\"\\n\".join(new_lines))\n",
    "    last_char = f.seek(0, os.SEEK_END)\n",
    "    if(last_char != \"\\n\"):\n",
    "        f.write(\"\\n\")\n",
    "\n",
    "    f.write(headless_items_csv)\n"
   ]
  },
  {
   "attachments": {},
   "cell_type": "markdown",
   "metadata": {},
   "source": [
    "the prices csv:"
   ]
  },
  {
   "cell_type": "code",
   "execution_count": 7,
   "metadata": {},
   "outputs": [
    {
     "name": "stderr",
     "output_type": "stream",
     "text": [
      "/var/folders/by/095_7x8j04x77vcq4_rvm1_m0000gn/T/ipykernel_1103/1478762346.py:3: SettingWithCopyWarning: \n",
      "A value is trying to be set on a copy of a slice from a DataFrame.\n",
      "Try using .loc[row_indexer,col_indexer] = value instead\n",
      "\n",
      "See the caveats in the documentation: https://pandas.pydata.org/pandas-docs/stable/user_guide/indexing.html#returning-a-view-versus-a-copy\n",
      "  prices_df['relative_price'] = prices_df['relative_price'].str.strip()\n",
      "/var/folders/by/095_7x8j04x77vcq4_rvm1_m0000gn/T/ipykernel_1103/1478762346.py:4: SettingWithCopyWarning: \n",
      "A value is trying to be set on a copy of a slice from a DataFrame.\n",
      "Try using .loc[row_indexer,col_indexer] = value instead\n",
      "\n",
      "See the caveats in the documentation: https://pandas.pydata.org/pandas-docs/stable/user_guide/indexing.html#returning-a-view-versus-a-copy\n",
      "  prices_df['store_id'] = 1\n",
      "/var/folders/by/095_7x8j04x77vcq4_rvm1_m0000gn/T/ipykernel_1103/1478762346.py:6: SettingWithCopyWarning: \n",
      "A value is trying to be set on a copy of a slice from a DataFrame.\n",
      "Try using .loc[row_indexer,col_indexer] = value instead\n",
      "\n",
      "See the caveats in the documentation: https://pandas.pydata.org/pandas-docs/stable/user_guide/indexing.html#returning-a-view-versus-a-copy\n",
      "  prices_df['date'] = pd.to_datetime(prices_df['scrape_time'],unit='s')\n",
      "/var/folders/by/095_7x8j04x77vcq4_rvm1_m0000gn/T/ipykernel_1103/1478762346.py:8: SettingWithCopyWarning: \n",
      "A value is trying to be set on a copy of a slice from a DataFrame.\n",
      "Try using .loc[row_indexer,col_indexer] = value instead\n",
      "\n",
      "See the caveats in the documentation: https://pandas.pydata.org/pandas-docs/stable/user_guide/indexing.html#returning-a-view-versus-a-copy\n",
      "  prices_df['date'] = prices_df['date'].dt.strftime('%Y-%m-%d')\n",
      "/var/folders/by/095_7x8j04x77vcq4_rvm1_m0000gn/T/ipykernel_1103/1478762346.py:9: SettingWithCopyWarning: \n",
      "A value is trying to be set on a copy of a slice from a DataFrame.\n",
      "Try using .loc[row_indexer,col_indexer] = value instead\n",
      "\n",
      "See the caveats in the documentation: https://pandas.pydata.org/pandas-docs/stable/user_guide/indexing.html#returning-a-view-versus-a-copy\n",
      "  prices_df['loyalty_price'] = ''\n"
     ]
    }
   ],
   "source": [
    "prices_df = df[['tesco_id','scrape_time', 'price', 'relative_price']]\n",
    "#remove leading and trailing whitespace from relative_price\n",
    "prices_df['relative_price'] = prices_df['relative_price'].str.strip()\n",
    "prices_df['store_id'] = 1\n",
    "# timestamp column to datetime\n",
    "prices_df['date'] = pd.to_datetime(prices_df['scrape_time'],unit='s')\n",
    "# format Date as YYYY-MM-DD\n",
    "prices_df['date'] = prices_df['date'].dt.strftime('%Y-%m-%d')\n",
    "prices_df['loyalty_price'] = ''\n",
    "prices_df['original_price'] = ''\n",
    "\n",
    "prices_df = prices_df[['store_id', 'tesco_id', 'date', 'price', 'original_price' , 'loyalty_price' , 'relative_price']]\n",
    "prices_df.rename(columns={'tesco_id':'product_id', 'relative_price': 'unit_price'}, inplace=True)\n",
    "\n",
    "prices_df = prices_df.drop_duplicates(subset=['store_id', 'product_id', 'date'])\n",
    "\n",
    "headless_csv = prices_df.to_csv( index=False)\n",
    "headless_csv = headless_csv[headless_csv.index(\"\\n\")+1:]\n"
   ]
  },
  {
   "cell_type": "code",
   "execution_count": 8,
   "metadata": {},
   "outputs": [
    {
     "name": "stdout",
     "output_type": "stream",
     "text": [
      "14623967\n"
     ]
    }
   ],
   "source": [
    "# append headless_csv to db_prices.csv but don't duplicate existing rows\n",
    "\n",
    "with open(f\"{wd}db_prices.csv\", \"r\") as f:\n",
    "    existing_entries = f.read().splitlines()\n",
    "    existing_entries = [line.split(\",\")[0:3] for line in existing_entries]\n",
    "\n",
    "lines_to_add = []\n",
    "with open(f\"{wd}db_prices.csv\", \"a\") as f:\n",
    "    #new_lines = headless_csv.splitlines()\n",
    "    #new_lines = [line for line in new_lines if line.split(\",\")[0:3] not in existing_entries]\n",
    "    #f.write(\"\\n\".join(new_lines))\n",
    "    last_char = f.seek(0, os.SEEK_END)\n",
    "    print(last_char)\n",
    "    if(last_char != \"\\n\"):\n",
    "        f.write(\"\\n\")\n",
    "\n",
    "    f.write(headless_csv)\n"
   ]
  },
  {
   "attachments": {},
   "cell_type": "markdown",
   "metadata": {},
   "source": [
    "the items csv:"
   ]
  },
  {
   "cell_type": "code",
   "execution_count": null,
   "metadata": {},
   "outputs": [],
   "source": [
    "dfs[5][['name', 'link', 'scrape_time', 'prices', 'price', 'relative_price']].to_csv(\"scrape_sample.csv\")"
   ]
  },
  {
   "cell_type": "code",
   "execution_count": null,
   "metadata": {},
   "outputs": [],
   "source": [
    "counts =  df.groupby('link').aggregate({'price': 'count', 'link': 'first'})\n",
    "df['date'] = pd.to_datetime(df['scrape_time'])\n",
    "in_all_ids = counts[counts['price'] > 1]['link']\n",
    "df = df[df['link'].isin(in_all_ids)]\n"
   ]
  },
  {
   "attachments": {},
   "cell_type": "markdown",
   "metadata": {},
   "source": [
    "remove duplicate rows from items csv and prices csv:"
   ]
  },
  {
   "cell_type": "code",
   "execution_count": 225,
   "metadata": {},
   "outputs": [],
   "source": [
    "lines_seen = set() # holds lines already seen\n",
    "unique_lines = []\n",
    "\n",
    "for file in [f\"{wd}db_prices.csv\", f\"{wd}db_item.csv\"]:\n",
    "    for line in open(file, \"r\"):\n",
    "        if line not in lines_seen: # not a duplicate\n",
    "            unique_lines.append(line)\n",
    "            lines_seen.add(line)\n",
    "    with open(file, \"w\") as out_file:\n",
    "        for line in unique_lines:\n",
    "            out_file.write(line)\n"
   ]
  },
  {
   "cell_type": "code",
   "execution_count": 11,
   "metadata": {},
   "outputs": [],
   "source": [
    "df = pd.read_csv(f\"{wd}db_prices.csv\")\n",
    "df = df.drop_duplicates(subset=['store_id', 'product_id', 'date'])"
   ]
  },
  {
   "cell_type": "code",
   "execution_count": 13,
   "metadata": {},
   "outputs": [],
   "source": [
    "df.to_csv(f\"{wd}db_prices.csv\", index=False)"
   ]
  },
  {
   "cell_type": "markdown",
   "metadata": {},
   "source": []
  },
  {
   "cell_type": "code",
   "execution_count": null,
   "metadata": {},
   "outputs": [
    {
     "data": {
      "text/plain": [
       "1        1970-01-01\n",
       "10       1970-01-01\n",
       "11       1970-01-01\n",
       "16       1970-01-01\n",
       "19       1970-01-01\n",
       "            ...    \n",
       "26919    1970-01-01\n",
       "26922    1970-01-01\n",
       "26923    1970-01-01\n",
       "26938    1970-01-01\n",
       "27001    1970-01-01\n",
       "Name: date, Length: 5845, dtype: object"
      ]
     },
     "execution_count": 30,
     "metadata": {},
     "output_type": "execute_result"
    }
   ],
   "source": [
    "# lose the time\n",
    "df['date'].dt.date\n"
   ]
  },
  {
   "cell_type": "code",
   "execution_count": null,
   "metadata": {},
   "outputs": [
    {
     "data": {
      "text/html": [
       "<div>\n",
       "<style scoped>\n",
       "    .dataframe tbody tr th:only-of-type {\n",
       "        vertical-align: middle;\n",
       "    }\n",
       "\n",
       "    .dataframe tbody tr th {\n",
       "        vertical-align: top;\n",
       "    }\n",
       "\n",
       "    .dataframe thead th {\n",
       "        text-align: right;\n",
       "    }\n",
       "</style>\n",
       "<table border=\"1\" class=\"dataframe\">\n",
       "  <thead>\n",
       "    <tr style=\"text-align: right;\">\n",
       "      <th></th>\n",
       "      <th>name</th>\n",
       "      <th>link</th>\n",
       "      <th>prices</th>\n",
       "      <th>category</th>\n",
       "      <th>price</th>\n",
       "      <th>relative_price</th>\n",
       "      <th>scrape_time</th>\n",
       "      <th>source_page</th>\n",
       "    </tr>\n",
       "  </thead>\n",
       "  <tbody>\n",
       "    <tr>\n",
       "      <th>0</th>\n",
       "      <td>Activia Rhubarb Yogurt 4X115g</td>\n",
       "      <td>https://www.tesco.com/groceries/en-GB/products...</td>\n",
       "      <td>[£2.50, £0.54/100g]</td>\n",
       "      <td>fresh</td>\n",
       "      <td>2.50</td>\n",
       "      <td>£0.54/100g</td>\n",
       "      <td>1.687320e+09</td>\n",
       "      <td>NaN</td>\n",
       "    </tr>\n",
       "    <tr>\n",
       "      <th>1</th>\n",
       "      <td>Danone Actimel Multifruit Drink 12X100g</td>\n",
       "      <td>https://www.tesco.com/groceries/en-GB/products...</td>\n",
       "      <td>[£4.50, £0.38/100g]</td>\n",
       "      <td>fresh</td>\n",
       "      <td>4.50</td>\n",
       "      <td>£0.38/100g</td>\n",
       "      <td>1.687320e+09</td>\n",
       "      <td>NaN</td>\n",
       "    </tr>\n",
       "    <tr>\n",
       "      <th>2</th>\n",
       "      <td>Tesco British Salted Block Butter 250G ++</td>\n",
       "      <td>https://www.tesco.com/groceries/en-GB/products...</td>\n",
       "      <td>[£1.89, £7.56/kg]</td>\n",
       "      <td>fresh</td>\n",
       "      <td>1.89</td>\n",
       "      <td>£7.56/kg</td>\n",
       "      <td>1.687320e+09</td>\n",
       "      <td>NaN</td>\n",
       "    </tr>\n",
       "    <tr>\n",
       "      <th>3</th>\n",
       "      <td>Tesco British Unsalted Butter 250G</td>\n",
       "      <td>https://www.tesco.com/groceries/en-GB/products...</td>\n",
       "      <td>[£1.89, £7.56/kg]</td>\n",
       "      <td>fresh</td>\n",
       "      <td>1.89</td>\n",
       "      <td>£7.56/kg</td>\n",
       "      <td>1.687320e+09</td>\n",
       "      <td>NaN</td>\n",
       "    </tr>\n",
       "    <tr>\n",
       "      <th>4</th>\n",
       "      <td>Tesco Semi Skimmed Milk 1.13L/2 Pints</td>\n",
       "      <td>https://www.tesco.com/groceries/en-GB/products...</td>\n",
       "      <td>[£1.25, £1.11/litre]</td>\n",
       "      <td>fresh</td>\n",
       "      <td>1.25</td>\n",
       "      <td>£1.11/litre</td>\n",
       "      <td>1.687320e+09</td>\n",
       "      <td>NaN</td>\n",
       "    </tr>\n",
       "    <tr>\n",
       "      <th>...</th>\n",
       "      <td>...</td>\n",
       "      <td>...</td>\n",
       "      <td>...</td>\n",
       "      <td>...</td>\n",
       "      <td>...</td>\n",
       "      <td>...</td>\n",
       "      <td>...</td>\n",
       "      <td>...</td>\n",
       "    </tr>\n",
       "    <tr>\n",
       "      <th>27018</th>\n",
       "      <td>Purina One Wet Chicken Beef 8X85g</td>\n",
       "      <td>https://www.tesco.com/groceries/en-GB/products...</td>\n",
       "      <td>[£4.60, £6.76/kg]</td>\n",
       "      <td>NaN</td>\n",
       "      <td>4.60</td>\n",
       "      <td>£6.76/kg</td>\n",
       "      <td>1.688064e+09</td>\n",
       "      <td>None</td>\n",
       "    </tr>\n",
       "    <tr>\n",
       "      <th>27019</th>\n",
       "      <td>Sheba Fine Flakes In Gravy Fish Selection 12 X...</td>\n",
       "      <td>https://www.tesco.com/groceries/en-GB/products...</td>\n",
       "      <td>[£5.50, £5.39/kg]</td>\n",
       "      <td>NaN</td>\n",
       "      <td>5.50</td>\n",
       "      <td>£5.39/kg</td>\n",
       "      <td>1.688064e+09</td>\n",
       "      <td>None</td>\n",
       "    </tr>\n",
       "    <tr>\n",
       "      <th>27020</th>\n",
       "      <td>Pedigree Adult Cuts In Jelly Multi Pack 6 X 385G</td>\n",
       "      <td>https://www.tesco.com/groceries/en-GB/products...</td>\n",
       "      <td>[£7.00, £3.03/kg]</td>\n",
       "      <td>NaN</td>\n",
       "      <td>7.00</td>\n",
       "      <td>£3.03/kg</td>\n",
       "      <td>1.688064e+09</td>\n",
       "      <td>None</td>\n",
       "    </tr>\n",
       "    <tr>\n",
       "      <th>27021</th>\n",
       "      <td>Lilys Kitchen Mini Beef Brgrs For Dogs 70G</td>\n",
       "      <td>https://www.tesco.com/groceries/en-GB/products...</td>\n",
       "      <td>[£3.50, £50.00/kg]</td>\n",
       "      <td>NaN</td>\n",
       "      <td>3.50</td>\n",
       "      <td>£50.00/kg</td>\n",
       "      <td>1.688064e+09</td>\n",
       "      <td>None</td>\n",
       "    </tr>\n",
       "    <tr>\n",
       "      <th>27022</th>\n",
       "      <td>Tesco Wild Bird Suet Balls 50 Pack</td>\n",
       "      <td>https://www.tesco.com/groceries/en-GB/products...</td>\n",
       "      <td>[£6.55, £0.13/each]</td>\n",
       "      <td>NaN</td>\n",
       "      <td>6.55</td>\n",
       "      <td>£0.13/each</td>\n",
       "      <td>1.688064e+09</td>\n",
       "      <td>None</td>\n",
       "    </tr>\n",
       "  </tbody>\n",
       "</table>\n",
       "<p>119402 rows × 8 columns</p>\n",
       "</div>"
      ],
      "text/plain": [
       "                                                    name  \\\n",
       "0                          Activia Rhubarb Yogurt 4X115g   \n",
       "1                Danone Actimel Multifruit Drink 12X100g   \n",
       "2              Tesco British Salted Block Butter 250G ++   \n",
       "3                     Tesco British Unsalted Butter 250G   \n",
       "4                  Tesco Semi Skimmed Milk 1.13L/2 Pints   \n",
       "...                                                  ...   \n",
       "27018                  Purina One Wet Chicken Beef 8X85g   \n",
       "27019  Sheba Fine Flakes In Gravy Fish Selection 12 X...   \n",
       "27020   Pedigree Adult Cuts In Jelly Multi Pack 6 X 385G   \n",
       "27021         Lilys Kitchen Mini Beef Brgrs For Dogs 70G   \n",
       "27022                 Tesco Wild Bird Suet Balls 50 Pack   \n",
       "\n",
       "                                                    link  \\\n",
       "0      https://www.tesco.com/groceries/en-GB/products...   \n",
       "1      https://www.tesco.com/groceries/en-GB/products...   \n",
       "2      https://www.tesco.com/groceries/en-GB/products...   \n",
       "3      https://www.tesco.com/groceries/en-GB/products...   \n",
       "4      https://www.tesco.com/groceries/en-GB/products...   \n",
       "...                                                  ...   \n",
       "27018  https://www.tesco.com/groceries/en-GB/products...   \n",
       "27019  https://www.tesco.com/groceries/en-GB/products...   \n",
       "27020  https://www.tesco.com/groceries/en-GB/products...   \n",
       "27021  https://www.tesco.com/groceries/en-GB/products...   \n",
       "27022  https://www.tesco.com/groceries/en-GB/products...   \n",
       "\n",
       "                     prices category  price relative_price   scrape_time  \\\n",
       "0       [£2.50, £0.54/100g]    fresh   2.50     £0.54/100g  1.687320e+09   \n",
       "1       [£4.50, £0.38/100g]    fresh   4.50     £0.38/100g  1.687320e+09   \n",
       "2         [£1.89, £7.56/kg]    fresh   1.89       £7.56/kg  1.687320e+09   \n",
       "3         [£1.89, £7.56/kg]    fresh   1.89       £7.56/kg  1.687320e+09   \n",
       "4      [£1.25, £1.11/litre]    fresh   1.25    £1.11/litre  1.687320e+09   \n",
       "...                     ...      ...    ...            ...           ...   \n",
       "27018     [£4.60, £6.76/kg]      NaN   4.60       £6.76/kg  1.688064e+09   \n",
       "27019     [£5.50, £5.39/kg]      NaN   5.50       £5.39/kg  1.688064e+09   \n",
       "27020     [£7.00, £3.03/kg]      NaN   7.00       £3.03/kg  1.688064e+09   \n",
       "27021    [£3.50, £50.00/kg]      NaN   3.50      £50.00/kg  1.688064e+09   \n",
       "27022   [£6.55, £0.13/each]      NaN   6.55     £0.13/each  1.688064e+09   \n",
       "\n",
       "      source_page  \n",
       "0             NaN  \n",
       "1             NaN  \n",
       "2             NaN  \n",
       "3             NaN  \n",
       "4             NaN  \n",
       "...           ...  \n",
       "27018        None  \n",
       "27019        None  \n",
       "27020        None  \n",
       "27021        None  \n",
       "27022        None  \n",
       "\n",
       "[119402 rows x 8 columns]"
      ]
     },
     "execution_count": 17,
     "metadata": {},
     "output_type": "execute_result"
    }
   ],
   "source": [
    "pd.concat(dfs)"
   ]
  },
  {
   "cell_type": "code",
   "execution_count": null,
   "metadata": {},
   "outputs": [
    {
     "data": {
      "text/plain": [
       "['failure_log.txt',\n",
       " 'scrapes',\n",
       " 'products_starttime.json',\n",
       " 'products_1687613700.4520671.json',\n",
       " 'products_fresh_food.pkl',\n",
       " 'batch.ipynb',\n",
       " '.DS_Store',\n",
       " 'products_cupboard.pkl',\n",
       " 'tesco_prices_with_embeddings.csv',\n",
       " 'products_1687876257.791008.json',\n",
       " 'products_1687608807.858767.json',\n",
       " 'cpi_with_embeddings.pkl',\n",
       " 'product_pages.pkl',\n",
       " 'products_pets.pkl',\n",
       " 'products_home_ents.pkl',\n",
       " 'products_household.pkl',\n",
       " 'products_bakery.pkl',\n",
       " 'products_1687902012.0459142.json',\n",
       " 'products_frozen.pkl',\n",
       " 'geckodriver.log',\n",
       " 'products_treats_snacks.pkl',\n",
       " 'products_health_beauty.pkl',\n",
       " 'products_baby_todler.pkl',\n",
       " 'products_1687609000.537618.json',\n",
       " 'products_1687611855.822231.json',\n",
       " 'products_1687745724.376501.json',\n",
       " 'products_drinks.pkl',\n",
       " 'success_log.txt',\n",
       " '2023_06_24_tesco.pkl',\n",
       " 'quants',\n",
       " 'tesco_prices_with_embeddings.pkl',\n",
       " 'Selenium_Tesco.ipynb']"
      ]
     },
     "execution_count": 4,
     "metadata": {},
     "output_type": "execute_result"
    }
   ],
   "source": [
    "all_files"
   ]
  },
  {
   "cell_type": "code",
   "execution_count": null,
   "metadata": {},
   "outputs": [],
   "source": []
  }
 ],
 "metadata": {
  "kernelspec": {
   "display_name": "base",
   "language": "python",
   "name": "python3"
  },
  "language_info": {
   "codemirror_mode": {
    "name": "ipython",
    "version": 3
   },
   "file_extension": ".py",
   "mimetype": "text/x-python",
   "name": "python",
   "nbconvert_exporter": "python",
   "pygments_lexer": "ipython3",
   "version": "3.9.12"
  },
  "orig_nbformat": 4
 },
 "nbformat": 4,
 "nbformat_minor": 2
}
