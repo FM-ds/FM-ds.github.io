{
 "cells": [
  {
   "cell_type": "code",
   "execution_count": 1,
   "metadata": {},
   "outputs": [],
   "source": [
    "import pandas as pd"
   ]
  },
  {
   "cell_type": "code",
   "execution_count": 8,
   "metadata": {},
   "outputs": [],
   "source": [
    "df = pd.read_excel('Data_Text_Figure.xlsx', sheet_name='Figure_1_Left_Panel')\n",
    "df = df.melt(id_vars=['Dates'], var_name='Series', value_name='Value')\n",
    "df.rename(columns={'Dates': 'Date'}, inplace=True)\n",
    "df.to_json('left_panel.json', orient='records')"
   ]
  },
  {
   "cell_type": "code",
   "execution_count": 6,
   "metadata": {},
   "outputs": [],
   "source": [
    "df = pd.read_excel('Data_Text_Figure.xlsx', sheet_name='Figure_1_Right_Panel')\n",
    "df = df.melt(id_vars=['Dates'], var_name='Series', value_name='Value')\n",
    "df.rename(columns={'Dates': 'Date'}, inplace=True)\n",
    "df.to_json('right_panel.json', orient='records')"
   ]
  },
  {
   "cell_type": "code",
   "execution_count": null,
   "metadata": {},
   "outputs": [],
   "source": []
  }
 ],
 "metadata": {
  "kernelspec": {
   "display_name": "base",
   "language": "python",
   "name": "python3"
  },
  "language_info": {
   "codemirror_mode": {
    "name": "ipython",
    "version": 3
   },
   "file_extension": ".py",
   "mimetype": "text/x-python",
   "name": "python",
   "nbconvert_exporter": "python",
   "pygments_lexer": "ipython3",
   "version": "3.9.12"
  },
  "orig_nbformat": 4
 },
 "nbformat": 4,
 "nbformat_minor": 2
}
