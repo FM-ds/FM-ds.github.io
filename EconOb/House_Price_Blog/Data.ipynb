{
 "cells": [
  {
   "cell_type": "code",
   "execution_count": 3,
   "metadata": {},
   "outputs": [],
   "source": [
    "import numpy as np\n",
    "import pandas as pd"
   ]
  },
  {
   "attachments": {},
   "cell_type": "markdown",
   "metadata": {},
   "source": [
    "### Fig 1"
   ]
  },
  {
   "cell_type": "code",
   "execution_count": 24,
   "metadata": {},
   "outputs": [],
   "source": [
    "df = pd.read_excel(\"cpi.xlsx\", skiprows=6)\n",
    "df.columns = [\"Date\"] + list(df.columns[1:])\n",
    "# parse string from form \"Jan 2019\" to datetime\n",
    "df[\"Date\"] = pd.to_datetime(df[\"Date\"], format=\"%b %Y\")\n",
    "# Rename \"CPI excl energy, food, alcohol & tobacco\" to \"CPI_excl\"\n",
    "df = df.rename(columns={\"CPI excl energy, food, alcohol & tobacco\": \"CPI_excl\"})\n",
    "# Divide everything except date by 100\n",
    "df.iloc[:, 1:] = df.iloc[:, 1:] / 100\n",
    "# Melt\n",
    "df = df.melt(id_vars=\"Date\", var_name=\"Series\", value_name=\"Value\")\n",
    "df.to_json(\"fig1_data.json\", orient=\"records\")"
   ]
  },
  {
   "attachments": {},
   "cell_type": "markdown",
   "metadata": {},
   "source": [
    "### Fig 2"
   ]
  },
  {
   "cell_type": "code",
   "execution_count": 41,
   "metadata": {},
   "outputs": [],
   "source": [
    "df = pd.read_excel(\"bank rate.xlsx\")\n",
    "df['Rate'] = df['Rate'].astype(float)/100\n",
    "df.rename(columns={'Rate': 'Value', 'Date Changed': 'Date'}, inplace=True)\n",
    "df['Series'] = 'Bank Rate'\n",
    "df = df.query(\"Date >= '05-01-2004'\")\n",
    "df.to_json(\"fig2_data.json\", orient=\"records\")"
   ]
  },
  {
   "attachments": {},
   "cell_type": "markdown",
   "metadata": {},
   "source": [
    "### Fig 3"
   ]
  },
  {
   "cell_type": "code",
   "execution_count": 66,
   "metadata": {},
   "outputs": [],
   "source": [
    "df = pd.read_excel(\"fig3_data.xlsx\")\n",
    "# Convert from 2007 Q1 to 2007-01-01, 2007 Q2 to 2007-04-01 etc\n",
    "df[\"Date\"] = df[\"Date\"].apply(lambda x: f\"{x[:4]}-{ str((int(x[-1])-1) *3 + 1).zfill(2)}-01\")\n",
    "df[\"Value\"] = df[\"Value\"]/100\n",
    "df.to_json(\"fig3_data.json\", orient=\"records\")"
   ]
  },
  {
   "attachments": {},
   "cell_type": "markdown",
   "metadata": {},
   "source": [
    "### Fig 4"
   ]
  },
  {
   "cell_type": "code",
   "execution_count": 88,
   "metadata": {},
   "outputs": [],
   "source": [
    "df = pd.read_excel(\"FTB mortgage payment.xlsx\", skiprows=4)\n",
    "df.columns = [\"Date\"] + list(df.columns[1:])\n",
    "df = df[['Date', 'UK']]\n",
    "df[\"Date\"] = df[\"Date\"].apply(lambda x: f\"{x[-4:]}-{ str((int(x[1])-1) *3 + 1).zfill(2)}-01\")\n",
    "df.rename(columns={'UK': 'Value'}, inplace=True)\n",
    "df['Series'] = 'Payments'\n",
    "df['Value'] = df['Value'].astype(float)\n",
    "# Get index of row with Date  2000-01-01\n",
    "idx = df[df['Date'] == '2000-01-01'].index[0]\n",
    "# Drop all rows before 2000-01-01\n",
    "df = df.iloc[idx:]\n",
    "df.to_json(\"fig4_data.json\", orient=\"records\")\n"
   ]
  },
  {
   "attachments": {},
   "cell_type": "markdown",
   "metadata": {},
   "source": [
    "### Fig 5"
   ]
  },
  {
   "cell_type": "code",
   "execution_count": 91,
   "metadata": {},
   "outputs": [],
   "source": [
    "df = pd.read_excel(\"fig5_data.xlsx\")\n",
    "df.to_json(\"fig5_data.json\", orient=\"records\")"
   ]
  },
  {
   "attachments": {},
   "cell_type": "markdown",
   "metadata": {},
   "source": [
    "### Fig 6"
   ]
  },
  {
   "cell_type": "code",
   "execution_count": 97,
   "metadata": {},
   "outputs": [],
   "source": [
    "df = pd.read_excel(\"fig6_data.xlsx\")\n",
    "df.to_json(\"fig6_data.json\", orient=\"records\")"
   ]
  },
  {
   "attachments": {},
   "cell_type": "markdown",
   "metadata": {},
   "source": [
    "### Fig 7"
   ]
  },
  {
   "cell_type": "code",
   "execution_count": 117,
   "metadata": {},
   "outputs": [],
   "source": [
    "df = pd.read_excel(\"regional hpi.xls\", skiprows=6)\n",
    "df.columns = ['Date'] + list(df.columns[1:])\n",
    "df = df.melt(id_vars=\"Date\", var_name=\"Series\", value_name=\"Value\")\n",
    "# Parse 2005 Feb to 2005-02-01\n",
    "df.dropna(inplace=True)\n",
    "df[\"Date\"] = pd.to_datetime(df[\"Date\"], format=\"%Y %b\")\n",
    "df.to_json(\"fig7_data.json\", orient=\"records\")\n",
    "\n"
   ]
  },
  {
   "attachments": {},
   "cell_type": "markdown",
   "metadata": {},
   "source": [
    "### Fig 8"
   ]
  },
  {
   "cell_type": "code",
   "execution_count": 129,
   "metadata": {},
   "outputs": [],
   "source": [
    "df = pd.read_excel(\"fig8_data.xlsx\")\n",
    "df = df.melt(id_vars=\"Date\", var_name=\"Series\", value_name=\"Value\")\n",
    "df = df.dropna()\n",
    "df[\"Date\"] = df[\"Date\"].apply(lambda x: f\"{x[:4]}-{ str((int(x[-1])-1) *3 + 1).zfill(2)}-01\")\n",
    "df['Value'] = df['Value'].astype(float)/100\n",
    "df.to_json(\"fig8_data.json\", orient=\"records\")\n"
   ]
  },
  {
   "attachments": {},
   "cell_type": "markdown",
   "metadata": {},
   "source": [
    "### Fig 9"
   ]
  },
  {
   "cell_type": "code",
   "execution_count": 139,
   "metadata": {},
   "outputs": [],
   "source": [
    "df = pd.read_excel(\"fig9_data.xlsx\")\n",
    "df[\"Date\"] = df[\"Date\"].apply(lambda x: f\"{x[:4]}-{ str((int(x[-1])-1) *3 + 1).zfill(2)}-01\")\n",
    "df = df.melt(id_vars=\"Date\", var_name=\"Series\", value_name=\"Value\")\n",
    "df['Value'] = df['Value'].astype(float)/100\n",
    "df.to_json(\"fig9_data.json\", orient=\"records\")"
   ]
  },
  {
   "attachments": {},
   "cell_type": "markdown",
   "metadata": {},
   "source": [
    "### Fig 10"
   ]
  },
  {
   "cell_type": "code",
   "execution_count": 153,
   "metadata": {},
   "outputs": [],
   "source": [
    "df = pd.read_excel(\"regional rental rates.xlsx\", skiprows=6)\n",
    "df.columns = ['Date'] + list(df.columns[1:])\n",
    "df = df.melt(id_vars=\"Date\", var_name=\"Series\", value_name=\"Value\")\n",
    "df.dropna(inplace=True)\n",
    "df[\"Date\"] = df[\"Date\"].str.strip()\n",
    "# Replace Long Months with Short Months to parse\n",
    "df[\"Date\"] = df[\"Date\"].str.replace(\"January\", \"Jan\")\n",
    "df[\"Date\"] = df[\"Date\"].str.replace(\"February\", \"Feb\")\n",
    "df[\"Date\"] = df[\"Date\"].str.replace(\"March\", \"Mar\")\n",
    "df[\"Date\"] = df[\"Date\"].str.replace(\"April\", \"Apr\")\n",
    "df[\"Date\"] = df[\"Date\"].str.replace(\"May\", \"May\")\n",
    "df[\"Date\"] = df[\"Date\"].str.replace(\"June\", \"Jun\")\n",
    "df[\"Date\"] = df[\"Date\"].str.replace(\"July\", \"Jul\")\n",
    "df[\"Date\"] = df[\"Date\"].str.replace(\"August\", \"Aug\")\n",
    "df[\"Date\"] = df[\"Date\"].str.replace(\"September\", \"Sep\")\n",
    "df[\"Date\"] = df[\"Date\"].str.replace(\"October\", \"Oct\")\n",
    "df[\"Date\"] = df[\"Date\"].str.replace(\"November\", \"Nov\")\n",
    "df[\"Date\"] = df[\"Date\"].str.replace(\"December\", \"Dec\")\n",
    "df[\"Date\"] = pd.to_datetime(df[\"Date\"], format=\"%b %Y\")\n",
    "df['Value'] = df['Value'].astype(float)/100\n",
    "df.to_json(\"fig10_data.json\", orient=\"records\")"
   ]
  },
  {
   "cell_type": "code",
   "execution_count": 152,
   "metadata": {},
   "outputs": [
    {
     "data": {
      "text/html": [
       "<div>\n",
       "<style scoped>\n",
       "    .dataframe tbody tr th:only-of-type {\n",
       "        vertical-align: middle;\n",
       "    }\n",
       "\n",
       "    .dataframe tbody tr th {\n",
       "        vertical-align: top;\n",
       "    }\n",
       "\n",
       "    .dataframe thead th {\n",
       "        text-align: right;\n",
       "    }\n",
       "</style>\n",
       "<table border=\"1\" class=\"dataframe\">\n",
       "  <thead>\n",
       "    <tr style=\"text-align: right;\">\n",
       "      <th></th>\n",
       "      <th>Date</th>\n",
       "      <th>Series</th>\n",
       "      <th>Value</th>\n",
       "    </tr>\n",
       "  </thead>\n",
       "  <tbody>\n",
       "    <tr>\n",
       "      <th>0</th>\n",
       "      <td>2016-01-01</td>\n",
       "      <td>UK</td>\n",
       "      <td>0.026</td>\n",
       "    </tr>\n",
       "    <tr>\n",
       "      <th>1</th>\n",
       "      <td>2016-02-01</td>\n",
       "      <td>UK</td>\n",
       "      <td>0.026</td>\n",
       "    </tr>\n",
       "    <tr>\n",
       "      <th>2</th>\n",
       "      <td>2016-03-01</td>\n",
       "      <td>UK</td>\n",
       "      <td>0.026</td>\n",
       "    </tr>\n",
       "    <tr>\n",
       "      <th>3</th>\n",
       "      <td>2016-04-01</td>\n",
       "      <td>UK</td>\n",
       "      <td>0.026</td>\n",
       "    </tr>\n",
       "    <tr>\n",
       "      <th>4</th>\n",
       "      <td>2016-05-01</td>\n",
       "      <td>UK</td>\n",
       "      <td>0.025</td>\n",
       "    </tr>\n",
       "    <tr>\n",
       "      <th>...</th>\n",
       "      <td>...</td>\n",
       "      <td>...</td>\n",
       "      <td>...</td>\n",
       "    </tr>\n",
       "    <tr>\n",
       "      <th>259</th>\n",
       "      <td>2022-12-01</td>\n",
       "      <td>London</td>\n",
       "      <td>0.040</td>\n",
       "    </tr>\n",
       "    <tr>\n",
       "      <th>260</th>\n",
       "      <td>2023-01-01</td>\n",
       "      <td>London</td>\n",
       "      <td>0.043</td>\n",
       "    </tr>\n",
       "    <tr>\n",
       "      <th>261</th>\n",
       "      <td>2023-02-01</td>\n",
       "      <td>London</td>\n",
       "      <td>0.046</td>\n",
       "    </tr>\n",
       "    <tr>\n",
       "      <th>262</th>\n",
       "      <td>2023-03-01</td>\n",
       "      <td>London</td>\n",
       "      <td>0.048</td>\n",
       "    </tr>\n",
       "    <tr>\n",
       "      <th>263</th>\n",
       "      <td>2023-04-01</td>\n",
       "      <td>London</td>\n",
       "      <td>0.050</td>\n",
       "    </tr>\n",
       "  </tbody>\n",
       "</table>\n",
       "<p>264 rows × 3 columns</p>\n",
       "</div>"
      ],
      "text/plain": [
       "          Date  Series  Value\n",
       "0   2016-01-01      UK  0.026\n",
       "1   2016-02-01      UK  0.026\n",
       "2   2016-03-01      UK  0.026\n",
       "3   2016-04-01      UK  0.026\n",
       "4   2016-05-01      UK  0.025\n",
       "..         ...     ...    ...\n",
       "259 2022-12-01  London  0.040\n",
       "260 2023-01-01  London  0.043\n",
       "261 2023-02-01  London  0.046\n",
       "262 2023-03-01  London  0.048\n",
       "263 2023-04-01  London  0.050\n",
       "\n",
       "[264 rows x 3 columns]"
      ]
     },
     "execution_count": 152,
     "metadata": {},
     "output_type": "execute_result"
    }
   ],
   "source": []
  },
  {
   "cell_type": "code",
   "execution_count": 102,
   "metadata": {},
   "outputs": [
    {
     "data": {
      "text/plain": [
       "['Date', 'England', 'Wales ', 'Scotland ', 'Northern Ireland']"
      ]
     },
     "execution_count": 102,
     "metadata": {},
     "output_type": "execute_result"
    }
   ],
   "source": [
    "['Date'] + list(df.columns[1:])"
   ]
  },
  {
   "cell_type": "code",
   "execution_count": 80,
   "metadata": {},
   "outputs": [
    {
     "data": {
      "text/plain": [
       "'1983'"
      ]
     },
     "execution_count": 80,
     "metadata": {},
     "output_type": "execute_result"
    }
   ],
   "source": [
    "\"Q1 1983\"[-4:]"
   ]
  },
  {
   "cell_type": "code",
   "execution_count": 82,
   "metadata": {},
   "outputs": [
    {
     "data": {
      "text/html": [
       "<div>\n",
       "<style scoped>\n",
       "    .dataframe tbody tr th:only-of-type {\n",
       "        vertical-align: middle;\n",
       "    }\n",
       "\n",
       "    .dataframe tbody tr th {\n",
       "        vertical-align: top;\n",
       "    }\n",
       "\n",
       "    .dataframe thead th {\n",
       "        text-align: right;\n",
       "    }\n",
       "</style>\n",
       "<table border=\"1\" class=\"dataframe\">\n",
       "  <thead>\n",
       "    <tr style=\"text-align: right;\">\n",
       "      <th></th>\n",
       "      <th>Date</th>\n",
       "      <th>Value</th>\n",
       "      <th>Series</th>\n",
       "    </tr>\n",
       "  </thead>\n",
       "  <tbody>\n",
       "    <tr>\n",
       "      <th>0</th>\n",
       "      <td>1983-01-01</td>\n",
       "      <td>0.253420</td>\n",
       "      <td>Payments</td>\n",
       "    </tr>\n",
       "    <tr>\n",
       "      <th>1</th>\n",
       "      <td>1983-04-01</td>\n",
       "      <td>0.253402</td>\n",
       "      <td>Payments</td>\n",
       "    </tr>\n",
       "    <tr>\n",
       "      <th>2</th>\n",
       "      <td>1983-07-01</td>\n",
       "      <td>0.276358</td>\n",
       "      <td>Payments</td>\n",
       "    </tr>\n",
       "    <tr>\n",
       "      <th>3</th>\n",
       "      <td>1983-10-01</td>\n",
       "      <td>0.279723</td>\n",
       "      <td>Payments</td>\n",
       "    </tr>\n",
       "    <tr>\n",
       "      <th>4</th>\n",
       "      <td>1984-01-01</td>\n",
       "      <td>0.286642</td>\n",
       "      <td>Payments</td>\n",
       "    </tr>\n",
       "    <tr>\n",
       "      <th>...</th>\n",
       "      <td>...</td>\n",
       "      <td>...</td>\n",
       "      <td>...</td>\n",
       "    </tr>\n",
       "    <tr>\n",
       "      <th>156</th>\n",
       "      <td>2022-01-01</td>\n",
       "      <td>0.303112</td>\n",
       "      <td>Payments</td>\n",
       "    </tr>\n",
       "    <tr>\n",
       "      <th>157</th>\n",
       "      <td>2022-04-01</td>\n",
       "      <td>0.318559</td>\n",
       "      <td>Payments</td>\n",
       "    </tr>\n",
       "    <tr>\n",
       "      <th>158</th>\n",
       "      <td>2022-07-01</td>\n",
       "      <td>0.335847</td>\n",
       "      <td>Payments</td>\n",
       "    </tr>\n",
       "    <tr>\n",
       "      <th>159</th>\n",
       "      <td>2022-10-01</td>\n",
       "      <td>0.349003</td>\n",
       "      <td>Payments</td>\n",
       "    </tr>\n",
       "    <tr>\n",
       "      <th>160</th>\n",
       "      <td>2023-01-01</td>\n",
       "      <td>0.370433</td>\n",
       "      <td>Payments</td>\n",
       "    </tr>\n",
       "  </tbody>\n",
       "</table>\n",
       "<p>161 rows × 3 columns</p>\n",
       "</div>"
      ],
      "text/plain": [
       "           Date     Value    Series\n",
       "0    1983-01-01  0.253420  Payments\n",
       "1    1983-04-01  0.253402  Payments\n",
       "2    1983-07-01  0.276358  Payments\n",
       "3    1983-10-01  0.279723  Payments\n",
       "4    1984-01-01  0.286642  Payments\n",
       "..          ...       ...       ...\n",
       "156  2022-01-01  0.303112  Payments\n",
       "157  2022-04-01  0.318559  Payments\n",
       "158  2022-07-01  0.335847  Payments\n",
       "159  2022-10-01  0.349003  Payments\n",
       "160  2023-01-01  0.370433  Payments\n",
       "\n",
       "[161 rows x 3 columns]"
      ]
     },
     "execution_count": 82,
     "metadata": {},
     "output_type": "execute_result"
    }
   ],
   "source": [
    "df"
   ]
  },
  {
   "attachments": {},
   "cell_type": "markdown",
   "metadata": {},
   "source": [
    "# Quarter 1: 2019-01-01, Quarter 2: 2019-04-01, Quarter 3: 2019-07-01, Quarter 4: 2019-10-01"
   ]
  },
  {
   "cell_type": "code",
   "execution_count": 52,
   "metadata": {},
   "outputs": [
    {
     "data": {
      "text/html": [
       "<div>\n",
       "<style scoped>\n",
       "    .dataframe tbody tr th:only-of-type {\n",
       "        vertical-align: middle;\n",
       "    }\n",
       "\n",
       "    .dataframe tbody tr th {\n",
       "        vertical-align: top;\n",
       "    }\n",
       "\n",
       "    .dataframe thead th {\n",
       "        text-align: right;\n",
       "    }\n",
       "</style>\n",
       "<table border=\"1\" class=\"dataframe\">\n",
       "  <thead>\n",
       "    <tr style=\"text-align: right;\">\n",
       "      <th></th>\n",
       "      <th>Date</th>\n",
       "      <th>Value</th>\n",
       "      <th>Series</th>\n",
       "    </tr>\n",
       "  </thead>\n",
       "  <tbody>\n",
       "    <tr>\n",
       "      <th>0</th>\n",
       "      <td>2007-01-01</td>\n",
       "      <td>5.336</td>\n",
       "      <td>Fixed Rate Loans</td>\n",
       "    </tr>\n",
       "    <tr>\n",
       "      <th>1</th>\n",
       "      <td>2007-02-01</td>\n",
       "      <td>5.525</td>\n",
       "      <td>Fixed Rate Loans</td>\n",
       "    </tr>\n",
       "    <tr>\n",
       "      <th>2</th>\n",
       "      <td>2007-03-01</td>\n",
       "      <td>5.770</td>\n",
       "      <td>Fixed Rate Loans</td>\n",
       "    </tr>\n",
       "    <tr>\n",
       "      <th>3</th>\n",
       "      <td>2007-04-01</td>\n",
       "      <td>6.016</td>\n",
       "      <td>Fixed Rate Loans</td>\n",
       "    </tr>\n",
       "    <tr>\n",
       "      <th>4</th>\n",
       "      <td>2008-01-01</td>\n",
       "      <td>5.924</td>\n",
       "      <td>Fixed Rate Loans</td>\n",
       "    </tr>\n",
       "    <tr>\n",
       "      <th>...</th>\n",
       "      <td>...</td>\n",
       "      <td>...</td>\n",
       "      <td>...</td>\n",
       "    </tr>\n",
       "    <tr>\n",
       "      <th>125</th>\n",
       "      <td>2022-01-01</td>\n",
       "      <td>2.351</td>\n",
       "      <td>Variable Rate Loans</td>\n",
       "    </tr>\n",
       "    <tr>\n",
       "      <th>126</th>\n",
       "      <td>2022-02-01</td>\n",
       "      <td>2.797</td>\n",
       "      <td>Variable Rate Loans</td>\n",
       "    </tr>\n",
       "    <tr>\n",
       "      <th>127</th>\n",
       "      <td>2022-03-01</td>\n",
       "      <td>3.470</td>\n",
       "      <td>Variable Rate Loans</td>\n",
       "    </tr>\n",
       "    <tr>\n",
       "      <th>128</th>\n",
       "      <td>2022-04-01</td>\n",
       "      <td>4.485</td>\n",
       "      <td>Variable Rate Loans</td>\n",
       "    </tr>\n",
       "    <tr>\n",
       "      <th>129</th>\n",
       "      <td>2023-01-01</td>\n",
       "      <td>4.996</td>\n",
       "      <td>Variable Rate Loans</td>\n",
       "    </tr>\n",
       "  </tbody>\n",
       "</table>\n",
       "<p>130 rows × 3 columns</p>\n",
       "</div>"
      ],
      "text/plain": [
       "          Date  Value               Series\n",
       "0   2007-01-01  5.336     Fixed Rate Loans\n",
       "1   2007-02-01  5.525     Fixed Rate Loans\n",
       "2   2007-03-01  5.770     Fixed Rate Loans\n",
       "3   2007-04-01  6.016     Fixed Rate Loans\n",
       "4   2008-01-01  5.924     Fixed Rate Loans\n",
       "..         ...    ...                  ...\n",
       "125 2022-01-01  2.351  Variable Rate Loans\n",
       "126 2022-02-01  2.797  Variable Rate Loans\n",
       "127 2022-03-01  3.470  Variable Rate Loans\n",
       "128 2022-04-01  4.485  Variable Rate Loans\n",
       "129 2023-01-01  4.996  Variable Rate Loans\n",
       "\n",
       "[130 rows x 3 columns]"
      ]
     },
     "execution_count": 52,
     "metadata": {},
     "output_type": "execute_result"
    }
   ],
   "source": [
    "df"
   ]
  },
  {
   "attachments": {},
   "cell_type": "markdown",
   "metadata": {},
   "source": []
  },
  {
   "cell_type": "code",
   "execution_count": 15,
   "metadata": {},
   "outputs": [
    {
     "data": {
      "text/plain": [
       "str"
      ]
     },
     "execution_count": 15,
     "metadata": {},
     "output_type": "execute_result"
    }
   ],
   "source": [
    "type(df.iloc[0].Date)"
   ]
  },
  {
   "cell_type": "code",
   "execution_count": 23,
   "metadata": {},
   "outputs": [
    {
     "data": {
      "text/html": [
       "<div>\n",
       "<style scoped>\n",
       "    .dataframe tbody tr th:only-of-type {\n",
       "        vertical-align: middle;\n",
       "    }\n",
       "\n",
       "    .dataframe tbody tr th {\n",
       "        vertical-align: top;\n",
       "    }\n",
       "\n",
       "    .dataframe thead th {\n",
       "        text-align: right;\n",
       "    }\n",
       "</style>\n",
       "<table border=\"1\" class=\"dataframe\">\n",
       "  <thead>\n",
       "    <tr style=\"text-align: right;\">\n",
       "      <th></th>\n",
       "      <th>Date</th>\n",
       "      <th>Series</th>\n",
       "      <th>Value</th>\n",
       "    </tr>\n",
       "  </thead>\n",
       "  <tbody>\n",
       "    <tr>\n",
       "      <th>0</th>\n",
       "      <td>2013-04-01</td>\n",
       "      <td>CPI</td>\n",
       "      <td>0.024</td>\n",
       "    </tr>\n",
       "    <tr>\n",
       "      <th>1</th>\n",
       "      <td>2013-05-01</td>\n",
       "      <td>CPI</td>\n",
       "      <td>0.027</td>\n",
       "    </tr>\n",
       "    <tr>\n",
       "      <th>2</th>\n",
       "      <td>2013-06-01</td>\n",
       "      <td>CPI</td>\n",
       "      <td>0.029</td>\n",
       "    </tr>\n",
       "    <tr>\n",
       "      <th>3</th>\n",
       "      <td>2013-07-01</td>\n",
       "      <td>CPI</td>\n",
       "      <td>0.028</td>\n",
       "    </tr>\n",
       "    <tr>\n",
       "      <th>4</th>\n",
       "      <td>2013-08-01</td>\n",
       "      <td>CPI</td>\n",
       "      <td>0.027</td>\n",
       "    </tr>\n",
       "    <tr>\n",
       "      <th>...</th>\n",
       "      <td>...</td>\n",
       "      <td>...</td>\n",
       "      <td>...</td>\n",
       "    </tr>\n",
       "    <tr>\n",
       "      <th>479</th>\n",
       "      <td>2022-12-01</td>\n",
       "      <td>CPI_excl</td>\n",
       "      <td>0.063</td>\n",
       "    </tr>\n",
       "    <tr>\n",
       "      <th>480</th>\n",
       "      <td>2023-01-01</td>\n",
       "      <td>CPI_excl</td>\n",
       "      <td>0.058</td>\n",
       "    </tr>\n",
       "    <tr>\n",
       "      <th>481</th>\n",
       "      <td>2023-02-01</td>\n",
       "      <td>CPI_excl</td>\n",
       "      <td>0.062</td>\n",
       "    </tr>\n",
       "    <tr>\n",
       "      <th>482</th>\n",
       "      <td>2023-03-01</td>\n",
       "      <td>CPI_excl</td>\n",
       "      <td>0.062</td>\n",
       "    </tr>\n",
       "    <tr>\n",
       "      <th>483</th>\n",
       "      <td>2023-04-01</td>\n",
       "      <td>CPI_excl</td>\n",
       "      <td>0.068</td>\n",
       "    </tr>\n",
       "  </tbody>\n",
       "</table>\n",
       "<p>484 rows × 3 columns</p>\n",
       "</div>"
      ],
      "text/plain": [
       "          Date    Series  Value\n",
       "0   2013-04-01       CPI  0.024\n",
       "1   2013-05-01       CPI  0.027\n",
       "2   2013-06-01       CPI  0.029\n",
       "3   2013-07-01       CPI  0.028\n",
       "4   2013-08-01       CPI  0.027\n",
       "..         ...       ...    ...\n",
       "479 2022-12-01  CPI_excl  0.063\n",
       "480 2023-01-01  CPI_excl  0.058\n",
       "481 2023-02-01  CPI_excl  0.062\n",
       "482 2023-03-01  CPI_excl  0.062\n",
       "483 2023-04-01  CPI_excl  0.068\n",
       "\n",
       "[484 rows x 3 columns]"
      ]
     },
     "execution_count": 23,
     "metadata": {},
     "output_type": "execute_result"
    }
   ],
   "source": [
    "df"
   ]
  },
  {
   "cell_type": "code",
   "execution_count": null,
   "metadata": {},
   "outputs": [],
   "source": []
  }
 ],
 "metadata": {
  "kernelspec": {
   "display_name": "base",
   "language": "python",
   "name": "python3"
  },
  "language_info": {
   "codemirror_mode": {
    "name": "ipython",
    "version": 3
   },
   "file_extension": ".py",
   "mimetype": "text/x-python",
   "name": "python",
   "nbconvert_exporter": "python",
   "pygments_lexer": "ipython3",
   "version": "3.9.12"
  },
  "orig_nbformat": 4
 },
 "nbformat": 4,
 "nbformat_minor": 2
}
