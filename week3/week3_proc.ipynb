{
 "cells": [
  {
   "cell_type": "code",
   "execution_count": 47,
   "metadata": {},
   "outputs": [],
   "source": [
    "import pandas as pd\n",
    "import pycountry"
   ]
  },
  {
   "cell_type": "markdown",
   "metadata": {},
   "source": [
    "## Chart 1: Maternaly Mortality vs GDP PC PPP"
   ]
  },
  {
   "cell_type": "markdown",
   "metadata": {},
   "source": [
    "a helper function for country matching:"
   ]
  },
  {
   "cell_type": "code",
   "execution_count": 98,
   "metadata": {},
   "outputs": [],
   "source": [
    "def ISO3(country_name):\n",
    "    matches = { ## Hardcoding Strings pycountry won't catch\n",
    "        'Bolivia (Plurinational State of)':'BOL',\n",
    "        'Democratic Republic of the Congo':'COD',\n",
    "        'Dem. Rep. Congo': 'COD',\n",
    "        'Iran (Islamic Republic of)':'IRN',\n",
    "        'Micronesia (Federated States of)':'FSM',\n",
    "        'Türkiye': 'TUR',\n",
    "        'TÃ¼rkiye': 'TUR',\n",
    "        'Venezuela (Bolivarian Republic of)':'VEN',\n",
    "        'Hong Kong SAR, China' : 'HKG',\n",
    "        'SÃ£o TomÃ© and Principe' : 'STP'\n",
    "    }\n",
    "    if country_name in matches:\n",
    "        return matches[country_name]\n",
    "    try:\n",
    "        return pycountry.countries.search_fuzzy(country_name)[0].alpha_3\n",
    "    except:\n",
    "        print(f'No Match for {country_name}')\n",
    "        return None"
   ]
  },
  {
   "cell_type": "code",
   "execution_count": 117,
   "metadata": {},
   "outputs": [],
   "source": [
    "def name_Flag(ISO3):\n",
    "    country = pycountry.countries.get(alpha_3=ISO3)\n",
    "    return(f'{country.name} {country.flag}')"
   ]
  },
  {
   "cell_type": "code",
   "execution_count": 255,
   "metadata": {},
   "outputs": [],
   "source": [
    "def ISO3_flag(ISO3):\n",
    "    country = pycountry.countries.get(alpha_3=ISO3)\n",
    "    return(f'{country.flag}{ISO3}')"
   ]
  },
  {
   "cell_type": "code",
   "execution_count": 95,
   "metadata": {},
   "outputs": [
    {
     "data": {
      "text/html": [
       "<div>\n",
       "<style scoped>\n",
       "    .dataframe tbody tr th:only-of-type {\n",
       "        vertical-align: middle;\n",
       "    }\n",
       "\n",
       "    .dataframe tbody tr th {\n",
       "        vertical-align: top;\n",
       "    }\n",
       "\n",
       "    .dataframe thead th {\n",
       "        text-align: right;\n",
       "    }\n",
       "</style>\n",
       "<table border=\"1\" class=\"dataframe\">\n",
       "  <thead>\n",
       "    <tr style=\"text-align: right;\">\n",
       "      <th></th>\n",
       "      <th>Year</th>\n",
       "      <th>Country</th>\n",
       "      <th>WHO region</th>\n",
       "      <th>Value Numeric</th>\n",
       "      <th>ISO3</th>\n",
       "    </tr>\n",
       "  </thead>\n",
       "  <tbody>\n",
       "    <tr>\n",
       "      <th>0</th>\n",
       "      <td>2000</td>\n",
       "      <td>Afghanistan</td>\n",
       "      <td>Eastern Mediterranean</td>\n",
       "      <td>1450</td>\n",
       "      <td>AFG</td>\n",
       "    </tr>\n",
       "    <tr>\n",
       "      <th>1</th>\n",
       "      <td>2001</td>\n",
       "      <td>Afghanistan</td>\n",
       "      <td>Eastern Mediterranean</td>\n",
       "      <td>1390</td>\n",
       "      <td>AFG</td>\n",
       "    </tr>\n",
       "    <tr>\n",
       "      <th>2</th>\n",
       "      <td>2002</td>\n",
       "      <td>Afghanistan</td>\n",
       "      <td>Eastern Mediterranean</td>\n",
       "      <td>1300</td>\n",
       "      <td>AFG</td>\n",
       "    </tr>\n",
       "    <tr>\n",
       "      <th>3</th>\n",
       "      <td>2003</td>\n",
       "      <td>Afghanistan</td>\n",
       "      <td>Eastern Mediterranean</td>\n",
       "      <td>1240</td>\n",
       "      <td>AFG</td>\n",
       "    </tr>\n",
       "    <tr>\n",
       "      <th>4</th>\n",
       "      <td>2004</td>\n",
       "      <td>Afghanistan</td>\n",
       "      <td>Eastern Mediterranean</td>\n",
       "      <td>1180</td>\n",
       "      <td>AFG</td>\n",
       "    </tr>\n",
       "    <tr>\n",
       "      <th>...</th>\n",
       "      <td>...</td>\n",
       "      <td>...</td>\n",
       "      <td>...</td>\n",
       "      <td>...</td>\n",
       "      <td>...</td>\n",
       "    </tr>\n",
       "    <tr>\n",
       "      <th>3289</th>\n",
       "      <td>2013</td>\n",
       "      <td>Zimbabwe</td>\n",
       "      <td>Africa</td>\n",
       "      <td>509</td>\n",
       "      <td>ZWE</td>\n",
       "    </tr>\n",
       "    <tr>\n",
       "      <th>3290</th>\n",
       "      <td>2014</td>\n",
       "      <td>Zimbabwe</td>\n",
       "      <td>Africa</td>\n",
       "      <td>494</td>\n",
       "      <td>ZWE</td>\n",
       "    </tr>\n",
       "    <tr>\n",
       "      <th>3291</th>\n",
       "      <td>2015</td>\n",
       "      <td>Zimbabwe</td>\n",
       "      <td>Africa</td>\n",
       "      <td>480</td>\n",
       "      <td>ZWE</td>\n",
       "    </tr>\n",
       "    <tr>\n",
       "      <th>3292</th>\n",
       "      <td>2016</td>\n",
       "      <td>Zimbabwe</td>\n",
       "      <td>Africa</td>\n",
       "      <td>468</td>\n",
       "      <td>ZWE</td>\n",
       "    </tr>\n",
       "    <tr>\n",
       "      <th>3293</th>\n",
       "      <td>2017</td>\n",
       "      <td>Zimbabwe</td>\n",
       "      <td>Africa</td>\n",
       "      <td>458</td>\n",
       "      <td>ZWE</td>\n",
       "    </tr>\n",
       "  </tbody>\n",
       "</table>\n",
       "<p>3294 rows × 5 columns</p>\n",
       "</div>"
      ],
      "text/plain": [
       "      Year      Country             WHO region  Value Numeric ISO3\n",
       "0     2000  Afghanistan  Eastern Mediterranean           1450  AFG\n",
       "1     2001  Afghanistan  Eastern Mediterranean           1390  AFG\n",
       "2     2002  Afghanistan  Eastern Mediterranean           1300  AFG\n",
       "3     2003  Afghanistan  Eastern Mediterranean           1240  AFG\n",
       "4     2004  Afghanistan  Eastern Mediterranean           1180  AFG\n",
       "...    ...          ...                    ...            ...  ...\n",
       "3289  2013     Zimbabwe                 Africa            509  ZWE\n",
       "3290  2014     Zimbabwe                 Africa            494  ZWE\n",
       "3291  2015     Zimbabwe                 Africa            480  ZWE\n",
       "3292  2016     Zimbabwe                 Africa            468  ZWE\n",
       "3293  2017     Zimbabwe                 Africa            458  ZWE\n",
       "\n",
       "[3294 rows x 5 columns]"
      ]
     },
     "execution_count": 95,
     "metadata": {},
     "output_type": "execute_result"
    }
   ],
   "source": [
    "mm_df = pd.read_excel(\"Data 2023-01-02 15-07.xlsx\", sheet_name=\"Data\")\n",
    "mm_df = mm_df[['Year', 'Country', 'WHO region', 'Value Numeric']]\n",
    "mm_df['ISO3'] = mm_df.apply(lambda row: ISO3(row.Country) , axis = 1)\n",
    "mm_df"
   ]
  },
  {
   "cell_type": "code",
   "execution_count": 48,
   "metadata": {},
   "outputs": [],
   "source": [
    "pop_df = pd.read_excel(\"WPP2022_GEN_F01_DEMOGRAPHIC_INDICATORS_COMPACT_REV1.xlsx\", skiprows=16)\n",
    "pop_df = pop_df[['Region, subregion, country or area *', 'ISO3 Alpha-code','Year', 'Total Population, as of 1 July (thousands)']]\n",
    "pop_df.columns = ['Country', 'ISO3', 'Year', 'Population']"
   ]
  },
  {
   "cell_type": "code",
   "execution_count": 39,
   "metadata": {},
   "outputs": [],
   "source": [
    "gdp_df = pd.read_csv('UNdata_Export_20230102_161208339.csv')\n",
    "gdp_df['ISO3'] = gdp_df.apply(lambda row: ISO3(row['Country or Area']) , axis = 1)"
   ]
  },
  {
   "cell_type": "code",
   "execution_count": 127,
   "metadata": {},
   "outputs": [],
   "source": [
    "df = pd.merge(left=mm_df,right=gdp_df, left_on=['ISO3','Year'], right_on=['ISO3','Year'], how='inner')\n",
    "df = df[['ISO3', 'Country', 'Year', 'Value', 'Value Numeric', 'WHO region']]\n",
    "df.columns = ['ISO3', 'Country', 'Year', 'GDP pc', 'Maternal Mortality', 'Region']\n",
    "\n",
    "df = pd.merge(df, pop_df, how='inner', left_on=['ISO3','Year'], right_on=['ISO3','Year'])\n",
    "df = df[['Year', 'ISO3', 'Country_x', 'Region', 'GDP pc', 'Maternal Mortality', 'Population']]\n",
    "df.columns = ['Year', 'ISO3', 'Country', 'Region', 'GDP pc', 'Maternal Mortality', 'Population']"
   ]
  },
  {
   "cell_type": "markdown",
   "metadata": {},
   "source": [
    "it'd be nice to have flags with the names:"
   ]
  },
  {
   "cell_type": "code",
   "execution_count": 265,
   "metadata": {},
   "outputs": [
    {
     "name": "stderr",
     "output_type": "stream",
     "text": [
      "/var/folders/by/095_7x8j04x77vcq4_rvm1_m0000gn/T/ipykernel_36937/2909896762.py:3: SettingWithCopyWarning: \n",
      "A value is trying to be set on a copy of a slice from a DataFrame.\n",
      "Try using .loc[row_indexer,col_indexer] = value instead\n",
      "\n",
      "See the caveats in the documentation: https://pandas.pydata.org/pandas-docs/stable/user_guide/indexing.html#returning-a-view-versus-a-copy\n",
      "  df['Country'] = df.apply(lambda row: countries_with_flags[row.ISO3] , axis = 1)\n",
      "/var/folders/by/095_7x8j04x77vcq4_rvm1_m0000gn/T/ipykernel_36937/2909896762.py:4: SettingWithCopyWarning: \n",
      "A value is trying to be set on a copy of a slice from a DataFrame.\n",
      "Try using .loc[row_indexer,col_indexer] = value instead\n",
      "\n",
      "See the caveats in the documentation: https://pandas.pydata.org/pandas-docs/stable/user_guide/indexing.html#returning-a-view-versus-a-copy\n",
      "  df['ISO3_flag']  = df.apply(lambda row: ISO3s_with_flags[row.ISO3] , axis = 1)\n"
     ]
    }
   ],
   "source": [
    "countries_with_flags = dict(zip(list(set(df.ISO3)),[name_Flag(ISO3) for ISO3 in set(df.ISO3)])) #Avoiding minutes of repeat calls\n",
    "ISO3s_with_flags = dict(zip(list(set(df.ISO3)),[ISO3_flag(ISO3) for ISO3 in set(df.ISO3)]))\n",
    "df['Country'] = df.apply(lambda row: countries_with_flags[row.ISO3] , axis = 1)\n",
    "df['ISO3_flag']  = df.apply(lambda row: ISO3s_with_flags[row.ISO3] , axis = 1)\n",
    "df = df.drop_duplicates(['Year', 'ISO3'])"
   ]
  },
  {
   "cell_type": "code",
   "execution_count": 266,
   "metadata": {},
   "outputs": [],
   "source": [
    "with open('mortality_gdp.json', 'w') as f:\n",
    "    f.write(df.to_json(orient='records'))"
   ]
  },
  {
   "cell_type": "code",
   "execution_count": 132,
   "metadata": {},
   "outputs": [],
   "source": [
    "df.to_excel('processed.xlsx')"
   ]
  },
  {
   "cell_type": "code",
   "execution_count": 252,
   "metadata": {},
   "outputs": [
    {
     "name": "stderr",
     "output_type": "stream",
     "text": [
      "/var/folders/by/095_7x8j04x77vcq4_rvm1_m0000gn/T/ipykernel_36937/2460847052.py:2: FutureWarning: In a future version of pandas all arguments of DataFrame.drop_duplicates except for the argument 'subset' will be keyword-only.\n",
      "  changes_df = changes_df.drop_duplicates(['Year', 'ISO3'], False)\n"
     ]
    }
   ],
   "source": [
    "changes_df = df.loc[(df.Year==2000) | (df.Year==2017)][['Year', 'Country', 'ISO3', 'Maternal Mortality']]\n",
    "changes_df = changes_df.drop_duplicates(['Year', 'ISO3'], False)\n",
    "changes_df = changes_df.pivot(index=\"ISO3\", columns=[\"Year\"], values=[\"Maternal Mortality\", 'Country'])\n"
   ]
  },
  {
   "cell_type": "code",
   "execution_count": 254,
   "metadata": {},
   "outputs": [],
   "source": [
    "changes_df.to_excel('changes.xlsx')"
   ]
  },
  {
   "cell_type": "markdown",
   "metadata": {},
   "source": [
    "### Second Chart - Healthcare Expenditure vs Life Expectency"
   ]
  },
  {
   "cell_type": "code",
   "execution_count": 356,
   "metadata": {},
   "outputs": [
    {
     "data": {
      "text/html": [
       "<div>\n",
       "<style scoped>\n",
       "    .dataframe tbody tr th:only-of-type {\n",
       "        vertical-align: middle;\n",
       "    }\n",
       "\n",
       "    .dataframe tbody tr th {\n",
       "        vertical-align: top;\n",
       "    }\n",
       "\n",
       "    .dataframe thead th {\n",
       "        text-align: right;\n",
       "    }\n",
       "</style>\n",
       "<table border=\"1\" class=\"dataframe\">\n",
       "  <thead>\n",
       "    <tr style=\"text-align: right;\">\n",
       "      <th></th>\n",
       "      <th>Country</th>\n",
       "      <th>Year</th>\n",
       "      <th>Expenditure</th>\n",
       "      <th>ISO3</th>\n",
       "    </tr>\n",
       "  </thead>\n",
       "  <tbody>\n",
       "    <tr>\n",
       "      <th>0</th>\n",
       "      <td>Australia</td>\n",
       "      <td>2010.0</td>\n",
       "      <td>3593.395</td>\n",
       "      <td>AUS</td>\n",
       "    </tr>\n",
       "    <tr>\n",
       "      <th>1</th>\n",
       "      <td>Austria</td>\n",
       "      <td>2010.0</td>\n",
       "      <td>4258.99</td>\n",
       "      <td>AUT</td>\n",
       "    </tr>\n",
       "    <tr>\n",
       "      <th>2</th>\n",
       "      <td>Belgium</td>\n",
       "      <td>2010.0</td>\n",
       "      <td>3908.473</td>\n",
       "      <td>BEL</td>\n",
       "    </tr>\n",
       "    <tr>\n",
       "      <th>3</th>\n",
       "      <td>Canada</td>\n",
       "      <td>2010.0</td>\n",
       "      <td>4155.529</td>\n",
       "      <td>CAN</td>\n",
       "    </tr>\n",
       "    <tr>\n",
       "      <th>4</th>\n",
       "      <td>Chile</td>\n",
       "      <td>2010.0</td>\n",
       "      <td>1254.254</td>\n",
       "      <td>CHL</td>\n",
       "    </tr>\n",
       "    <tr>\n",
       "      <th>...</th>\n",
       "      <td>...</td>\n",
       "      <td>...</td>\n",
       "      <td>...</td>\n",
       "      <td>...</td>\n",
       "    </tr>\n",
       "    <tr>\n",
       "      <th>451</th>\n",
       "      <td>Sweden</td>\n",
       "      <td>2021.0</td>\n",
       "      <td>6262.31</td>\n",
       "      <td>SWE</td>\n",
       "    </tr>\n",
       "    <tr>\n",
       "      <th>452</th>\n",
       "      <td>Switzerland</td>\n",
       "      <td>2021.0</td>\n",
       "      <td>..</td>\n",
       "      <td>CHE</td>\n",
       "    </tr>\n",
       "    <tr>\n",
       "      <th>453</th>\n",
       "      <td>Türkiye</td>\n",
       "      <td>2021.0</td>\n",
       "      <td>..</td>\n",
       "      <td>TUR</td>\n",
       "    </tr>\n",
       "    <tr>\n",
       "      <th>454</th>\n",
       "      <td>United Kingdom</td>\n",
       "      <td>2021.0</td>\n",
       "      <td>5387.23</td>\n",
       "      <td>GBR</td>\n",
       "    </tr>\n",
       "    <tr>\n",
       "      <th>455</th>\n",
       "      <td>United States</td>\n",
       "      <td>2021.0</td>\n",
       "      <td>12318.099</td>\n",
       "      <td>USA</td>\n",
       "    </tr>\n",
       "  </tbody>\n",
       "</table>\n",
       "<p>456 rows × 4 columns</p>\n",
       "</div>"
      ],
      "text/plain": [
       "            Country    Year Expenditure ISO3\n",
       "0         Australia  2010.0    3593.395  AUS\n",
       "1           Austria  2010.0     4258.99  AUT\n",
       "2           Belgium  2010.0    3908.473  BEL\n",
       "3            Canada  2010.0    4155.529  CAN\n",
       "4             Chile  2010.0    1254.254  CHL\n",
       "..              ...     ...         ...  ...\n",
       "451          Sweden  2021.0     6262.31  SWE\n",
       "452     Switzerland  2021.0          ..  CHE\n",
       "453         Türkiye  2021.0          ..  TUR\n",
       "454  United Kingdom  2021.0     5387.23  GBR\n",
       "455   United States  2021.0   12318.099  USA\n",
       "\n",
       "[456 rows x 4 columns]"
      ]
     },
     "execution_count": 356,
     "metadata": {},
     "output_type": "execute_result"
    }
   ],
   "source": [
    "ex_df = pd.read_excel(\"expend.xlsx\", skiprows=6)\n",
    "ex_df = ex_df.iloc[1:39, [0]+list(range(3,len(ex_df.columns)))]\n",
    "ex_df = ex_df.rename(columns={'Year':'Country'})\n",
    "ex_df = ex_df.melt(\"Country\", var_name='Year', value_name='Expenditure')\n",
    "ex_df['ISO3'] = ex_df.apply(lambda row: ISO3(row.Country) , axis = 1)\n",
    "ex_df.Year = ex_df.Year.astype('float64')\n",
    "ex_df\n"
   ]
  },
  {
   "cell_type": "code",
   "execution_count": 303,
   "metadata": {},
   "outputs": [],
   "source": [
    "le_df = pd.read_excel(\"WPP2022_GEN_F01_DEMOGRAPHIC_INDICATORS_COMPACT_REV1.xlsx\", skiprows=16)\n",
    "le_df = le_df[['Region, subregion, country or area *', 'ISO3 Alpha-code','Year', 'Life Expectancy at Birth, both sexes (years)']]\n",
    "le_df.columns = ['Country', 'ISO3', 'Year', 'Life Expectancy']"
   ]
  },
  {
   "cell_type": "code",
   "execution_count": 364,
   "metadata": {},
   "outputs": [],
   "source": [
    "df = pd.merge(ex_df, le_df, on=['ISO3', 'Year'], how='inner')\n",
    "df = df[['ISO3','Country_x','Year', 'Expenditure','Life Expectancy']]\n",
    "df = df.rename(columns={'Country_x': 'Country'})"
   ]
  },
  {
   "cell_type": "code",
   "execution_count": 365,
   "metadata": {},
   "outputs": [
    {
     "data": {
      "text/html": [
       "<div>\n",
       "<style scoped>\n",
       "    .dataframe tbody tr th:only-of-type {\n",
       "        vertical-align: middle;\n",
       "    }\n",
       "\n",
       "    .dataframe tbody tr th {\n",
       "        vertical-align: top;\n",
       "    }\n",
       "\n",
       "    .dataframe thead th {\n",
       "        text-align: right;\n",
       "    }\n",
       "</style>\n",
       "<table border=\"1\" class=\"dataframe\">\n",
       "  <thead>\n",
       "    <tr style=\"text-align: right;\">\n",
       "      <th></th>\n",
       "      <th>ISO3</th>\n",
       "      <th>Country</th>\n",
       "      <th>Year</th>\n",
       "      <th>Expenditure</th>\n",
       "      <th>Life Expectancy</th>\n",
       "    </tr>\n",
       "  </thead>\n",
       "  <tbody>\n",
       "    <tr>\n",
       "      <th>0</th>\n",
       "      <td>AUS</td>\n",
       "      <td>Australia</td>\n",
       "      <td>2010.0</td>\n",
       "      <td>3593.395</td>\n",
       "      <td>82.055</td>\n",
       "    </tr>\n",
       "    <tr>\n",
       "      <th>1</th>\n",
       "      <td>AUT</td>\n",
       "      <td>Austria</td>\n",
       "      <td>2010.0</td>\n",
       "      <td>4258.99</td>\n",
       "      <td>80.464</td>\n",
       "    </tr>\n",
       "    <tr>\n",
       "      <th>2</th>\n",
       "      <td>BEL</td>\n",
       "      <td>Belgium</td>\n",
       "      <td>2010.0</td>\n",
       "      <td>3908.473</td>\n",
       "      <td>80.033</td>\n",
       "    </tr>\n",
       "    <tr>\n",
       "      <th>3</th>\n",
       "      <td>CAN</td>\n",
       "      <td>Canada</td>\n",
       "      <td>2010.0</td>\n",
       "      <td>4155.529</td>\n",
       "      <td>81.347</td>\n",
       "    </tr>\n",
       "    <tr>\n",
       "      <th>4</th>\n",
       "      <td>CHL</td>\n",
       "      <td>Chile</td>\n",
       "      <td>2010.0</td>\n",
       "      <td>1254.254</td>\n",
       "      <td>78.501</td>\n",
       "    </tr>\n",
       "    <tr>\n",
       "      <th>...</th>\n",
       "      <td>...</td>\n",
       "      <td>...</td>\n",
       "      <td>...</td>\n",
       "      <td>...</td>\n",
       "      <td>...</td>\n",
       "    </tr>\n",
       "    <tr>\n",
       "      <th>451</th>\n",
       "      <td>SWE</td>\n",
       "      <td>Sweden</td>\n",
       "      <td>2021.0</td>\n",
       "      <td>6262.31</td>\n",
       "      <td>82.983</td>\n",
       "    </tr>\n",
       "    <tr>\n",
       "      <th>452</th>\n",
       "      <td>CHE</td>\n",
       "      <td>Switzerland</td>\n",
       "      <td>2021.0</td>\n",
       "      <td>..</td>\n",
       "      <td>83.987</td>\n",
       "    </tr>\n",
       "    <tr>\n",
       "      <th>453</th>\n",
       "      <td>TUR</td>\n",
       "      <td>Türkiye</td>\n",
       "      <td>2021.0</td>\n",
       "      <td>..</td>\n",
       "      <td>76.032</td>\n",
       "    </tr>\n",
       "    <tr>\n",
       "      <th>454</th>\n",
       "      <td>GBR</td>\n",
       "      <td>United Kingdom</td>\n",
       "      <td>2021.0</td>\n",
       "      <td>5387.23</td>\n",
       "      <td>80.742</td>\n",
       "    </tr>\n",
       "    <tr>\n",
       "      <th>455</th>\n",
       "      <td>USA</td>\n",
       "      <td>United States</td>\n",
       "      <td>2021.0</td>\n",
       "      <td>12318.099</td>\n",
       "      <td>77.198</td>\n",
       "    </tr>\n",
       "  </tbody>\n",
       "</table>\n",
       "<p>456 rows × 5 columns</p>\n",
       "</div>"
      ],
      "text/plain": [
       "    ISO3         Country    Year Expenditure Life Expectancy\n",
       "0    AUS       Australia  2010.0    3593.395          82.055\n",
       "1    AUT         Austria  2010.0     4258.99          80.464\n",
       "2    BEL         Belgium  2010.0    3908.473          80.033\n",
       "3    CAN          Canada  2010.0    4155.529          81.347\n",
       "4    CHL           Chile  2010.0    1254.254          78.501\n",
       "..   ...             ...     ...         ...             ...\n",
       "451  SWE          Sweden  2021.0     6262.31          82.983\n",
       "452  CHE     Switzerland  2021.0          ..          83.987\n",
       "453  TUR         Türkiye  2021.0          ..          76.032\n",
       "454  GBR  United Kingdom  2021.0     5387.23          80.742\n",
       "455  USA   United States  2021.0   12318.099          77.198\n",
       "\n",
       "[456 rows x 5 columns]"
      ]
     },
     "execution_count": 365,
     "metadata": {},
     "output_type": "execute_result"
    }
   ],
   "source": [
    "df"
   ]
  },
  {
   "cell_type": "code",
   "execution_count": 355,
   "metadata": {},
   "outputs": [
    {
     "data": {
      "text/plain": [
       "0      2010.0\n",
       "1      2010.0\n",
       "2      2010.0\n",
       "3      2010.0\n",
       "4      2010.0\n",
       "        ...  \n",
       "451    2021.0\n",
       "452    2021.0\n",
       "453    2021.0\n",
       "454    2021.0\n",
       "455    2021.0\n",
       "Name: Year, Length: 456, dtype: float64"
      ]
     },
     "execution_count": 355,
     "metadata": {},
     "output_type": "execute_result"
    }
   ],
   "source": []
  },
  {
   "cell_type": "code",
   "execution_count": null,
   "metadata": {},
   "outputs": [],
   "source": []
  }
 ],
 "metadata": {
  "kernelspec": {
   "display_name": "Python 3.9.12 ('base')",
   "language": "python",
   "name": "python3"
  },
  "language_info": {
   "codemirror_mode": {
    "name": "ipython",
    "version": 3
   },
   "file_extension": ".py",
   "mimetype": "text/x-python",
   "name": "python",
   "nbconvert_exporter": "python",
   "pygments_lexer": "ipython3",
   "version": "3.9.12"
  },
  "orig_nbformat": 4,
  "vscode": {
   "interpreter": {
    "hash": "40d3a090f54c6569ab1632332b64b2c03c39dcf918b08424e98f38b5ae0af88f"
   }
  }
 },
 "nbformat": 4,
 "nbformat_minor": 2
}
