{
 "cells": [
  {
   "cell_type": "code",
   "execution_count": 57,
   "metadata": {},
   "outputs": [],
   "source": [
    "import pandas as pd\n",
    "import numpy as np\n",
    "import json"
   ]
  },
  {
   "attachments": {},
   "cell_type": "markdown",
   "metadata": {},
   "source": [
    "### A Different Way"
   ]
  },
  {
   "cell_type": "code",
   "execution_count": 74,
   "metadata": {},
   "outputs": [],
   "source": [
    "world= json.load(open('/Users/finn/Downloads/mapBodge/110m.json'))\n",
    "ids = json.load(open('/Users/finn/Downloads/mapBodge/dataWorldCountryNamesIDs.json'))\n",
    "ids = {d['name']:d['id'] for d in ids}\n",
    "st_df = pd.read_csv('/Users/finn/Downloads/mapBodge/Sales Tax CSV.csv')\n",
    "vat_df = pd.read_csv('/Users/finn/Downloads/mapBodge/VAT CSV.csv')"
   ]
  },
  {
   "cell_type": "code",
   "execution_count": 75,
   "metadata": {},
   "outputs": [],
   "source": [
    "# make ids column with Country from ids dict\n",
    "st_df['id'] = st_df['Country'].map(ids)\n",
    "vat_df['id'] = vat_df['Country'].map(ids)"
   ]
  },
  {
   "cell_type": "code",
   "execution_count": 81,
   "metadata": {},
   "outputs": [],
   "source": [
    "# get all ids from world['objects']['countries']['geometries']\n",
    "ids_world = [int(d['id']) for d in world['objects']['countries']['geometries']]"
   ]
  },
  {
   "cell_type": "code",
   "execution_count": 85,
   "metadata": {},
   "outputs": [],
   "source": [
    "#insert blank rows for ids not in st_df\n",
    "for i in ids_world:\n",
    "    if i not in st_df['id'].values:\n",
    "        st_df.loc[len(st_df)] = [np.nan, np.nan, i]"
   ]
  },
  {
   "cell_type": "code",
   "execution_count": 100,
   "metadata": {},
   "outputs": [
    {
     "data": {
      "text/html": [
       "<div>\n",
       "<style scoped>\n",
       "    .dataframe tbody tr th:only-of-type {\n",
       "        vertical-align: middle;\n",
       "    }\n",
       "\n",
       "    .dataframe tbody tr th {\n",
       "        vertical-align: top;\n",
       "    }\n",
       "\n",
       "    .dataframe thead th {\n",
       "        text-align: right;\n",
       "    }\n",
       "</style>\n",
       "<table border=\"1\" class=\"dataframe\">\n",
       "  <thead>\n",
       "    <tr style=\"text-align: right;\">\n",
       "      <th></th>\n",
       "      <th>Country</th>\n",
       "      <th>Sales_Tax</th>\n",
       "      <th>id</th>\n",
       "    </tr>\n",
       "  </thead>\n",
       "  <tbody>\n",
       "  </tbody>\n",
       "</table>\n",
       "</div>"
      ],
      "text/plain": [
       "Empty DataFrame\n",
       "Columns: [Country, Sales_Tax, id]\n",
       "Index: []"
      ]
     },
     "execution_count": 100,
     "metadata": {},
     "output_type": "execute_result"
    }
   ],
   "source": [
    "st_df[st_df['Sales_Tax'] == \"\"]"
   ]
  },
  {
   "cell_type": "code",
   "execution_count": 91,
   "metadata": {},
   "outputs": [],
   "source": [
    "#insert blank rows for ids not in st_df\n",
    "for i in ids_world:\n",
    "    if i not in st_df['id'].values:\n",
    "        st_df.loc[len(st_df)] = [-1, -1, i]\n",
    "    if i not in vat_df['id'].values:\n",
    "        vat_df.loc[len(vat_df)] = [-1, -1, -1, -1, i]"
   ]
  },
  {
   "cell_type": "code",
   "execution_count": 101,
   "metadata": {},
   "outputs": [
    {
     "data": {
      "text/html": [
       "<div>\n",
       "<style scoped>\n",
       "    .dataframe tbody tr th:only-of-type {\n",
       "        vertical-align: middle;\n",
       "    }\n",
       "\n",
       "    .dataframe tbody tr th {\n",
       "        vertical-align: top;\n",
       "    }\n",
       "\n",
       "    .dataframe thead th {\n",
       "        text-align: right;\n",
       "    }\n",
       "</style>\n",
       "<table border=\"1\" class=\"dataframe\">\n",
       "  <thead>\n",
       "    <tr style=\"text-align: right;\">\n",
       "      <th></th>\n",
       "      <th>Country</th>\n",
       "      <th>Sales_Tax</th>\n",
       "      <th>id</th>\n",
       "    </tr>\n",
       "  </thead>\n",
       "  <tbody>\n",
       "    <tr>\n",
       "      <th>165</th>\n",
       "      <td>Turkey</td>\n",
       "      <td>18.0</td>\n",
       "      <td>NaN</td>\n",
       "    </tr>\n",
       "  </tbody>\n",
       "</table>\n",
       "</div>"
      ],
      "text/plain": [
       "    Country  Sales_Tax  id\n",
       "165  Turkey       18.0 NaN"
      ]
     },
     "execution_count": 101,
     "metadata": {},
     "output_type": "execute_result"
    }
   ],
   "source": [
    "st_df[st_df['Country'] == \"Turkey\"]"
   ]
  },
  {
   "cell_type": "code",
   "execution_count": 98,
   "metadata": {},
   "outputs": [
    {
     "data": {
      "text/plain": [
       "15.0    29\n",
       "18.0    22\n",
       "10.0    18\n",
       "20.0    18\n",
       "21.0     9\n",
       "16.0     9\n",
       "19.0     9\n",
       "5.0      7\n",
       "12.0     6\n",
       "13.0     5\n",
       "17.0     5\n",
       "14.0     4\n",
       "25.0     4\n",
       "24.0     3\n",
       "7.0      3\n",
       "22.0     3\n",
       "23.0     3\n",
       "7.7      2\n",
       "11.0     2\n",
       "9.0      2\n",
       "12.5     2\n",
       "3.0      1\n",
       "20.8     1\n",
       "2.0      1\n",
       "27.0     1\n",
       "19.5     1\n",
       "50.0     1\n",
       "17.5     1\n",
       "16.5     1\n",
       "7.5      1\n",
       "4.5      1\n",
       "18.9     1\n",
       "8.0      1\n",
       "0.0      1\n",
       "14.5     1\n",
       "Name: Sales_Tax, dtype: int64"
      ]
     },
     "execution_count": 98,
     "metadata": {},
     "output_type": "execute_result"
    }
   ],
   "source": [
    "st_df['Sales_Tax'].value_counts()"
   ]
  },
  {
   "cell_type": "code",
   "execution_count": 102,
   "metadata": {},
   "outputs": [],
   "source": [
    "st_df.to_csv('/Users/finn/Documents/GitHub/data/e4e6/Uncleaned Data/st.csv', index=False)\n",
    "vat_df.to_csv('/Users/finn/Documents/GitHub/data/e4e6/Uncleaned Data/vat.csv', index=False)"
   ]
  },
  {
   "cell_type": "code",
   "execution_count": null,
   "metadata": {},
   "outputs": [],
   "source": []
  },
  {
   "cell_type": "code",
   "execution_count": 60,
   "metadata": {},
   "outputs": [
    {
     "data": {
      "text/plain": [
       "{'type': 'Polygon', 'arcs': [[0, 1, 2, 3, 4, 5]], 'id': '004'}"
      ]
     },
     "execution_count": 60,
     "metadata": {},
     "output_type": "execute_result"
    }
   ],
   "source": [
    "world['objects']['countries']['geometries'][0]"
   ]
  },
  {
   "cell_type": "code",
   "execution_count": 66,
   "metadata": {},
   "outputs": [],
   "source": [
    "for country in world['objects']['countries']['geometries']:\n",
    "    country['properties'] = {\n",
    "        'foo': 'bar'\n",
    "    }"
   ]
  },
  {
   "cell_type": "code",
   "execution_count": 61,
   "metadata": {},
   "outputs": [
    {
     "name": "stdout",
     "output_type": "stream",
     "text": [
      "no vat for Antarctica\n",
      "no sales tax for Antarctica\n",
      "no vat for French Southern Territories\n",
      "no sales tax for French Southern Territories\n",
      "no vat for Bolivia (Plurinational State of)\n",
      "no sales tax for Brunei Darussalam\n",
      "no sales tax for Congo, Democratic Republic of the\n",
      "no id for -99\n",
      "no vat for Falkland Islands (Malvinas)\n",
      "no sales tax for Falkland Islands (Malvinas)\n",
      "no sales tax for Guinea-Bissau\n",
      "no sales tax for Greenland\n",
      "no sales tax for Iraq\n",
      "no sales tax for Korea, Republic of\n",
      "no id for -99\n",
      "no sales tax for Kuwait\n",
      "no sales tax for Liberia\n",
      "no sales tax for Libya\n",
      "no vat for Moldova, Republic of\n",
      "no sales tax for Moldova, Republic of\n",
      "no sales tax for North Macedonia\n",
      "no vat for New Caledonia\n",
      "no sales tax for New Caledonia\n",
      "no sales tax for Puerto Rico\n",
      "no vat for Korea (Democratic People's Republic of)\n",
      "no sales tax for Palestine, State of\n",
      "no sales tax for Qatar\n",
      "no vat for Western Sahara\n",
      "no sales tax for Western Sahara\n",
      "no sales tax for South Sudan\n",
      "no id for -99\n",
      "no vat for Slovakia\n",
      "no sales tax for Eswatini\n",
      "no vat for Syrian Arab Republic\n",
      "no sales tax for Syrian Arab Republic\n",
      "no sales tax for Timor-Leste\n",
      "no sales tax for Trinidad and Tobago\n",
      "no sales tax for Türkiye\n",
      "no sales tax for Yemen\n"
     ]
    }
   ],
   "source": [
    "for country in world['objects']['countries']['geometries']:\n",
    "    id = int(country['id'])\n",
    "    country['properties'] = {}\n",
    "    if id in ids:\n",
    "        country_name = ids[int(country['id'])]\n",
    "        country['properties']['name'] = country_name\n",
    "        if len(vat_df[vat_df['Country'] == country_name]['Standard_VAT']) == 0:\n",
    "            print('no vat for', country_name)\n",
    "            country['properties']['VAT'] = -1\n",
    "        else:\n",
    "            country['properties']['VAT'] = vat_df[vat_df['Country'] == country_name]['Standard_VAT'].values[0]\n",
    "        if len(st_df[st_df['Country'] == country_name]['Sales_Tax']) == 0:\n",
    "            print('no sales tax for', country_name)\n",
    "            country['properties']['Sales_Tax'] = -1\n",
    "        else:\n",
    "            country['properties']['Sales_Tax'] = st_df[st_df['Country'] == country_name]['Sales_Tax'].values[0]\n",
    "    else:\n",
    "        country['properties']['name'] = 'missing'\n",
    "        print('no id for', id)"
   ]
  },
  {
   "cell_type": "code",
   "execution_count": 62,
   "metadata": {},
   "outputs": [
    {
     "name": "stdout",
     "output_type": "stream",
     "text": [
      "Afghanistan 0 10.0\n",
      "Angola 14 14.0\n",
      "Albania 20 20.0\n",
      "United Arab Emirates 5 5.0\n",
      "Argentina 21 21.0\n",
      "Armenia 20 20.0\n",
      "Antarctica -1 -1\n",
      "French Southern Territories -1 -1\n",
      "Australia 10 10.0\n",
      "Austria 20 20.0\n",
      "Azerbaijan 18 18.0\n",
      "Burundi 18 18.0\n",
      "Belgium 21 21.0\n",
      "Benin 18 18.0\n",
      "Burkina Faso 18 18.0\n",
      "Bangladesh 15 15.0\n",
      "Bulgaria 20 20.0\n",
      "Bahamas 12 12.0\n",
      "Bosnia and Herzegovina 17 17.0\n",
      "Belarus 20 20.0\n",
      "Belize 12.5 12.5\n",
      "Bolivia (Plurinational State of) -1 13.0\n",
      "Brazil 20 17.0\n",
      "Brunei Darussalam 0 -1\n",
      "Bhutan 20 50.0\n",
      "Botswana 12 14.0\n",
      "Central African Republic 19 19.0\n",
      "Canada 5 5.0\n",
      "Switzerland 7.7 7.7\n",
      "Chile 19 19.0\n",
      "China 13 13.0\n",
      "Côte d'Ivoire 18 18.0\n",
      "Cameroon 19.25 19.5\n",
      "Congo, Democratic Republic of the 16 -1\n",
      "Congo 18 16.0\n",
      "Colombia 19 19.0\n",
      "Costa Rica 13 13.0\n",
      "Cuba nan 20.0\n",
      "Cyprus 19 19.0\n",
      "Czechia 21 21.0\n",
      "Germany 19 19.0\n",
      "Djibouti 10 10.0\n",
      "Denmark 25 25.0\n",
      "Dominican Republic 18 18.0\n",
      "Algeria 19 19.0\n",
      "Ecuador 12 12.0\n",
      "Egypt 14 14.0\n",
      "Eritrea 12 5.0\n",
      "Spain 21 21.0\n",
      "Estonia 20 20.0\n",
      "Ethiopia 15 15.0\n",
      "Finland 24 24.0\n",
      "Fiji 9 9.0\n",
      "Falkland Islands (Malvinas) -1 -1\n",
      "France 20 20.0\n",
      "Gabon 18 18.0\n",
      "United Kingdom of Great Britain and Northern Ireland 20 20.0\n",
      "Georgia 18 18.0\n",
      "Ghana 12.5 15.0\n",
      "Guinea 18 18.0\n",
      "Gambia 15 15.0\n",
      "Guinea-Bissau 17 -1\n",
      "Equatorial Guinea 15 15.0\n",
      "Greece 24 24.0\n",
      "Greenland 0 -1\n",
      "Guatemala 12 12.0\n",
      "Guyana 14% 14.0\n",
      "Honduras 15 15.0\n",
      "Croatia 25 25.0\n",
      "Haiti nan 10.0\n",
      "Hungary 27 27.0\n",
      "Indonesia 10 11.0\n",
      "India 18 18.0\n",
      "Ireland 23 23.0\n",
      "Iran (Islamic Republic of) 9 9.0\n",
      "Iraq nan -1\n",
      "Iceland 24 24.0\n",
      "Israel 17 17.0\n",
      "Italy 22 22.0\n",
      "Jamaica 16.5 15.0\n",
      "Jordan 16 16.0\n",
      "Japan 10 10.0\n",
      "Kazakhstan 12 12.0\n",
      "Kenya 14 16.0\n",
      "Kyrgyzstan 12 12.0\n",
      "Cambodia 10 10.0\n",
      "Korea, Republic of 10 -1\n",
      "Kuwait 0 -1\n",
      "Lao People's Democratic Republic 10 10.0\n",
      "Lebanon 11 11.0\n",
      "Liberia 10 -1\n",
      "Libya 0 -1\n",
      "Sri Lanka 8 8.0\n",
      "Lesotho nan 15.0\n",
      "Lithuania 21 21.0\n",
      "Luxembourg 17 16.0\n",
      "Latvia 21 21.0\n",
      "Morocco 20 20.0\n",
      "Moldova, Republic of -1 -1\n",
      "Madagascar 20 20.0\n",
      "Mexico 16 16.0\n",
      "North Macedonia 18 -1\n",
      "Mali nan 18.0\n",
      "Myanmar 0 5.0\n",
      "Montenegro 21 21.0\n",
      "Mongolia nan 10.0\n",
      "Mozambique 17 16.0\n",
      "Mauritania nan 16.0\n",
      "Malawi 16.5 16.5\n",
      "Malaysia 10 10.0\n",
      "Namibia 15 15.0\n",
      "New Caledonia -1 -1\n",
      "Niger 19 19.0\n",
      "Nigeria 7.5 7.5\n",
      "Nicaragua 15 15.0\n",
      "Netherlands 21 21.0\n",
      "Norway 25 25.0\n",
      "Nepal 13 13.0\n",
      "New Zealand 15 15.0\n",
      "Oman 5 5.0\n",
      "Pakistan 17 17.0\n",
      "Panama 7 7.0\n",
      "Peru 18 18.0\n",
      "Philippines 12 12.0\n",
      "Papua New Guinea 10 10.0\n",
      "Poland 23 23.0\n",
      "Puerto Rico 10.5 -1\n",
      "Korea (Democratic People's Republic of) -1 15.0\n",
      "Portugal 23 23.0\n",
      "Paraguay 10 10.0\n",
      "Palestine, State of 16 -1\n",
      "Qatar 5 -1\n",
      "Romania 19 19.0\n",
      "Russian Federation 20 20.0\n",
      "Rwanda 18 18.0\n",
      "Western Sahara -1 -1\n",
      "Saudi Arabia 5 15.0\n",
      "Sudan 17 17.0\n",
      "South Sudan 18 -1\n",
      "Senegal 18 18.0\n",
      "Solomon Islands 0 10.0\n",
      "Sierra Leone 15 15.0\n",
      "El Salvador 13 13.0\n",
      "Somalia nan 10.0\n",
      "Serbia 20 20.0\n",
      "Suriname 9 10.0\n",
      "Slovakia -1 20.0\n",
      "Slovenia 22 22.0\n",
      "Sweden 25 25.0\n",
      "Eswatini 15 -1\n",
      "Syrian Arab Republic -1 -1\n",
      "Chad 18 18.0\n",
      "Togo 18 18.0\n",
      "Thailand 7 7.0\n",
      "Tajikistan 18 15.0\n",
      "Turkmenistan 15 15.0\n",
      "Timor-Leste 2.5 -1\n",
      "Trinidad and Tobago 12.5 -1\n",
      "Tunisia 19 19.0\n",
      "Türkiye 18 -1\n",
      "Taiwan, Province of China 5 5.0\n",
      "Tanzania, United Republic of 18 18.0\n",
      "Uganda 18 18.0\n",
      "Ukraine 20 20.0\n",
      "Uruguay 22 22.0\n",
      "United States of America 12 0.0\n",
      "Uzbekistan 20 15.0\n",
      "Venezuela (Bolivarian Republic of) 16 16.0\n",
      "Viet Nam 10 10.0\n",
      "Vanuatu nan 15.0\n",
      "Yemen 5 -1\n",
      "South Africa 15 15.0\n",
      "Zambia 16 16.0\n",
      "Zimbabwe 14.5 14.5\n"
     ]
    }
   ],
   "source": [
    "for country in world['objects']['countries']['geometries']:\n",
    "    if id in ids and country['properties']['name'] != 'missing':\n",
    "        print(country['properties']['name'], country['properties']['VAT'], country['properties']['Sales_Tax'])"
   ]
  },
  {
   "cell_type": "code",
   "execution_count": 67,
   "metadata": {},
   "outputs": [
    {
     "data": {
      "text/plain": [
       "{'type': 'Polygon',\n",
       " 'arcs': [[0, 1, 2, 3, 4, 5]],\n",
       " 'id': '004',\n",
       " 'properties': {'foo': 'bar'}}"
      ]
     },
     "execution_count": 67,
     "metadata": {},
     "output_type": "execute_result"
    }
   ],
   "source": [
    "world['objects']['countries']['geometries'][0]"
   ]
  },
  {
   "cell_type": "code",
   "execution_count": 68,
   "metadata": {},
   "outputs": [],
   "source": [
    "with open('/Users/finn/Documents/GitHub/data/e4e6/Uncleaned Data/world3.json', 'w') as outfile:\n",
    "    outfile.write(json.dumps(world))"
   ]
  },
  {
   "cell_type": "code",
   "execution_count": 42,
   "metadata": {},
   "outputs": [],
   "source": [
    "json.dump(json.load(open('/Users/finn/Downloads/mapBodge/110m.json')), open('/Users/finn/Documents/GitHub/data/e4e6/Uncleaned Data/unchanged_map.json', 'w'))\n"
   ]
  },
  {
   "cell_type": "code",
   "execution_count": 14,
   "metadata": {},
   "outputs": [
    {
     "data": {
      "text/html": [
       "<div>\n",
       "<style scoped>\n",
       "    .dataframe tbody tr th:only-of-type {\n",
       "        vertical-align: middle;\n",
       "    }\n",
       "\n",
       "    .dataframe tbody tr th {\n",
       "        vertical-align: top;\n",
       "    }\n",
       "\n",
       "    .dataframe thead th {\n",
       "        text-align: right;\n",
       "    }\n",
       "</style>\n",
       "<table border=\"1\" class=\"dataframe\">\n",
       "  <thead>\n",
       "    <tr style=\"text-align: right;\">\n",
       "      <th></th>\n",
       "      <th>Country</th>\n",
       "      <th>Income</th>\n",
       "      <th>Region</th>\n",
       "      <th>Standard_VAT</th>\n",
       "    </tr>\n",
       "  </thead>\n",
       "  <tbody>\n",
       "    <tr>\n",
       "      <th>0</th>\n",
       "      <td>Afghanistan</td>\n",
       "      <td>Low income</td>\n",
       "      <td>Southern Asia</td>\n",
       "      <td>0</td>\n",
       "    </tr>\n",
       "    <tr>\n",
       "      <th>1</th>\n",
       "      <td>Albania</td>\n",
       "      <td>Upper middle income</td>\n",
       "      <td>Southern Europe</td>\n",
       "      <td>20</td>\n",
       "    </tr>\n",
       "    <tr>\n",
       "      <th>2</th>\n",
       "      <td>Algeria</td>\n",
       "      <td>Upper middle income</td>\n",
       "      <td>Northern Africa</td>\n",
       "      <td>19</td>\n",
       "    </tr>\n",
       "    <tr>\n",
       "      <th>3</th>\n",
       "      <td>American Samoa</td>\n",
       "      <td>Upper middle income</td>\n",
       "      <td>Polynesia</td>\n",
       "      <td>NaN</td>\n",
       "    </tr>\n",
       "    <tr>\n",
       "      <th>4</th>\n",
       "      <td>Andorra</td>\n",
       "      <td>High income: nonOECD</td>\n",
       "      <td>Southern Europe</td>\n",
       "      <td>4.5</td>\n",
       "    </tr>\n",
       "    <tr>\n",
       "      <th>...</th>\n",
       "      <td>...</td>\n",
       "      <td>...</td>\n",
       "      <td>...</td>\n",
       "      <td>...</td>\n",
       "    </tr>\n",
       "    <tr>\n",
       "      <th>213</th>\n",
       "      <td>Venezuela (Bolivarian Republic of)</td>\n",
       "      <td>High income: nonOECD</td>\n",
       "      <td>South America</td>\n",
       "      <td>16</td>\n",
       "    </tr>\n",
       "    <tr>\n",
       "      <th>214</th>\n",
       "      <td>Viet Nam</td>\n",
       "      <td>Lower middle income</td>\n",
       "      <td>South-Eastern Asia</td>\n",
       "      <td>10</td>\n",
       "    </tr>\n",
       "    <tr>\n",
       "      <th>215</th>\n",
       "      <td>Yemen</td>\n",
       "      <td>Lower middle income</td>\n",
       "      <td>Middle East</td>\n",
       "      <td>5</td>\n",
       "    </tr>\n",
       "    <tr>\n",
       "      <th>216</th>\n",
       "      <td>Zambia</td>\n",
       "      <td>Lower middle income</td>\n",
       "      <td>Eastern Africa</td>\n",
       "      <td>16</td>\n",
       "    </tr>\n",
       "    <tr>\n",
       "      <th>217</th>\n",
       "      <td>Zimbabwe</td>\n",
       "      <td>Low income</td>\n",
       "      <td>Eastern Africa</td>\n",
       "      <td>14.5</td>\n",
       "    </tr>\n",
       "  </tbody>\n",
       "</table>\n",
       "<p>218 rows × 4 columns</p>\n",
       "</div>"
      ],
      "text/plain": [
       "                                Country                 Income  \\\n",
       "0                           Afghanistan            Low income    \n",
       "1                               Albania   Upper middle income    \n",
       "2                               Algeria   Upper middle income    \n",
       "3                        American Samoa   Upper middle income    \n",
       "4                               Andorra  High income: nonOECD    \n",
       "..                                  ...                    ...   \n",
       "213  Venezuela (Bolivarian Republic of)  High income: nonOECD    \n",
       "214                            Viet Nam   Lower middle income    \n",
       "215                               Yemen   Lower middle income    \n",
       "216                              Zambia   Lower middle income    \n",
       "217                            Zimbabwe            Low income    \n",
       "\n",
       "                 Region Standard_VAT  \n",
       "0         Southern Asia            0  \n",
       "1       Southern Europe           20  \n",
       "2       Northern Africa           19  \n",
       "3             Polynesia          NaN  \n",
       "4       Southern Europe          4.5  \n",
       "..                  ...          ...  \n",
       "213       South America           16  \n",
       "214  South-Eastern Asia           10  \n",
       "215         Middle East            5  \n",
       "216      Eastern Africa           16  \n",
       "217      Eastern Africa         14.5  \n",
       "\n",
       "[218 rows x 4 columns]"
      ]
     },
     "execution_count": 14,
     "metadata": {},
     "output_type": "execute_result"
    }
   ],
   "source": [
    "vat_df"
   ]
  },
  {
   "cell_type": "code",
   "execution_count": 5,
   "metadata": {},
   "outputs": [
    {
     "data": {
      "text/plain": [
       "dict_keys(['type', 'objects', 'arcs', 'bbox', 'transform'])"
      ]
     },
     "execution_count": 5,
     "metadata": {},
     "output_type": "execute_result"
    }
   ],
   "source": [
    "world_json.keys"
   ]
  },
  {
   "cell_type": "code",
   "execution_count": 12,
   "metadata": {},
   "outputs": [
    {
     "data": {
      "text/plain": [
       "dict_keys(['type', 'arcs', 'id'])"
      ]
     },
     "execution_count": 12,
     "metadata": {},
     "output_type": "execute_result"
    }
   ],
   "source": [
    "world_json['objects']['countries']['geometries'][0].keys()"
   ]
  },
  {
   "cell_type": "code",
   "execution_count": null,
   "metadata": {},
   "outputs": [],
   "source": []
  }
 ],
 "metadata": {
  "kernelspec": {
   "display_name": "base",
   "language": "python",
   "name": "python3"
  },
  "language_info": {
   "codemirror_mode": {
    "name": "ipython",
    "version": 3
   },
   "file_extension": ".py",
   "mimetype": "text/x-python",
   "name": "python",
   "nbconvert_exporter": "python",
   "pygments_lexer": "ipython3",
   "version": "3.9.12"
  },
  "orig_nbformat": 4
 },
 "nbformat": 4,
 "nbformat_minor": 2
}
