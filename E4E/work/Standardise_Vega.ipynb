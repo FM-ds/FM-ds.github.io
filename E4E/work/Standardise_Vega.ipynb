{
 "cells": [
  {
   "cell_type": "code",
   "execution_count": 26,
   "metadata": {},
   "outputs": [],
   "source": [
    "import os\n",
    "import json\n",
    "\n",
    "parent = \"/Users/finn/Documents/GitHub/FM-ds.github.io/E4E/work\"\n",
    "\n",
    "ensure_subtitle_space = True\n",
    "update_descriptions = True"
   ]
  },
  {
   "attachments": {},
   "cell_type": "markdown",
   "metadata": {},
   "source": [
    "### Standardising Vega Parameters\n",
    "The code in the cell below loops through all vega-lite specs in the parent path <b> and all sub-directories </b> and standardises the parameters listed in standardise_params. It preserve any parameters not specified in standardise_params that are not sub-parameters of a parameter specified in standardise_params (e.g. would preserve title in the example below). It <will not> preserve any sub-sub-parameters (e.g. would not preserve encoding.x.title if encoding.x.scale were specified in standard_params).\n",
    "\n",
    "Additionally if ensure_subtitle_space, it ensure the final line of the subtitle is an empty line, adding one if needed. If update_descriptions is True, it will set the description of the spec to the subtitle, to ensure ARIA accesibility."
   ]
  },
  {
   "cell_type": "code",
   "execution_count": 37,
   "metadata": {},
   "outputs": [
    {
     "name": "stdout",
     "output_type": "stream",
     "text": [
      "A chart titled 'US Incomes Over Time' with subtitle 'Real Household Incomes by Percentile, Race, and Region, over time (2021 USD) source: US Census Bureau '\n",
      "A chart titled 'Household Income in South-West England' with subtitle 'Gross Domestic Household Income, Per Head (2020 Prices)  source: ONS '\n",
      "A chart titled 'Britain's Beveridge Curve' with subtitle 'Job Vacancy Rate and Unemployment Rate by Month, Both Seasonally Adjusted Source: Bureau of Labour Statistics '\n",
      "A chart titled 'Lifetime Earnings by Education' with subtitle ' Lifetime Earnings (Millions of USD) for Men and Women, with controls Estimates from Tamborini et al (2015) '\n",
      "A chart titled 'US Bond Yields' with subtitle 'Par Yield Curve Rates Since 2007, Recessions Shaded Source: US Treasury '\n",
      "A chart titled 'US Yield Curve' with subtitle '10 Year - 2 year Spread, Recessions Shaded Source: US Treasury '\n",
      "A chart titled 'Chicago Area Median Incomes' with subtitle 'Median Individual Income, Workers Only   2021 Prices, source: Census '\n",
      "A chart titled 'Who Holds America's Debt?' with subtitle ' Major Foreign Holders of US Treasury Securities Data: US Treasury '\n",
      "A chart titled 'America's Beveridge Curve' with subtitle 'Job Openings and Unemployment Rate by Month, Both Seasonally Adjusted Source: Bureau of Labour Statistics '\n",
      "A chart titled 'Chicago Area Median Incomes' with subtitle 'Median Individual Income, Workers Only   2021 Prices, source: Census  '\n",
      "A chart titled 'Who Holds America's Assets?' with subtitle ' Major Foreign Holders of US Assets Data: US Treasury '\n",
      "A chart titled 'High Growth — Low Growth' with subtitle 'Median disposable income, 2020 Prices, British Pounds '\n",
      "A chart titled 'How Families Responded' with subtitle ' Change in Employment Rate, estimates from four Negative Income Tax Experiments  Source: Robins, P. K. (1985) '\n",
      "A chart titled 'How Families Responded' with subtitle ' Reduction in Hours Worked, estimates from four Negative Income Tax Experiments  Source: Robins, P. K. (1985) '\n"
     ]
    }
   ],
   "source": [
    "\n",
    "standard_params = {\n",
    "    \"title\" : {\n",
    "        \"fontSize\": 16,\n",
    "        \"subtitleFontSize\": 12,\n",
    "        \"subtitleFontStyle\": \"italic\",\n",
    "    }\n",
    "}\n",
    "\n",
    "# NB: This preserves subparameters that are not in the standard_params dict (e.g. would preserve \"subtitle\" and \"title\")\n",
    "# But will not preserve sub-sub-parameters\n",
    "\n",
    "# Recursively walk through the directory and subdirectories\n",
    "for root, dirs, files in os.walk(parent):\n",
    "    for file in [file for file in files if file.endswith(\".json\")]: # Only look at json files\n",
    "        spec = json.load(open(os.path.join(root, file), \"r\"))\n",
    "        if '$schema' in spec and \"vega.github.io/schema\" in spec['$schema']: # Only look at vega files\n",
    "            for param in standard_params:\n",
    "                if param not in spec:\n",
    "                    spec[param] = standard_params[param]\n",
    "                else:\n",
    "                    for sub_param in standard_params[param]:\n",
    "                        spec[param][sub_param] = standard_params[param][sub_param]\n",
    "            # Also add a blank line to the subtitle if one is not present\n",
    "            if ensure_subtitle_space and \"title\" in spec:\n",
    "                if \"subtitle\" not in spec[\"title\"]:\n",
    "                    spec[\"title\"][\"subtitle\"] = \"\"\n",
    "                elif type(spec[\"title\"][\"subtitle\"]) != list:\n",
    "                    spec[\"title\"][\"subtitle\"] = [spec[\"title\"][\"subtitle\"], \"\"]\n",
    "                elif len(spec[\"title\"][\"subtitle\"][-1]) > 1:\n",
    "                    spec[\"title\"][\"subtitle\"].append(\"\")\n",
    "            # Update descriptions\n",
    "            if update_descriptions and \"subtitle\" in spec[\"title\"] and \"text\" in spec[\"title\"]:\n",
    "                print( \"A chart titled '\" + spec[\"title\"][\"text\"] + \"' with subtitle '\" + \" \".join(spec[\"title\"][\"subtitle\"]) + \"'\")\n",
    "                spec[\"description\"] = \"A chart titled '\" + spec[\"title\"][\"text\"] + \"' with subtitle '\" + \" \".join(spec[\"title\"][\"subtitle\"])\n",
    "            json.dump(spec, open(os.path.join(root, file), \"w\"), indent=2) # Overwrite the file\n"
   ]
  },
  {
   "cell_type": "code",
   "execution_count": 24,
   "metadata": {},
   "outputs": [
    {
     "data": {
      "text/plain": [
       "'hello world'"
      ]
     },
     "execution_count": 24,
     "metadata": {},
     "output_type": "execute_result"
    }
   ],
   "source": [
    "\" \".join([\"hello\", \"world\"])"
   ]
  },
  {
   "cell_type": "code",
   "execution_count": null,
   "metadata": {},
   "outputs": [],
   "source": []
  }
 ],
 "metadata": {
  "kernelspec": {
   "display_name": "base",
   "language": "python",
   "name": "python3"
  },
  "language_info": {
   "codemirror_mode": {
    "name": "ipython",
    "version": 3
   },
   "file_extension": ".py",
   "mimetype": "text/x-python",
   "name": "python",
   "nbconvert_exporter": "python",
   "pygments_lexer": "ipython3",
   "version": "3.9.12"
  },
  "orig_nbformat": 4
 },
 "nbformat": 4,
 "nbformat_minor": 2
}
