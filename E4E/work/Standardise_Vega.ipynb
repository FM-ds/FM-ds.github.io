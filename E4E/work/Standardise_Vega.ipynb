{
 "cells": [
  {
   "cell_type": "code",
   "execution_count": 22,
   "metadata": {},
   "outputs": [],
   "source": [
    "import os\n",
    "import json\n",
    "\n",
    "parent = \"/Users/finn/Documents/GitHub/FM-ds.github.io/E4E/work\"\n",
    "\n",
    "ensure_subtitle_space = True\n",
    "update_descriptions = True"
   ]
  },
  {
   "attachments": {},
   "cell_type": "markdown",
   "metadata": {},
   "source": [
    "### Standardising Vega Parameters\n",
    "The code in the cell below loops through all vega-lite specs in the parent path <b> and all sub-directories </b> and standardises the parameters listed in standardise_params. It preserve any parameters not specified in standardise_params that are not sub-parameters of a parameter specified in standardise_params (e.g. would preserve title in the example below). It <will not> preserve any sub-sub-parameters (e.g. would not preserve encoding.x.title if encoding.x.scale were specified in standard_params).\n",
    "\n",
    "Additionally if ensure_subtitle_space, it ensure the final line of the subtitle is an empty line, adding one if needed. If update_descriptions is True, it will set the description of the spec to the subtitle, to ensure ARIA accesibility."
   ]
  },
  {
   "cell_type": "code",
   "execution_count": null,
   "metadata": {},
   "outputs": [],
   "source": [
    "\n",
    "standard_params = {\n",
    "    \"title\" : {\n",
    "        \"fontSize\": 16,\n",
    "        \"subtitleFontSize\": 12,\n",
    "        \"subtitleFontStyle\": \"italic\",\n",
    "    }\n",
    "}\n",
    "\n",
    "# NB: This preserves subparameters that are not in the standard_params dict (e.g. would preserve \"subtitle\" and \"title\")\n",
    "# But will not preserve sub-sub-parameters\n",
    "\n",
    "# Recursively walk through the directory and subdirectories\n",
    "for root, dirs, files in os.walk(parent):\n",
    "    for file in [file for file in files if file.endswith(\".json\")]: # Only look at json files\n",
    "        spec = json.load(open(os.path.join(root, file), \"r\"))\n",
    "        if '$schema' in spec and \"vega.github.io/schema\" in spec['$schema']: # Only look at vega files\n",
    "            for param in standard_params:\n",
    "                if param not in spec:\n",
    "                    spec[param] = standard_params[param]\n",
    "                else:\n",
    "                    for sub_param in standard_params[param]:\n",
    "                        spec[param][sub_param] = standard_params[param][sub_param]\n",
    "            # Also add a blank line to the subtitle if one is not present\n",
    "            if \"subtitle\" in spec[\"title\"]:\n",
    "                if type(spec[\"title\"][\"subtitle\"]) != list:\n",
    "                    spec[\"title\"][\"subtitle\"] = [spec[\"title\"][\"subtitle\"], \"\"]\n",
    "                elif len(spec[\"title\"][\"subtitle\"][-1]) > 1:\n",
    "                    spec[\"title\"][\"subtitle\"].append(\"\")\n",
    "            json.dump(spec, open(os.path.join(root, file), \"w\")) # Overwrite the file\n"
   ]
  }
 ],
 "metadata": {
  "kernelspec": {
   "display_name": "base",
   "language": "python",
   "name": "python3"
  },
  "language_info": {
   "codemirror_mode": {
    "name": "ipython",
    "version": 3
   },
   "file_extension": ".py",
   "mimetype": "text/x-python",
   "name": "python",
   "nbconvert_exporter": "python",
   "pygments_lexer": "ipython3",
   "version": "3.9.12"
  },
  "orig_nbformat": 4
 },
 "nbformat": 4,
 "nbformat_minor": 2
}
